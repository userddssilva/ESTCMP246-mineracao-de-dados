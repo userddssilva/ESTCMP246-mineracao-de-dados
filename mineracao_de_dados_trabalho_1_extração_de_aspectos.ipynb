{
  "nbformat": 4,
  "nbformat_minor": 0,
  "metadata": {
    "colab": {
      "name": "mineracao-de-dados-trabalho-1-extração-de-aspectos",
      "provenance": [],
      "collapsed_sections": [],
      "include_colab_link": true
    },
    "kernelspec": {
      "name": "python3",
      "display_name": "Python 3"
    },
    "language_info": {
      "name": "python"
    }
  },
  "cells": [
    {
      "cell_type": "markdown",
      "metadata": {
        "id": "view-in-github",
        "colab_type": "text"
      },
      "source": [
        "<a href=\"https://colab.research.google.com/github/userddssilva/ESTCMP246-mineracao-de-dados/blob/main/mineracao_de_dados_trabalho_1_extra%C3%A7%C3%A3o_de_aspectos.ipynb\" target=\"_parent\"><img src=\"https://colab.research.google.com/assets/colab-badge.svg\" alt=\"Open In Colab\"/></a>"
      ]
    },
    {
      "cell_type": "markdown",
      "metadata": {
        "id": "RwwEgFumZ5lf"
      },
      "source": [
        "# Implementação de regras para Extração de Aspectos em Sentenças"
      ]
    },
    {
      "cell_type": "markdown",
      "metadata": {
        "id": "KxN1_oCna49R"
      },
      "source": [
        "Universidade do Estado do Amazonas\n",
        "\n",
        "Escola Superior de Tecnologia \n",
        "\n",
        "Disciplina de Mineração de dados\n"
      ]
    },
    {
      "cell_type": "markdown",
      "metadata": {
        "id": "zf0TYHLsbJTk"
      },
      "source": [
        "- Dayvson dos Santos Silva - ddss.snf19@uea.edu.br\n",
        "- Bonifacio Leite De Oliveira Filho - bldof.eng16@uea.edu.br\n"
      ]
    },
    {
      "cell_type": "markdown",
      "metadata": {
        "id": "bm5YsBUPbjaE"
      },
      "source": [
        "## Instalandos as *libs* usadas no processo de extração"
      ]
    },
    {
      "cell_type": "code",
      "metadata": {
        "colab": {
          "base_uri": "https://localhost:8080/"
        },
        "id": "ECwKewXLZjkm",
        "outputId": "2c077cf8-6462-47fa-8f77-b11d89247360"
      },
      "source": [
        "# installing https://spacy.io/\n",
        "!pip install --upgrade spacy \n",
        "!python -m spacy\n",
        "!python -m spacy download pt_core_news_lg\n",
        "!pip install senticnet\n",
        "!python setup.py install\n",
        "!python -m spacy download en_core_web_lg"
      ],
      "execution_count": 1,
      "outputs": [
        {
          "output_type": "stream",
          "text": [
            "Collecting spacy\n",
            "\u001b[?25l  Downloading https://files.pythonhosted.org/packages/1b/d8/0361bbaf7a1ff56b44dca04dace54c82d63dad7475b7d25ea1baefafafb2/spacy-3.0.6-cp37-cp37m-manylinux2014_x86_64.whl (12.8MB)\n",
            "\u001b[K     |████████████████████████████████| 12.8MB 5.2MB/s \n",
            "\u001b[?25hCollecting srsly<3.0.0,>=2.4.1\n",
            "\u001b[?25l  Downloading https://files.pythonhosted.org/packages/c3/84/dfdfc9f6f04f6b88207d96d9520b911e5fec0c67ff47a0dea31ab5429a1e/srsly-2.4.1-cp37-cp37m-manylinux2014_x86_64.whl (456kB)\n",
            "\u001b[K     |████████████████████████████████| 460kB 34.2MB/s \n",
            "\u001b[?25hRequirement already satisfied, skipping upgrade: typing-extensions<4.0.0.0,>=3.7.4; python_version < \"3.8\" in /usr/local/lib/python3.7/dist-packages (from spacy) (3.7.4.3)\n",
            "Requirement already satisfied, skipping upgrade: setuptools in /usr/local/lib/python3.7/dist-packages (from spacy) (57.0.0)\n",
            "Collecting spacy-legacy<3.1.0,>=3.0.4\n",
            "  Downloading https://files.pythonhosted.org/packages/8d/67/d4002a18e26bf29b17ab563ddb55232b445ab6a02f97bf17d1345ff34d3f/spacy_legacy-3.0.5-py2.py3-none-any.whl\n",
            "Collecting thinc<8.1.0,>=8.0.3\n",
            "\u001b[?25l  Downloading https://files.pythonhosted.org/packages/61/87/decceba68a0c6ca356ddcb6aea8b2500e71d9bc187f148aae19b747b7d3c/thinc-8.0.3-cp37-cp37m-manylinux2014_x86_64.whl (1.1MB)\n",
            "\u001b[K     |████████████████████████████████| 1.1MB 27.1MB/s \n",
            "\u001b[?25hRequirement already satisfied, skipping upgrade: murmurhash<1.1.0,>=0.28.0 in /usr/local/lib/python3.7/dist-packages (from spacy) (1.0.5)\n",
            "Requirement already satisfied, skipping upgrade: packaging>=20.0 in /usr/local/lib/python3.7/dist-packages (from spacy) (20.9)\n",
            "Requirement already satisfied, skipping upgrade: jinja2 in /usr/local/lib/python3.7/dist-packages (from spacy) (2.11.3)\n",
            "Requirement already satisfied, skipping upgrade: numpy>=1.15.0 in /usr/local/lib/python3.7/dist-packages (from spacy) (1.19.5)\n",
            "Collecting pathy>=0.3.5\n",
            "\u001b[?25l  Downloading https://files.pythonhosted.org/packages/13/87/5991d87be8ed60beb172b4062dbafef18b32fa559635a8e2b633c2974f85/pathy-0.5.2-py3-none-any.whl (42kB)\n",
            "\u001b[K     |████████████████████████████████| 51kB 5.3MB/s \n",
            "\u001b[?25hRequirement already satisfied, skipping upgrade: wasabi<1.1.0,>=0.8.1 in /usr/local/lib/python3.7/dist-packages (from spacy) (0.8.2)\n",
            "Collecting typer<0.4.0,>=0.3.0\n",
            "  Downloading https://files.pythonhosted.org/packages/90/34/d138832f6945432c638f32137e6c79a3b682f06a63c488dcfaca6b166c64/typer-0.3.2-py3-none-any.whl\n",
            "Requirement already satisfied, skipping upgrade: requests<3.0.0,>=2.13.0 in /usr/local/lib/python3.7/dist-packages (from spacy) (2.23.0)\n",
            "Requirement already satisfied, skipping upgrade: cymem<2.1.0,>=2.0.2 in /usr/local/lib/python3.7/dist-packages (from spacy) (2.0.5)\n",
            "Collecting catalogue<2.1.0,>=2.0.3\n",
            "  Downloading https://files.pythonhosted.org/packages/9c/10/dbc1203a4b1367c7b02fddf08cb2981d9aa3e688d398f587cea0ab9e3bec/catalogue-2.0.4-py3-none-any.whl\n",
            "Requirement already satisfied, skipping upgrade: blis<0.8.0,>=0.4.0 in /usr/local/lib/python3.7/dist-packages (from spacy) (0.4.1)\n",
            "Requirement already satisfied, skipping upgrade: tqdm<5.0.0,>=4.38.0 in /usr/local/lib/python3.7/dist-packages (from spacy) (4.41.1)\n",
            "Requirement already satisfied, skipping upgrade: preshed<3.1.0,>=3.0.2 in /usr/local/lib/python3.7/dist-packages (from spacy) (3.0.5)\n",
            "Collecting pydantic<1.8.0,>=1.7.1\n",
            "\u001b[?25l  Downloading https://files.pythonhosted.org/packages/ca/fa/d43f31874e1f2a9633e4c025be310f2ce7a8350017579e9e837a62630a7e/pydantic-1.7.4-cp37-cp37m-manylinux2014_x86_64.whl (9.1MB)\n",
            "\u001b[K     |████████████████████████████████| 9.1MB 15.4MB/s \n",
            "\u001b[?25hRequirement already satisfied, skipping upgrade: pyparsing>=2.0.2 in /usr/local/lib/python3.7/dist-packages (from packaging>=20.0->spacy) (2.4.7)\n",
            "Requirement already satisfied, skipping upgrade: MarkupSafe>=0.23 in /usr/local/lib/python3.7/dist-packages (from jinja2->spacy) (2.0.1)\n",
            "Collecting smart-open<4.0.0,>=2.2.0\n",
            "\u001b[?25l  Downloading https://files.pythonhosted.org/packages/11/9a/ba2d5f67f25e8d5bbf2fcec7a99b1e38428e83cb715f64dd179ca43a11bb/smart_open-3.0.0.tar.gz (113kB)\n",
            "\u001b[K     |████████████████████████████████| 122kB 39.9MB/s \n",
            "\u001b[?25hRequirement already satisfied, skipping upgrade: click<7.2.0,>=7.1.1 in /usr/local/lib/python3.7/dist-packages (from typer<0.4.0,>=0.3.0->spacy) (7.1.2)\n",
            "Requirement already satisfied, skipping upgrade: idna<3,>=2.5 in /usr/local/lib/python3.7/dist-packages (from requests<3.0.0,>=2.13.0->spacy) (2.10)\n",
            "Requirement already satisfied, skipping upgrade: certifi>=2017.4.17 in /usr/local/lib/python3.7/dist-packages (from requests<3.0.0,>=2.13.0->spacy) (2020.12.5)\n",
            "Requirement already satisfied, skipping upgrade: urllib3!=1.25.0,!=1.25.1,<1.26,>=1.21.1 in /usr/local/lib/python3.7/dist-packages (from requests<3.0.0,>=2.13.0->spacy) (1.24.3)\n",
            "Requirement already satisfied, skipping upgrade: chardet<4,>=3.0.2 in /usr/local/lib/python3.7/dist-packages (from requests<3.0.0,>=2.13.0->spacy) (3.0.4)\n",
            "Requirement already satisfied, skipping upgrade: zipp>=0.5; python_version < \"3.8\" in /usr/local/lib/python3.7/dist-packages (from catalogue<2.1.0,>=2.0.3->spacy) (3.4.1)\n",
            "Building wheels for collected packages: smart-open\n",
            "  Building wheel for smart-open (setup.py) ... \u001b[?25l\u001b[?25hdone\n",
            "  Created wheel for smart-open: filename=smart_open-3.0.0-cp37-none-any.whl size=107107 sha256=06e1e30355e2fe564248772093f5ae37031f20c843ad0092045e9d1b4b2bf986\n",
            "  Stored in directory: /root/.cache/pip/wheels/18/88/7c/f06dabd5e9cabe02d2269167bcacbbf9b47d0c0ff7d6ebcb78\n",
            "Successfully built smart-open\n",
            "Installing collected packages: catalogue, srsly, spacy-legacy, pydantic, thinc, smart-open, typer, pathy, spacy\n",
            "  Found existing installation: catalogue 1.0.0\n",
            "    Uninstalling catalogue-1.0.0:\n",
            "      Successfully uninstalled catalogue-1.0.0\n",
            "  Found existing installation: srsly 1.0.5\n",
            "    Uninstalling srsly-1.0.5:\n",
            "      Successfully uninstalled srsly-1.0.5\n",
            "  Found existing installation: thinc 7.4.0\n",
            "    Uninstalling thinc-7.4.0:\n",
            "      Successfully uninstalled thinc-7.4.0\n",
            "  Found existing installation: smart-open 5.0.0\n",
            "    Uninstalling smart-open-5.0.0:\n",
            "      Successfully uninstalled smart-open-5.0.0\n",
            "  Found existing installation: spacy 2.2.4\n",
            "    Uninstalling spacy-2.2.4:\n",
            "      Successfully uninstalled spacy-2.2.4\n",
            "Successfully installed catalogue-2.0.4 pathy-0.5.2 pydantic-1.7.4 smart-open-3.0.0 spacy-3.0.6 spacy-legacy-3.0.5 srsly-2.4.1 thinc-8.0.3 typer-0.3.2\n",
            "2021-06-03 02:20:53.105544: I tensorflow/stream_executor/platform/default/dso_loader.cc:53] Successfully opened dynamic library libcudart.so.11.0\n",
            "Usage: python -m spacy [OPTIONS] COMMAND [ARGS]...\n",
            "\n",
            "  spaCy Command-line Interface\n",
            "\n",
            "  DOCS: https://spacy.io/api/cli\n",
            "\n",
            "Options:\n",
            "  --install-completion [bash|zsh|fish|powershell|pwsh]\n",
            "                                  Install\n",
            "                                  completion for\n",
            "                                  the specified\n",
            "                                  shell.\n",
            "\n",
            "  --show-completion [bash|zsh|fish|powershell|pwsh]\n",
            "                                  Show completion\n",
            "                                  for the\n",
            "                                  specified shell,\n",
            "                                  to copy it or\n",
            "                                  customize the\n",
            "                                  installation.\n",
            "\n",
            "  --help                          Show this\n",
            "                                  message and\n",
            "                                  exit.\n",
            "\n",
            "\n",
            "Commands:\n",
            "  assemble  Assemble a spaCy pipeline from a...\n",
            "  convert   Convert files into json or DocBin...\n",
            "  debug     Suite of helpful commands for...\n",
            "  download  Download compatible trained\n",
            "            pipeline...\n",
            "\n",
            "  evaluate  Evaluate a trained pipeline.\n",
            "  info      Print info about spaCy installation.\n",
            "  init      Commands for initializing configs...\n",
            "  package   Generate an installable Python...\n",
            "  pretrain  Pre-train the 'token-to-vector'...\n",
            "  project   Command-line interface for spaCy...\n",
            "  train     Train or update a spaCy pipeline.\n",
            "  validate  Validate the currently installed...\n",
            "2021-06-03 02:20:57.372992: I tensorflow/stream_executor/platform/default/dso_loader.cc:53] Successfully opened dynamic library libcudart.so.11.0\n",
            "Collecting pt-core-news-lg==3.0.0\n",
            "\u001b[?25l  Downloading https://github.com/explosion/spacy-models/releases/download/pt_core_news_lg-3.0.0/pt_core_news_lg-3.0.0-py3-none-any.whl (578.1MB)\n",
            "\u001b[K     |████████████████████████████████| 578.1MB 29kB/s \n",
            "\u001b[?25hRequirement already satisfied: spacy<3.1.0,>=3.0.0 in /usr/local/lib/python3.7/dist-packages (from pt-core-news-lg==3.0.0) (3.0.6)\n",
            "Requirement already satisfied: srsly<3.0.0,>=2.4.1 in /usr/local/lib/python3.7/dist-packages (from spacy<3.1.0,>=3.0.0->pt-core-news-lg==3.0.0) (2.4.1)\n",
            "Requirement already satisfied: blis<0.8.0,>=0.4.0 in /usr/local/lib/python3.7/dist-packages (from spacy<3.1.0,>=3.0.0->pt-core-news-lg==3.0.0) (0.4.1)\n",
            "Requirement already satisfied: packaging>=20.0 in /usr/local/lib/python3.7/dist-packages (from spacy<3.1.0,>=3.0.0->pt-core-news-lg==3.0.0) (20.9)\n",
            "Requirement already satisfied: jinja2 in /usr/local/lib/python3.7/dist-packages (from spacy<3.1.0,>=3.0.0->pt-core-news-lg==3.0.0) (2.11.3)\n",
            "Requirement already satisfied: typing-extensions<4.0.0.0,>=3.7.4; python_version < \"3.8\" in /usr/local/lib/python3.7/dist-packages (from spacy<3.1.0,>=3.0.0->pt-core-news-lg==3.0.0) (3.7.4.3)\n",
            "Requirement already satisfied: pathy>=0.3.5 in /usr/local/lib/python3.7/dist-packages (from spacy<3.1.0,>=3.0.0->pt-core-news-lg==3.0.0) (0.5.2)\n",
            "Requirement already satisfied: catalogue<2.1.0,>=2.0.3 in /usr/local/lib/python3.7/dist-packages (from spacy<3.1.0,>=3.0.0->pt-core-news-lg==3.0.0) (2.0.4)\n",
            "Requirement already satisfied: pydantic<1.8.0,>=1.7.1 in /usr/local/lib/python3.7/dist-packages (from spacy<3.1.0,>=3.0.0->pt-core-news-lg==3.0.0) (1.7.4)\n",
            "Requirement already satisfied: thinc<8.1.0,>=8.0.3 in /usr/local/lib/python3.7/dist-packages (from spacy<3.1.0,>=3.0.0->pt-core-news-lg==3.0.0) (8.0.3)\n",
            "Requirement already satisfied: preshed<3.1.0,>=3.0.2 in /usr/local/lib/python3.7/dist-packages (from spacy<3.1.0,>=3.0.0->pt-core-news-lg==3.0.0) (3.0.5)\n",
            "Requirement already satisfied: cymem<2.1.0,>=2.0.2 in /usr/local/lib/python3.7/dist-packages (from spacy<3.1.0,>=3.0.0->pt-core-news-lg==3.0.0) (2.0.5)\n",
            "Requirement already satisfied: wasabi<1.1.0,>=0.8.1 in /usr/local/lib/python3.7/dist-packages (from spacy<3.1.0,>=3.0.0->pt-core-news-lg==3.0.0) (0.8.2)\n",
            "Requirement already satisfied: setuptools in /usr/local/lib/python3.7/dist-packages (from spacy<3.1.0,>=3.0.0->pt-core-news-lg==3.0.0) (57.0.0)\n",
            "Requirement already satisfied: requests<3.0.0,>=2.13.0 in /usr/local/lib/python3.7/dist-packages (from spacy<3.1.0,>=3.0.0->pt-core-news-lg==3.0.0) (2.23.0)\n",
            "Requirement already satisfied: typer<0.4.0,>=0.3.0 in /usr/local/lib/python3.7/dist-packages (from spacy<3.1.0,>=3.0.0->pt-core-news-lg==3.0.0) (0.3.2)\n",
            "Requirement already satisfied: tqdm<5.0.0,>=4.38.0 in /usr/local/lib/python3.7/dist-packages (from spacy<3.1.0,>=3.0.0->pt-core-news-lg==3.0.0) (4.41.1)\n",
            "Requirement already satisfied: murmurhash<1.1.0,>=0.28.0 in /usr/local/lib/python3.7/dist-packages (from spacy<3.1.0,>=3.0.0->pt-core-news-lg==3.0.0) (1.0.5)\n",
            "Requirement already satisfied: spacy-legacy<3.1.0,>=3.0.4 in /usr/local/lib/python3.7/dist-packages (from spacy<3.1.0,>=3.0.0->pt-core-news-lg==3.0.0) (3.0.5)\n",
            "Requirement already satisfied: numpy>=1.15.0 in /usr/local/lib/python3.7/dist-packages (from spacy<3.1.0,>=3.0.0->pt-core-news-lg==3.0.0) (1.19.5)\n",
            "Requirement already satisfied: pyparsing>=2.0.2 in /usr/local/lib/python3.7/dist-packages (from packaging>=20.0->spacy<3.1.0,>=3.0.0->pt-core-news-lg==3.0.0) (2.4.7)\n",
            "Requirement already satisfied: MarkupSafe>=0.23 in /usr/local/lib/python3.7/dist-packages (from jinja2->spacy<3.1.0,>=3.0.0->pt-core-news-lg==3.0.0) (2.0.1)\n",
            "Requirement already satisfied: smart-open<4.0.0,>=2.2.0 in /usr/local/lib/python3.7/dist-packages (from pathy>=0.3.5->spacy<3.1.0,>=3.0.0->pt-core-news-lg==3.0.0) (3.0.0)\n",
            "Requirement already satisfied: zipp>=0.5; python_version < \"3.8\" in /usr/local/lib/python3.7/dist-packages (from catalogue<2.1.0,>=2.0.3->spacy<3.1.0,>=3.0.0->pt-core-news-lg==3.0.0) (3.4.1)\n",
            "Requirement already satisfied: idna<3,>=2.5 in /usr/local/lib/python3.7/dist-packages (from requests<3.0.0,>=2.13.0->spacy<3.1.0,>=3.0.0->pt-core-news-lg==3.0.0) (2.10)\n",
            "Requirement already satisfied: urllib3!=1.25.0,!=1.25.1,<1.26,>=1.21.1 in /usr/local/lib/python3.7/dist-packages (from requests<3.0.0,>=2.13.0->spacy<3.1.0,>=3.0.0->pt-core-news-lg==3.0.0) (1.24.3)\n",
            "Requirement already satisfied: chardet<4,>=3.0.2 in /usr/local/lib/python3.7/dist-packages (from requests<3.0.0,>=2.13.0->spacy<3.1.0,>=3.0.0->pt-core-news-lg==3.0.0) (3.0.4)\n",
            "Requirement already satisfied: certifi>=2017.4.17 in /usr/local/lib/python3.7/dist-packages (from requests<3.0.0,>=2.13.0->spacy<3.1.0,>=3.0.0->pt-core-news-lg==3.0.0) (2020.12.5)\n",
            "Requirement already satisfied: click<7.2.0,>=7.1.1 in /usr/local/lib/python3.7/dist-packages (from typer<0.4.0,>=0.3.0->spacy<3.1.0,>=3.0.0->pt-core-news-lg==3.0.0) (7.1.2)\n",
            "Installing collected packages: pt-core-news-lg\n",
            "Successfully installed pt-core-news-lg-3.0.0\n",
            "\u001b[38;5;2m✔ Download and installation successful\u001b[0m\n",
            "You can now load the package via spacy.load('pt_core_news_lg')\n",
            "Collecting senticnet\n",
            "\u001b[?25l  Downloading https://files.pythonhosted.org/packages/f3/8e/c72d2c5186f762f13d3d8cf63aedeb973b95d45d62b59a63006060073e3a/senticnet-1.6-py3-none-any.whl (51.9MB)\n",
            "\u001b[K     |████████████████████████████████| 51.9MB 93kB/s \n",
            "\u001b[?25hInstalling collected packages: senticnet\n",
            "Successfully installed senticnet-1.6\n",
            "python3: can't open file 'setup.py': [Errno 2] No such file or directory\n",
            "2021-06-03 02:22:45.396104: I tensorflow/stream_executor/platform/default/dso_loader.cc:53] Successfully opened dynamic library libcudart.so.11.0\n",
            "Collecting en-core-web-lg==3.0.0\n",
            "\u001b[?25l  Downloading https://github.com/explosion/spacy-models/releases/download/en_core_web_lg-3.0.0/en_core_web_lg-3.0.0-py3-none-any.whl (778.8MB)\n",
            "\u001b[K     |████████████████████████████████| 778.8MB 24kB/s \n",
            "\u001b[?25hRequirement already satisfied: spacy<3.1.0,>=3.0.0 in /usr/local/lib/python3.7/dist-packages (from en-core-web-lg==3.0.0) (3.0.6)\n",
            "Requirement already satisfied: spacy-legacy<3.1.0,>=3.0.4 in /usr/local/lib/python3.7/dist-packages (from spacy<3.1.0,>=3.0.0->en-core-web-lg==3.0.0) (3.0.5)\n",
            "Requirement already satisfied: pathy>=0.3.5 in /usr/local/lib/python3.7/dist-packages (from spacy<3.1.0,>=3.0.0->en-core-web-lg==3.0.0) (0.5.2)\n",
            "Requirement already satisfied: tqdm<5.0.0,>=4.38.0 in /usr/local/lib/python3.7/dist-packages (from spacy<3.1.0,>=3.0.0->en-core-web-lg==3.0.0) (4.41.1)\n",
            "Requirement already satisfied: packaging>=20.0 in /usr/local/lib/python3.7/dist-packages (from spacy<3.1.0,>=3.0.0->en-core-web-lg==3.0.0) (20.9)\n",
            "Requirement already satisfied: srsly<3.0.0,>=2.4.1 in /usr/local/lib/python3.7/dist-packages (from spacy<3.1.0,>=3.0.0->en-core-web-lg==3.0.0) (2.4.1)\n",
            "Requirement already satisfied: blis<0.8.0,>=0.4.0 in /usr/local/lib/python3.7/dist-packages (from spacy<3.1.0,>=3.0.0->en-core-web-lg==3.0.0) (0.4.1)\n",
            "Requirement already satisfied: typer<0.4.0,>=0.3.0 in /usr/local/lib/python3.7/dist-packages (from spacy<3.1.0,>=3.0.0->en-core-web-lg==3.0.0) (0.3.2)\n",
            "Requirement already satisfied: cymem<2.1.0,>=2.0.2 in /usr/local/lib/python3.7/dist-packages (from spacy<3.1.0,>=3.0.0->en-core-web-lg==3.0.0) (2.0.5)\n",
            "Requirement already satisfied: setuptools in /usr/local/lib/python3.7/dist-packages (from spacy<3.1.0,>=3.0.0->en-core-web-lg==3.0.0) (57.0.0)\n",
            "Requirement already satisfied: thinc<8.1.0,>=8.0.3 in /usr/local/lib/python3.7/dist-packages (from spacy<3.1.0,>=3.0.0->en-core-web-lg==3.0.0) (8.0.3)\n",
            "Requirement already satisfied: wasabi<1.1.0,>=0.8.1 in /usr/local/lib/python3.7/dist-packages (from spacy<3.1.0,>=3.0.0->en-core-web-lg==3.0.0) (0.8.2)\n",
            "Requirement already satisfied: pydantic<1.8.0,>=1.7.1 in /usr/local/lib/python3.7/dist-packages (from spacy<3.1.0,>=3.0.0->en-core-web-lg==3.0.0) (1.7.4)\n",
            "Requirement already satisfied: murmurhash<1.1.0,>=0.28.0 in /usr/local/lib/python3.7/dist-packages (from spacy<3.1.0,>=3.0.0->en-core-web-lg==3.0.0) (1.0.5)\n",
            "Requirement already satisfied: jinja2 in /usr/local/lib/python3.7/dist-packages (from spacy<3.1.0,>=3.0.0->en-core-web-lg==3.0.0) (2.11.3)\n",
            "Requirement already satisfied: catalogue<2.1.0,>=2.0.3 in /usr/local/lib/python3.7/dist-packages (from spacy<3.1.0,>=3.0.0->en-core-web-lg==3.0.0) (2.0.4)\n",
            "Requirement already satisfied: typing-extensions<4.0.0.0,>=3.7.4; python_version < \"3.8\" in /usr/local/lib/python3.7/dist-packages (from spacy<3.1.0,>=3.0.0->en-core-web-lg==3.0.0) (3.7.4.3)\n",
            "Requirement already satisfied: requests<3.0.0,>=2.13.0 in /usr/local/lib/python3.7/dist-packages (from spacy<3.1.0,>=3.0.0->en-core-web-lg==3.0.0) (2.23.0)\n",
            "Requirement already satisfied: preshed<3.1.0,>=3.0.2 in /usr/local/lib/python3.7/dist-packages (from spacy<3.1.0,>=3.0.0->en-core-web-lg==3.0.0) (3.0.5)\n",
            "Requirement already satisfied: numpy>=1.15.0 in /usr/local/lib/python3.7/dist-packages (from spacy<3.1.0,>=3.0.0->en-core-web-lg==3.0.0) (1.19.5)\n",
            "Requirement already satisfied: smart-open<4.0.0,>=2.2.0 in /usr/local/lib/python3.7/dist-packages (from pathy>=0.3.5->spacy<3.1.0,>=3.0.0->en-core-web-lg==3.0.0) (3.0.0)\n",
            "Requirement already satisfied: pyparsing>=2.0.2 in /usr/local/lib/python3.7/dist-packages (from packaging>=20.0->spacy<3.1.0,>=3.0.0->en-core-web-lg==3.0.0) (2.4.7)\n",
            "Requirement already satisfied: click<7.2.0,>=7.1.1 in /usr/local/lib/python3.7/dist-packages (from typer<0.4.0,>=0.3.0->spacy<3.1.0,>=3.0.0->en-core-web-lg==3.0.0) (7.1.2)\n",
            "Requirement already satisfied: MarkupSafe>=0.23 in /usr/local/lib/python3.7/dist-packages (from jinja2->spacy<3.1.0,>=3.0.0->en-core-web-lg==3.0.0) (2.0.1)\n",
            "Requirement already satisfied: zipp>=0.5; python_version < \"3.8\" in /usr/local/lib/python3.7/dist-packages (from catalogue<2.1.0,>=2.0.3->spacy<3.1.0,>=3.0.0->en-core-web-lg==3.0.0) (3.4.1)\n",
            "Requirement already satisfied: urllib3!=1.25.0,!=1.25.1,<1.26,>=1.21.1 in /usr/local/lib/python3.7/dist-packages (from requests<3.0.0,>=2.13.0->spacy<3.1.0,>=3.0.0->en-core-web-lg==3.0.0) (1.24.3)\n",
            "Requirement already satisfied: idna<3,>=2.5 in /usr/local/lib/python3.7/dist-packages (from requests<3.0.0,>=2.13.0->spacy<3.1.0,>=3.0.0->en-core-web-lg==3.0.0) (2.10)\n",
            "Requirement already satisfied: chardet<4,>=3.0.2 in /usr/local/lib/python3.7/dist-packages (from requests<3.0.0,>=2.13.0->spacy<3.1.0,>=3.0.0->en-core-web-lg==3.0.0) (3.0.4)\n",
            "Requirement already satisfied: certifi>=2017.4.17 in /usr/local/lib/python3.7/dist-packages (from requests<3.0.0,>=2.13.0->spacy<3.1.0,>=3.0.0->en-core-web-lg==3.0.0) (2020.12.5)\n",
            "Installing collected packages: en-core-web-lg\n",
            "Successfully installed en-core-web-lg-3.0.0\n",
            "\u001b[38;5;2m✔ Download and installation successful\u001b[0m\n",
            "You can now load the package via spacy.load('en_core_web_lg')\n"
          ],
          "name": "stdout"
        }
      ]
    },
    {
      "cell_type": "markdown",
      "metadata": {
        "id": "tHEuDfNkdbx9"
      },
      "source": [
        "## Importando as *libs* para a realização do trabalho "
      ]
    },
    {
      "cell_type": "code",
      "metadata": {
        "id": "xI2Z3zuwcchy"
      },
      "source": [
        "import re\n",
        "import pathlib\n",
        "import glob\n",
        "\n",
        "import pt_core_news_lg\n",
        "import en_core_web_lg\n",
        "import spacy\n",
        "\n",
        "import pandas as pd\n",
        "import numpy as np\n",
        "import xml.etree.ElementTree as ET\n",
        "\n",
        "from spacy import displacy\n",
        "from senticnet.senticnet import SenticNet\n",
        "from senticnet.babelsenticnet import BabelSenticNet\n",
        "\n",
        "# Import PyDrive and associated libraries.\n",
        "# This only needs to be done once per notebook.\n",
        "from pydrive.auth import GoogleAuth\n",
        "from pydrive.drive import GoogleDrive\n",
        "from google.colab import auth\n",
        "from oauth2client.client import GoogleCredentials\n",
        "\n",
        "# Hide warnings\n",
        "import warnings\n",
        "warnings.filterwarnings('ignore')"
      ],
      "execution_count": 2,
      "outputs": []
    },
    {
      "cell_type": "markdown",
      "metadata": {
        "id": "8yVH4XINkKJE"
      },
      "source": [
        "## Baixando o *dataset* do Google Drive"
      ]
    },
    {
      "cell_type": "code",
      "metadata": {
        "colab": {
          "base_uri": "https://localhost:8080/"
        },
        "id": "W170akmrkjp0",
        "outputId": "b5709d3b-120d-485b-ae23-a593872441d5"
      },
      "source": [
        "# Authenticate and create the PyDrive client.\n",
        "# This only needs to be done once per notebook.\n",
        "auth.authenticate_user()\n",
        "gauth = GoogleAuth()\n",
        "gauth.credentials = GoogleCredentials.get_application_default()\n",
        "drive = GoogleDrive(gauth)\n",
        "\n",
        "# Download a file based on its file ID.\n",
        "# \n",
        "# Link file: https://drive.google.com/file/d/1xZ71zKdaflWO0mXNTzQEhXNdCcOEbZh3/view?usp=sharing\n",
        "# Id file: 1xZ71zKdaflWO0mXNTzQEhXNdCcOEbZh3\n",
        "\n",
        "file_id = '1xZ71zKdaflWO0mXNTzQEhXNdCcOEbZh3'\n",
        "file_name = 'dataset.xml'\n",
        "downloaded = drive.CreateFile({'id': file_id})\n",
        "downloaded.GetContentFile(filename=file_name)\n",
        "print('Downloaded file \"{}\"'.format(file_name))\n",
        "\n",
        "# Second alternative\n",
        "# !gdown --id link_id_file"
      ],
      "execution_count": 3,
      "outputs": [
        {
          "output_type": "stream",
          "text": [
            "Downloaded file \"dataset.xml\"\n"
          ],
          "name": "stdout"
        }
      ]
    },
    {
      "cell_type": "markdown",
      "metadata": {
        "id": "fe67zOeP3WmP"
      },
      "source": [
        "## Carregando o pacote de núcleo do spacy em português"
      ]
    },
    {
      "cell_type": "code",
      "metadata": {
        "id": "jo4yZyqC3j_x"
      },
      "source": [
        "nlp = pt_core_news_lg.load()"
      ],
      "execution_count": 4,
      "outputs": []
    },
    {
      "cell_type": "markdown",
      "metadata": {
        "id": "_3AtZINl0eJ7"
      },
      "source": [
        "## Exemplo de *plot* de dependências"
      ]
    },
    {
      "cell_type": "code",
      "metadata": {
        "colab": {
          "base_uri": "https://localhost:8080/",
          "height": 333
        },
        "id": "kPi1e5UveYbi",
        "outputId": "3bf4b393-eb44-459a-9ada-085fcc898ddc"
      },
      "source": [
        "sentence = \"A câmera é boa.\"\n",
        "doc = nlp(sentence)\n",
        "displacy.render(doc, style='dep', jupyter=True)"
      ],
      "execution_count": null,
      "outputs": [
        {
          "output_type": "display_data",
          "data": {
            "text/html": [
              "<span class=\"tex2jax_ignore\"><svg xmlns=\"http://www.w3.org/2000/svg\" xmlns:xlink=\"http://www.w3.org/1999/xlink\" xml:lang=\"pt\" id=\"f6122b2cf62a45669c77a43fe8bb70ae-0\" class=\"displacy\" width=\"750\" height=\"312.0\" direction=\"ltr\" style=\"max-width: none; height: 312.0px; color: #000000; background: #ffffff; font-family: Arial; direction: ltr\">\n",
              "<text class=\"displacy-token\" fill=\"currentColor\" text-anchor=\"middle\" y=\"222.0\">\n",
              "    <tspan class=\"displacy-word\" fill=\"currentColor\" x=\"50\">A</tspan>\n",
              "    <tspan class=\"displacy-tag\" dy=\"2em\" fill=\"currentColor\" x=\"50\">DET</tspan>\n",
              "</text>\n",
              "\n",
              "<text class=\"displacy-token\" fill=\"currentColor\" text-anchor=\"middle\" y=\"222.0\">\n",
              "    <tspan class=\"displacy-word\" fill=\"currentColor\" x=\"225\">câmera</tspan>\n",
              "    <tspan class=\"displacy-tag\" dy=\"2em\" fill=\"currentColor\" x=\"225\">NOUN</tspan>\n",
              "</text>\n",
              "\n",
              "<text class=\"displacy-token\" fill=\"currentColor\" text-anchor=\"middle\" y=\"222.0\">\n",
              "    <tspan class=\"displacy-word\" fill=\"currentColor\" x=\"400\">é</tspan>\n",
              "    <tspan class=\"displacy-tag\" dy=\"2em\" fill=\"currentColor\" x=\"400\">AUX</tspan>\n",
              "</text>\n",
              "\n",
              "<text class=\"displacy-token\" fill=\"currentColor\" text-anchor=\"middle\" y=\"222.0\">\n",
              "    <tspan class=\"displacy-word\" fill=\"currentColor\" x=\"575\">boa.</tspan>\n",
              "    <tspan class=\"displacy-tag\" dy=\"2em\" fill=\"currentColor\" x=\"575\">ADJ</tspan>\n",
              "</text>\n",
              "\n",
              "<g class=\"displacy-arrow\">\n",
              "    <path class=\"displacy-arc\" id=\"arrow-f6122b2cf62a45669c77a43fe8bb70ae-0-0\" stroke-width=\"2px\" d=\"M70,177.0 C70,89.5 220.0,89.5 220.0,177.0\" fill=\"none\" stroke=\"currentColor\"/>\n",
              "    <text dy=\"1.25em\" style=\"font-size: 0.8em; letter-spacing: 1px\">\n",
              "        <textPath xlink:href=\"#arrow-f6122b2cf62a45669c77a43fe8bb70ae-0-0\" class=\"displacy-label\" startOffset=\"50%\" side=\"left\" fill=\"currentColor\" text-anchor=\"middle\">det</textPath>\n",
              "    </text>\n",
              "    <path class=\"displacy-arrowhead\" d=\"M70,179.0 L62,167.0 78,167.0\" fill=\"currentColor\"/>\n",
              "</g>\n",
              "\n",
              "<g class=\"displacy-arrow\">\n",
              "    <path class=\"displacy-arc\" id=\"arrow-f6122b2cf62a45669c77a43fe8bb70ae-0-1\" stroke-width=\"2px\" d=\"M245,177.0 C245,2.0 575.0,2.0 575.0,177.0\" fill=\"none\" stroke=\"currentColor\"/>\n",
              "    <text dy=\"1.25em\" style=\"font-size: 0.8em; letter-spacing: 1px\">\n",
              "        <textPath xlink:href=\"#arrow-f6122b2cf62a45669c77a43fe8bb70ae-0-1\" class=\"displacy-label\" startOffset=\"50%\" side=\"left\" fill=\"currentColor\" text-anchor=\"middle\">nsubj</textPath>\n",
              "    </text>\n",
              "    <path class=\"displacy-arrowhead\" d=\"M245,179.0 L237,167.0 253,167.0\" fill=\"currentColor\"/>\n",
              "</g>\n",
              "\n",
              "<g class=\"displacy-arrow\">\n",
              "    <path class=\"displacy-arc\" id=\"arrow-f6122b2cf62a45669c77a43fe8bb70ae-0-2\" stroke-width=\"2px\" d=\"M420,177.0 C420,89.5 570.0,89.5 570.0,177.0\" fill=\"none\" stroke=\"currentColor\"/>\n",
              "    <text dy=\"1.25em\" style=\"font-size: 0.8em; letter-spacing: 1px\">\n",
              "        <textPath xlink:href=\"#arrow-f6122b2cf62a45669c77a43fe8bb70ae-0-2\" class=\"displacy-label\" startOffset=\"50%\" side=\"left\" fill=\"currentColor\" text-anchor=\"middle\">cop</textPath>\n",
              "    </text>\n",
              "    <path class=\"displacy-arrowhead\" d=\"M420,179.0 L412,167.0 428,167.0\" fill=\"currentColor\"/>\n",
              "</g>\n",
              "</svg></span>"
            ],
            "text/plain": [
              "<IPython.core.display.HTML object>"
            ]
          },
          "metadata": {
            "tags": []
          }
        }
      ]
    },
    {
      "cell_type": "code",
      "metadata": {
        "colab": {
          "base_uri": "https://localhost:8080/",
          "height": 333
        },
        "id": "OmIkCjrubJlv",
        "outputId": "e4ffff0f-cd17-40fd-c5ef-d429efbfb746"
      },
      "source": [
        "sentence = \"o pobre manual\"\n",
        "doc = nlp(sentence)\n",
        "displacy.render(doc, style='dep', jupyter=True)"
      ],
      "execution_count": null,
      "outputs": [
        {
          "output_type": "display_data",
          "data": {
            "text/html": [
              "<span class=\"tex2jax_ignore\"><svg xmlns=\"http://www.w3.org/2000/svg\" xmlns:xlink=\"http://www.w3.org/1999/xlink\" xml:lang=\"pt\" id=\"c915ca916c6444ae8870a966ba77cc75-0\" class=\"displacy\" width=\"575\" height=\"312.0\" direction=\"ltr\" style=\"max-width: none; height: 312.0px; color: #000000; background: #ffffff; font-family: Arial; direction: ltr\">\n",
              "<text class=\"displacy-token\" fill=\"currentColor\" text-anchor=\"middle\" y=\"222.0\">\n",
              "    <tspan class=\"displacy-word\" fill=\"currentColor\" x=\"50\">o</tspan>\n",
              "    <tspan class=\"displacy-tag\" dy=\"2em\" fill=\"currentColor\" x=\"50\">DET</tspan>\n",
              "</text>\n",
              "\n",
              "<text class=\"displacy-token\" fill=\"currentColor\" text-anchor=\"middle\" y=\"222.0\">\n",
              "    <tspan class=\"displacy-word\" fill=\"currentColor\" x=\"225\">pobre</tspan>\n",
              "    <tspan class=\"displacy-tag\" dy=\"2em\" fill=\"currentColor\" x=\"225\">ADJ</tspan>\n",
              "</text>\n",
              "\n",
              "<text class=\"displacy-token\" fill=\"currentColor\" text-anchor=\"middle\" y=\"222.0\">\n",
              "    <tspan class=\"displacy-word\" fill=\"currentColor\" x=\"400\">manual</tspan>\n",
              "    <tspan class=\"displacy-tag\" dy=\"2em\" fill=\"currentColor\" x=\"400\">NOUN</tspan>\n",
              "</text>\n",
              "\n",
              "<g class=\"displacy-arrow\">\n",
              "    <path class=\"displacy-arc\" id=\"arrow-c915ca916c6444ae8870a966ba77cc75-0-0\" stroke-width=\"2px\" d=\"M70,177.0 C70,2.0 400.0,2.0 400.0,177.0\" fill=\"none\" stroke=\"currentColor\"/>\n",
              "    <text dy=\"1.25em\" style=\"font-size: 0.8em; letter-spacing: 1px\">\n",
              "        <textPath xlink:href=\"#arrow-c915ca916c6444ae8870a966ba77cc75-0-0\" class=\"displacy-label\" startOffset=\"50%\" side=\"left\" fill=\"currentColor\" text-anchor=\"middle\">det</textPath>\n",
              "    </text>\n",
              "    <path class=\"displacy-arrowhead\" d=\"M70,179.0 L62,167.0 78,167.0\" fill=\"currentColor\"/>\n",
              "</g>\n",
              "\n",
              "<g class=\"displacy-arrow\">\n",
              "    <path class=\"displacy-arc\" id=\"arrow-c915ca916c6444ae8870a966ba77cc75-0-1\" stroke-width=\"2px\" d=\"M245,177.0 C245,89.5 395.0,89.5 395.0,177.0\" fill=\"none\" stroke=\"currentColor\"/>\n",
              "    <text dy=\"1.25em\" style=\"font-size: 0.8em; letter-spacing: 1px\">\n",
              "        <textPath xlink:href=\"#arrow-c915ca916c6444ae8870a966ba77cc75-0-1\" class=\"displacy-label\" startOffset=\"50%\" side=\"left\" fill=\"currentColor\" text-anchor=\"middle\">amod</textPath>\n",
              "    </text>\n",
              "    <path class=\"displacy-arrowhead\" d=\"M245,179.0 L237,167.0 253,167.0\" fill=\"currentColor\"/>\n",
              "</g>\n",
              "</svg></span>"
            ],
            "text/plain": [
              "<IPython.core.display.HTML object>"
            ]
          },
          "metadata": {
            "tags": []
          }
        }
      ]
    },
    {
      "cell_type": "markdown",
      "metadata": {
        "id": "PN2ibZPs0HJ7"
      },
      "source": [
        "## Importando o dataset do XML"
      ]
    },
    {
      "cell_type": "markdown",
      "metadata": {
        "id": "mCos9WCw1Bu-"
      },
      "source": [
        "Usando a [lib de xml](https://docs.python.org/3/library/xml.etree.elementtree.html) para trabalhar com o *dataset* que por sua vez está em xml."
      ]
    },
    {
      "cell_type": "code",
      "metadata": {
        "id": "PLkY1ml3eYYB"
      },
      "source": [
        "tree = ET.parse('dataset.xml')\n",
        "dataset = tree.getroot()"
      ],
      "execution_count": 5,
      "outputs": []
    },
    {
      "cell_type": "markdown",
      "metadata": {
        "id": "9aeEh15R3E7Q"
      },
      "source": [
        "Visualizando as tags que o arquivo contém"
      ]
    },
    {
      "cell_type": "code",
      "metadata": {
        "colab": {
          "base_uri": "https://localhost:8080/",
          "height": 35
        },
        "id": "DRXADg6-0xed",
        "outputId": "1f612eaa-dd53-45df-a2d0-dd0798b2b44d"
      },
      "source": [
        "dataset.tag"
      ],
      "execution_count": 6,
      "outputs": [
        {
          "output_type": "execute_result",
          "data": {
            "application/vnd.google.colaboratory.intrinsic+json": {
              "type": "string"
            },
            "text/plain": [
              "'reviews'"
            ]
          },
          "metadata": {
            "tags": []
          },
          "execution_count": 6
        }
      ]
    },
    {
      "cell_type": "markdown",
      "metadata": {
        "id": "oBFGV-2N3NaM"
      },
      "source": [
        "Visualizando os atributos que o arquivo possui"
      ]
    },
    {
      "cell_type": "code",
      "metadata": {
        "colab": {
          "base_uri": "https://localhost:8080/"
        },
        "id": "j-SYpcr27LZ0",
        "outputId": "a2abaafc-ead0-4a83-a0bd-24c9c2517bb6"
      },
      "source": [
        "len(dataset[0])"
      ],
      "execution_count": null,
      "outputs": [
        {
          "output_type": "execute_result",
          "data": {
            "text/plain": [
              "6"
            ]
          },
          "metadata": {
            "tags": []
          },
          "execution_count": 8
        }
      ]
    },
    {
      "cell_type": "code",
      "metadata": {
        "colab": {
          "base_uri": "https://localhost:8080/"
        },
        "id": "ZPK5l8HD7YKS",
        "outputId": "6b304542-119a-49e1-e495-fa748863d875"
      },
      "source": [
        "len(dataset)"
      ],
      "execution_count": null,
      "outputs": [
        {
          "output_type": "execute_result",
          "data": {
            "text/plain": [
              "350"
            ]
          },
          "metadata": {
            "tags": []
          },
          "execution_count": 9
        }
      ]
    },
    {
      "cell_type": "code",
      "metadata": {
        "colab": {
          "base_uri": "https://localhost:8080/"
        },
        "id": "WeUxl8rS6ozM",
        "outputId": "9d6f068c-3311-44ca-b8c8-f2d6f9627c7d"
      },
      "source": [
        "print(dataset[0][0].tag)\n",
        "print(dataset[0][1].tag)\n",
        "print(dataset[0][2].tag)"
      ],
      "execution_count": null,
      "outputs": [
        {
          "output_type": "stream",
          "text": [
            "sentence\n",
            "opinion\n",
            "opinion\n"
          ],
          "name": "stdout"
        }
      ]
    },
    {
      "cell_type": "markdown",
      "metadata": {
        "id": "5PeKS2AxvlME"
      },
      "source": [
        "## Extraíndo do dataset todas as sentenças não factuais e seus respectivos aspectos"
      ]
    },
    {
      "cell_type": "markdown",
      "metadata": {
        "id": "QYlYOFGu0rXR"
      },
      "source": [
        "**Passo 1:** Cria-se uma estrutura de dados contento o número da sentença e seus respectos aspectos em formato de lista, caso a sentença seja factual então a lista de aspectos é vazia"
      ]
    },
    {
      "cell_type": "code",
      "metadata": {
        "id": "HHwpDRXPAiIl"
      },
      "source": [
        "# Get all sentences and yours respective aspects\n",
        "new_dataset = {}\n",
        "review_id = 0\n",
        "k = 0\n",
        "while review_id < len(dataset):\n",
        "    review_line = 0\n",
        "    while review_line < len(dataset[review_id]):\n",
        "        review = dataset[review_id][review_line]\n",
        "        # Check if review is a sentence\n",
        "        if review.tag == 'sentence':\n",
        "            sentence_text = review.text.replace('\\\"', '')\n",
        "            new_dataset[k] = (sentence_text, []) # tuple -> (sentence, [aspects...])\n",
        "            k += 1\n",
        "        else:\n",
        "            # get aspect from review\n",
        "            aspect = re.search(r'\\\"([\\w\\s]+)\\\"', review.text).group(1)\n",
        "            if aspect is not None:\n",
        "                new_dataset[k-1][1].append(aspect) # add aspects of preview sentence \n",
        "        review_line += 1\n",
        "    review_id += 1 "
      ],
      "execution_count": 17,
      "outputs": []
    },
    {
      "cell_type": "markdown",
      "metadata": {
        "id": "dJ3i-0n41LmN"
      },
      "source": [
        "**Passo 2:** Remove-se todas as sentenças factuais, ou seja, as que possuem a lista de aspectos vazios"
      ]
    },
    {
      "cell_type": "code",
      "metadata": {
        "colab": {
          "base_uri": "https://localhost:8080/"
        },
        "id": "gK3rW9Yk6THt",
        "outputId": "c8d86b6c-5c0b-4c70-b85d-483a1782aa90"
      },
      "source": [
        "# Number sentences\n",
        "len(new_dataset)"
      ],
      "execution_count": 37,
      "outputs": [
        {
          "output_type": "execute_result",
          "data": {
            "text/plain": [
              "1049"
            ]
          },
          "metadata": {
            "tags": []
          },
          "execution_count": 37
        }
      ]
    },
    {
      "cell_type": "code",
      "metadata": {
        "id": "T_0K-5ql1_JX"
      },
      "source": [
        "sentences = []\n",
        "aspects = set()\n",
        "\n",
        "for number,(sentence, aspect_list) in new_dataset.items():\n",
        "    if len(aspect_list) > 0:\n",
        "        sentences.append(sentence)\n",
        "        aspects.update(aspect_list)"
      ],
      "execution_count": null,
      "outputs": []
    },
    {
      "cell_type": "code",
      "metadata": {
        "colab": {
          "base_uri": "https://localhost:8080/"
        },
        "id": "Y8ZtaFdH7G_n",
        "outputId": "c5df52f8-2442-47b5-9e3b-66a00f626d5e"
      },
      "source": [
        "# Number sentences, before drop factuals sentences\n",
        "len(sentences)"
      ],
      "execution_count": 42,
      "outputs": [
        {
          "output_type": "execute_result",
          "data": {
            "text/plain": [
              "591"
            ]
          },
          "metadata": {
            "tags": []
          },
          "execution_count": 42
        }
      ]
    },
    {
      "cell_type": "code",
      "metadata": {
        "id": "GKoON_tC-oAe",
        "colab": {
          "base_uri": "https://localhost:8080/"
        },
        "outputId": "a01ca740-8b1a-4221-e2b2-1db28d60ce43"
      },
      "source": [
        "new_dataset = {}\n",
        "for id_review in range(len(dataset)):\n",
        "    i = 0\n",
        "    k = 1\n",
        "    size_lines = len(dataset[id_review])\n",
        "    new_dataset[id_review] = {}\n",
        "\n",
        "    while i < size_lines:\n",
        "        sentence = dataset[id_review][i]\n",
        "\n",
        "        if sentence.tag == 'sentence':\n",
        "            new_dataset[id_review][k] = []\n",
        "            new_dataset[id_review][k].append(sentence.text.replace('\\\"', \"\"))\n",
        "            k += 1\n",
        "        else:\n",
        "            aspect = re.search(r'\\\"([\\w\\s]+)\\\"', sentence.text).group(1)\n",
        "            new_dataset[id_review][k-1].append(aspect)\n",
        "        i += 1\n",
        "    print(id_review, new_dataset[id_review])"
      ],
      "execution_count": null,
      "outputs": [
        {
          "output_type": "stream",
          "text": [
            "0 {1: ['Ambiente agradável, bons pratos, comida saborosa , bom serviço, vale a pena conferir, bom tempero, recomendo', 'Ambiente', 'pratos', 'comida', 'serviço', 'tempero']}\n",
            "1 {1: ['Lugar muito agradável, comida excelente é importante o bom atendimento dos garçons.', 'comida', 'Lugar', 'atendimento dos garçons'], 2: ['Recomendo.'], 3: ['Pedimos um pirarucu ao molho de tucupi e não arrependemos']}\n",
            "2 {1: ['O Coqueiro verde serve uma deliciosa carne de sol, também contam com serviço de entrega o que é uma boa pedida para quem não quer sair de casa.. O serviço no restaurante é simples, a comida também, mas muito gostosa..', 'carne de sol', 'comida', 'serviço', 'serviço de entrega']}\n",
            "3 {1: ['Ambiente confortável, ótimo atendimento com um garçon simpático, ele nos contou a história do empreendimento e sempre bem solícito.', 'Ambiente', 'atendimento', 'garçon', 'garçon'], 2: ['Comida Boa por um bom preço.', 'Comida', 'preço'], 3: ['O restaurante fica dentro do hotel Vila Amazônia']}\n",
            "4 {1: ['Boa carne, atendimento eficiente e grande variedade de saladas.', 'atendimento', 'carne'], 2: ['Local agradável.', 'Local'], 3: ['Sucos com frutas locais além dos tradicionais.']}\n",
            "5 {1: ['Adoro as pizzas e o almoço, nas duas unidades.', 'pizzas', 'almoço'], 2: ['O atendimento também é muito bom.', 'atendimento'], 3: ['Delivery também vale super a pena.. a pizza chega bem quentinha!', 'Delivery']}\n",
            "6 {1: ['Estivemos no kawamura para provar o sashimi, mas acabamos provando outros pratos tbm, gostamos de tudo, porém faltou um pouquinho de tempero na costelinha de porco.'], 2: ['Mas nada que nos impeça de voltar']}\n",
            "7 {1: ['Tambaqui um dos peixes mais gostosos de Manaus e região você pode comprar e fazer o mesmo caldeirada ou assado na brasa com o famoso tucupi, pimenta da região.']}\n",
            "8 {1: ['Parada obrigatória sempre que vou a Manaus!!'], 2: ['Tucunaré, tambaqui e pirarucu, é só escolher, cada um melhor que o outro.'], 3: ['Atendimento bom, local familiar.', 'Atendimento', 'local']}\n",
            "9 {1: ['Amei conhecer,o açaí é delicioso!Tem bastante opção em comida regional,o que nos deixa bem servidos!Super recomendo.', 'açaí']}\n",
            "10 {1: ['O tacacá continua bom, mas o problema ainda é o preço.', 'tacacá', 'preço'], 2: ['Inclusive, recentemente houve um aumento para R$18,00.'], 3: ['Resultado: só dá para provar de vez em quando.'], 4: ['Como alternativa, o tacacá do parque rio negro é tão bom quanto e custa bem menos.', 'tacacá']}\n",
            "11 {1: ['Deliciosos pratos.', 'pratos'], 2: ['Local aconchegante e familar.', 'Local', 'Local'], 3: ['Boa comida e boa bebida.', 'comida', 'bebida'], 4: ['Ideal para desfrutar um jantar romantico.']}\n",
            "12 {1: ['Tucunaré escabeche, e primeira, pirão a gosto.'], 2: ['Tucunaré peixada sem igual.', 'Tucunaré peixada'], 3: ['Vários tipos de molho regional, com tucupi e outros.']}\n",
            "13 {1: ['A Cachaçaria do Dedé do Shop Manauara brilha aos olhos: é linda, imponente, a decoração é fantástica e você pode ficar ao ladinho de árvores nativas da Amazônia.', 'decoração', 'Cachaçaria do Dedé', 'Cachaçaria do Dedé'], 2: ['Os pratos, petiscos e bebidas são nota 10!', 'petiscos', 'pratos', 'bebidas'], 3: ['Mas....... o serviço às vezes deixa muito a desejar.... mais pela demora.', 'serviço'], 4: ['Então, tenha paciência!'], 5: ['rs O bar lota nos fins de tarde, principalmente às sextas feiras.'], 6: ['No andar de cima, o burburinho chega a ser insuportável de tanta gente!'], 7: ['rs Mas se vc quer se divertir, relaxar e degustar pratos deliciosos (experimente o Pirarucu na chapa!'], 8: ['), aguente..... rs Vale a pena!'], 9: ['Mesmo com os preços um pouco salgados....', 'preços']}\n",
            "14 {1: ['Vale a pena fazer uma visita e conferir os pratos deliciosos, é um lugar seguro, confortável,refrigerado, familiar e romântico, preço  acessível,', 'pratos', 'lugar', 'lugar', 'lugar', 'preço', 'lugar', 'lugar']}\n",
            "15 {1: ['Muito bom.'], 2: ['Tanto no atendimento quanto no ambiente, e, principalmente nas variedades encontradas para um excelente café.'], 3: ['Ideal para o domingo de manhã com a família, pois possui um ambiente agradável e uma ótima localização.', 'localização', 'ambiente']}\n",
            "16 {1: ['Já fui diversas vezes e sempre levando amigos e parentes para conhecer.'], 2: ['Porém, da última vez que fui, depois de meses sem ir, notei que o preço aumentou, mas a qualidade não.'], 3: ['As sopas permanecem as mesmas, com as pequenas variações de sempre em conta do dia da semana e eles nem servem mais água.'], 4: ['Para quem não conhece ainda, recomendo.'], 5: ['Mas acho difícil a casa manter visitantes frequentes com a concorrência que aumenta.']}\n",
            "17 {1: ['Otimo rodizio de carne tanto para o almoço como para o jantar, preço bastante em conta, grande variedade de comida, alem de carne, tem massa, saladas, ambiente bom, amplo, atendimento excelente.', 'ambiente', 'ambiente', 'atendimento', 'rodizio de carne', 'preço'], 2: ['SUPER RECOMENDO.']}\n",
            "18 {1: ['A tradição gaúcha está bem representada o a Búfalo.'], 2: ['Cortes especiais das mais nobres carnes são um convite todo especial.', 'carnes'], 3: ['Delicioso, variado e completo buffet.', 'buffet', 'buffet', 'buffet'], 4: ['Pratos quentes fenomenais.', 'Pratos quentes'], 5: ['Também com opção de comida japonesa e peixes em geral.'], 6: ['Agrada facilmente todos os gostos.'], 7: ['Ambiente amplo, confortável e muito agradável.', 'Ambiente', 'Ambiente', 'Ambiente'], 8: ['Atendimento nota 10.', 'Atendimento'], 9: ['Exelente localização.', 'localização']}\n",
            "19 {1: ['O nome do restaurante pode dar uma conotação de vender apenas lanches, mas não é assim, pois possui uma diversidade de sopas no rodízio que oferece.'], 2: ['E é uma delicia, com destaque para a sopa de carne com legumes acompanhada da deliciosa torradinha.', 'torradinha']}\n",
            "20 {1: ['atendimento deixa a desejar.', 'atendimento'], 2: ['Nem sempre fui bem atendida.']}\n",
            "21 {1: ['Mesmo os não vegetarianos comerão bem.'], 2: ['Comida de qualidade, com pouco óleo, lembra os restaurantes Adventistas.', 'Comida', 'óleo']}\n",
            "22 {1: ['Almoçamos em uma sexta feira, fomos em 2 famílias.'], 2: ['A comida estava boa e bem servida.', 'comida', 'comida'], 3: ['O ambiente é amplo com 2 andares e banheiros bastante limpos.', 'ambiente', 'banheiros'], 4: ['O atendimento é cordial.', 'atendimento'], 5: ['O que nos incomodou foi o volume do som da apresentação de um cantor, não permitia conversar em um tom normal, acabou nos irritando.']}\n",
            "23 {1: ['O cardápio é bem variado, gostoso, mas o atendimento é muito ruim.', 'atendimento', 'cardápio', 'cardápio'], 2: ['As garçonetes atendem com um mau humor...parece que estão fazendo um favor, eu mesmo pedi uma tapioca e estou esperando entregarem até hoje!'], 3: ['Precisa melhorar muito o atendimento ou dar um treinamento porque a comida é muito boa e aquelas funcionárias afundam o restaurante.', 'comida']}\n",
            "24 {1: ['Rodízio contém pizzas e massas e além disso tem cardápio, estacionamento não tem.'], 2: ['Contém também sopas']}\n",
            "25 {1: ['O restaurante do SENAC é bem situado.', 'situado'], 2: ['Ambiente super higienizado, atendimento excelente, os preços são ótimos.', 'Ambiente', 'atendimento', 'preços'], 3: ['As comidas são excelentes.', 'comidas'], 4: ['Muito bom..., aconselho!.']}\n",
            "26 {1: ['Vale experimentar o tambaqui na brasa, é muito bom!!!', 'tambaqui na brasa'], 2: ['O restaurante é sem luxo, mas o atendimento é muito bom, com garçons simpáticos.', 'garçons', 'restaurante']}\n",
            "27 {1: ['Muito bom o atendimento.', 'atendimento'], 2: ['Cardápio variado.', 'Cardápio'], 3: ['Culinária regional e deliciosa.'], 4: ['Ambiente agradável.', 'Ambiente'], 5: ['Custo benefício alto.', 'Custo benefício'], 6: ['So vale a pena em datas especiais.'], 7: ['Recomendo conhecer.']}\n",
            "28 {1: ['Lanche em um bairro tradicional e antido de manaus, localizado mas precisamente em uma area rodeada de auto peças.']}\n",
            "29 {1: ['O tacacá da Gisela, juntamente com o governo do Estado, promovem todas as quartas o tacacá na bossa que é um evento onde os artistas locais se apresentam no largo.'], 2: ['Ótima opção para quem está a passeio pela cidade e quer experimentar um tacacá e ouvir boa música.', 'opção'], 3: ['O tacacá não é um dos melhores, mas a música compensa.']}\n",
            "30 {1: ['Comida muito boa.', 'Comida'], 2: ['Casa muito linda, grande e elegante.', 'Casa', 'Casa', 'Casa'], 3: ['Buffet variado de pratos quentes e frios.', 'Buffet'], 4: ['Churrascaria perfeita, Fanatástica!', 'Churrascaria', 'Churrascaria'], 5: ['Imperdivel!']}\n",
            "31 {1: ['Excelente comida, excelente atendimento.', 'comida', 'atendimento'], 2: ['Pouca tempo de espera se consideramos que era uma data festiva.', 'tempo de espera']}\n",
            "32 {1: ['Eu recomendo o Banzeiro, um lugar perfeito para comer uma comida tipica da região e boa qualidade.', 'lugar'], 2: ['Manaus esta de parabéns!']}\n",
            "33 {1: ['Ótimo lugar para ir comemorar aniversarios, confraternizações e tudo mais.'], 2: ['O preço é mais salgado mas é justo.', 'preço', 'preço'], 3: ['Ambiente bem amplo.', 'Ambiente'], 4: ['Atendimento muito eficaz!', 'Atendimento'], 5: ['Recomendo!']}\n",
            "34 {1: ['Variação no cardipio 100% regional, comida quentinha e muito saborosa, tambaqui assado sem espinha juntamente com a farofa de castanha e aquele suco de cupuaçu, melhor degustação que já tive.', 'comida', 'degustação', 'comida']}\n",
            "35 {1: ['Sim, em Manaus tem opções todos os dias da semana, e no Armando começa na segunda feira!!!'], 2: ['Tem música ao vivo, bolinho de bacalhau, bebidas geladas, bom atendimento, gente de todas as partes do mundo!!!', 'bebidas', 'atendimento'], 3: ['É sem sombra de dúvidas um dos melhores bares da cidade, sem frescura!!!']}\n",
            "36 {1: ['A melhor coisa dessa padaria é a possibilidade de montar seu próprio sanduíche com as opções da casa.'], 2: ['Apesar de não ser um lanche pra matar a fome (ainda mais porque não é tão barato assim), é uma ótima opção para acompanhar um cafezinho.', 'opção'], 3: ['Cafezinho esse que aliás, é muito bom.', 'Cafezinho']}\n",
            "37 {1: ['O lugar é adoravel, oferece um excelente serviço e o lugar perfeito para um jantarzinho a dois... Para quem gosta de massa este é um ótimo restaurante...', 'restaurante', 'serviço', 'lugar', 'lugar']}\n",
            "38 {1: ['Um lugar aconchegante, seguro, tem estacionamento, atendimento é bom, os preços são moderados, cardápio variado, sopas, vale a pena conhecer.', 'lugar', 'lugar', 'atendimento', 'cardápio', 'preços']}\n",
            "39 {1: ['A melhor peixaria da cidade!', 'peixaria'], 2: ['Ambiente agradável e culinária apurada, tendo como principais ingredientes os belos peixes de água doce da região.', 'Ambiente', 'culinária'], 3: ['O preço é um pouco acima da média, mas vale cada centavo que custa.', 'preço'], 4: ['Recomendo']}\n",
            "40 {1: ['Comemos um prato Camarões Beira mar!'], 2: ['É excepcional, mas poderia vim um pouco mais...'], 3: ['Serve três pessoas.'], 4: ['Vem como acompanhamento batata cozida e arroz com brócolis!'], 5: ['Coco Bambu sempre tem fila!'], 6: ['É bom ligar antes para fazer a reserva.'], 7: ['Ligue o quanto antes porque o horário para agendar reserva é limitado.', 'horário']}\n",
            "41 {1: ['Hamburgueria artesanal com tempero diferenciado, de primeira qualidade, fora o atendimento no qual diferencia por serem bilíngues,.', 'tempero', 'tempero'], 2: ['Recomendo quem quer saciar a fome..']}\n",
            "42 {1: ['Os pratos são bem servidos, por isso atenção, o pedido para uma pessoa geralmente vem com dois filés ou postas, dependendo do seu apetite e do seu bolso...peça o que lhe for melhor.', 'pratos']}\n",
            "43 {1: ['Uma excelente descoberta que fiz em terras manauaras ao localizar este simpático restaurante de peixe amazônico próximo ao hotel em que estive hospedado (Blue Tree Premium).', 'restaurante'], 2: ['Como já disse o cardápio principal é de peixe amazônico.'], 3: [\"Experimentei o 'Tambaqui na Telha'.\"], 4: ['No jantar em que estive havia música ao vivo com um ótimo cantor de MPB.'], 5: ['Local agradável, vale a visita e excelente custo benefício (1 prato serve 3).', 'Local', 'custo benefício']}\n",
            "44 {1: ['ótimo restaurante e ótimo atendimento, fomos atendidos pelo sr. Pedro Jacks muito atencioso, gostei de mais.', 'restaurante', 'atendimento']}\n",
            "45 {1: ['Excelente peixe, para quem esta localizado no Distrito Industrial, excelente pedida para almoço.', 'peixe'], 2: ['dica Matrinxã recheada.']}\n",
            "46 {1: ['É um restaurante executivo com buffet gostoso e serviço a la carte bem no centrinho da cidade mas é bem pequeno.', 'buffet'], 2: ['Funciona para almoço e jantar.']}\n",
            "47 {1: ['Nota 10 restaurante com comidas típicas e variadas para todos gostos atendimento nota mil super recomendo fantástico voltaria com certeza!!!', 'atendimento']}\n",
            "48 {1: ['Comparativamente ao Coco Bambu de Brasília, achei os pratos melhores servidos de camarão.'], 2: ['Lugar novo , dentro do shopping Ponta Negra.', 'Lugar'], 3: ['Serviço bom.', 'Serviço'], 4: ['Som ao vivo agradavel.', 'Som ao vivo'], 5: ['Pratos dão até para três pessoas.']}\n",
            "49 {1: ['Muito bom, recomendo atendimento 100% Agradeço o Ricardo José pelo excelente atendimento e o prato de camarão show!!!', 'atendimento', 'atendimento', 'prato de camarão']}\n",
            "50 {1: ['O atendimento foi ótimo, a entrada (banana pacová com patê de algum peixe) foi uma delícia e o tambaqui, em si, um espetáculo!', 'atendimento', 'entrada', 'tambaqui'], 2: ['Recomendo!'], 3: ['O preço também é ótimo!', 'preço']}\n",
            "51 {1: ['Comida regional chique demais.', 'Comida regional'], 2: ['Ambiente frequentado pela elite de Manaus.'], 3: ['Encontrei até jogador de vôlei (Nalbert).'], 4: ['E vi um peixe tambaqui de 40 Kg!!!']}\n",
            "52 {1: ['Pratos usando produtos regionais mas com inovações.'], 2: ['Ambiente agradável com decoração lembrando a Amazônia como parede imitando escamas de pirarucu e casa de pau-a-pique.', 'Ambiente']}\n",
            "53 {1: ['Melhor rodízio de pizza de manaus (de terça a quinta-feira), a pizza com massa fininha, bem recheada e com vários sabores, muito bom!!', 'rodízio', 'pizza com massa'], 2: ['O rodízio tem um preço acima dos concorrentes, mas vale o cobrado pela qualidade oferecida.', 'preço'], 3: ['O serviço é bom, sempre tem um garçom por perto e o bacana é que possui um estacionamento gratuito bem em frente.', 'serviço'], 4: ['O gergelim na borda é a marca registrada da pizzaria e vai muito bem com os sabores salgados.'], 5: ['Para beber uma dica é o mate que fazem, que acompanha bem a pizza.'], 6: [\"Já na sobremesa, as pizzas de cupuaçu e de mm's já fazem valer o rodízio, por serem sensacionais.\", 'pizzas']}\n",
            "54 {1: ['Manaus tem peixarias muito boas e a Choupana, sem dúvida está entre as melhores!'], 2: ['A comida é ótima, saborosa e bem preparada.', 'comida', 'comida', 'comida'], 3: ['O ambiente é agradabilíssimo!', 'ambiente'], 4: ['Recomendo!']}\n",
            "55 {1: ['Coco bambu é maravilhoso em qualquer lugar!', 'Coco bambu'], 2: ['Camarão internacional para duas pessoas serve tranquilo para três!'], 3: ['De sobremesa a cocada ao forno com sorvete é espetacular!', 'cocada ao forno com sorvete']}\n",
            "56 {1: ['Sem duvidas, o Restaurante Banzeiro é uma das melhores peixarias de Manaus!', 'Restaurante Banzeiro'], 2: ['A criatividade na elaboração dos pratos é fantástica!', 'criatividade na elaboração dos pratos'], 3: ['Uma explosão de sabores regionais inigualável!', 'sabores regionais'], 4: ['Atualmente peca, é muito, pela falta de compromisso com o horário de atendimento (fechamento) pela parte da noite!'], 5: ['Visito o restaurante com certa frequência e muitas foram as vezes q mesmo chegando antes das 23:00 ( horário de fechamento, em tese)encontrei com a plaquinha minúscula, pouco visível de dentro do carro, avisando que já estava fechado.'], 6: ['Saudades do tempo em q o maître Adonias  nos  atendia e aos demais clientes, com rigor no cumprimento do horário!.'], 7: ['Lamentável um restaurante da categoria do Banzeiro, não respeitar os clientes com o Básico., qual seja, cumprimento do horário!'], 8: ['Saudades do que já tivemos!']}\n",
            "57 {1: ['Entre um vôo e outro , já que no aeroporto de Manaus ainda não tem NEHUM restaurante , arriscamos esse .'], 2: ['O local é bastante simples e até que o preço cobrado não é tão simples assim , mas a comida era boa .', 'local', 'comida', 'preço cobrado'], 3: ['Apenas fiquei surpresa pois era num sábado as 21:00 e não havia nenhuma mesa ocupada além da nossa.'], 4: ['Uma pena!']}\n",
            "58 {1: ['O nome engana - o lugar tem uma variedade enorme de todo tipo de bebidas, comidas tipicas deliciosas padrão gourmet, um ambiente aconchegante.', 'ambiente', 'comidas tipicas'], 2: ['Quem entra não tem pressa de sair.']}\n",
            "59 {1: ['Excelente atendimento, garçom Ebrahim muito educado e atencioso.', 'atendimento', 'garçom Ebrahim', 'garçom Ebrahim'], 2: ['Recomendo o restaurante, o melhor de Manaus!']}\n",
            "60 {1: ['Ótima variedade de sucos.', 'variedade de sucos'], 2: ['Salgados e sanduíches saborosos, porém o valor exorbitante cobrado me deixa insatisfeito.', 'sanduíches', 'Salgados', 'valor']}\n",
            "61 {1: ['Restaurante muito bom e concorrido de Manaus.', 'Restaurante', 'Restaurante'], 2: ['Comida regional com pratos generosos.', 'pratos'], 3: ['Muito bom com muitas opções, além do tradiconal peixe, tem também outros pratos para quem não come peixe.'], 4: ['Preço justo', 'Preço']}\n",
            "62 {1: ['Comida saborosa.', 'Comida'], 2: ['Impecável.'], 3: ['Peixe estava bem preparado no ponto e com acompanhamentos deliciosos.', 'acompanhamentos', 'Peixe'], 4: ['O único problema foi no atendimento, pois o garçom deveria ser novo e não sabia explicar as bebidas por exemplo.'], 5: ['Mas valeu a pena.']}\n",
            "63 {1: ['Boas pixzzas e boas massas.', 'pixzzas', 'massas'], 2: ['Lugar aconchegante e tranquilo.', 'Lugar', 'Lugar'], 3: ['Atendimento razoavel, principalmente quando está cheio.', 'Atendimento'], 4: ['Preço justo pela qualidade dos pratos.', 'Preço']}\n",
            "64 {1: ['Vim comer nessa pizzaria no domingo.'], 2: ['Foi bastante tranquilo e a pizza veio rápido.'], 3: ['Achei bem saborosa e com recheio de qualidade.', 'recheio'], 4: ['Não gostei muito da borda com gergelim, algo fora do padrão de pizza.', 'borda com gergelim'], 5: ['Mas de maneira geral valeu a pena.']}\n",
            "65 {1: ['Quando se está com muita fome e sem opção o Habibs pode ser a saída....o ambiente não é agradável e comida é razoável.', 'ambiente', 'comida']}\n",
            "66 {1: ['Uma boa opção para quem quer comer rápido, mas fugindo do barulho da praça de alimentação.'], 2: ['Buffet com opções variadas e saborosas.', 'Buffet com opções', 'Buffet com opções'], 3: ['De sobremesa, peça o petit gateau !']}\n",
            "67 {1: ['Serve lanches e cerveja gelada, tem mesinhas fora do estabelecimento, funciona em uma casa antiga o que faz parte do seu charme.', 'cerveja'], 2: ['Recomendo.']}\n",
            "68 {1: ['Recentemente inaugurado e em plena Savassi, o restaurante é um local agradável, com sua cozinha espanhola com influência mediterrânea, conta também com um espaço cultural com exposições de artes, apresentações artísticas e dança flamenca.', 'local'], 2: ['Seu carro chefe são as paellas valencianas e marinera.'], 3: ['Imperdíveis!']}\n",
            "69 {1: ['O bar fica próximo ao Teatro Amazonas, e geralmente tem música ao vivo acompanhada de cerveja gelada.', 'cerveja'], 2: ['Para comer uma boa pedida é o sanduíche de pernil e bolinhos de bacalhau.'], 3: ['O ambiente é agradável em razão da diversidade de seus frequentadores.', 'ambiente']}\n",
            "70 {1: ['Um lugar seguro, agradável, aconchegante, preço acessível, bem localizado, faça uma visita com a sua família ou amigos.', 'preço', 'localizado', 'lugar', 'lugar']}\n",
            "71 {1: ['Sabor da comida fantástico, em qualquer especialidade típica da região.', 'Sabor da comida'], 2: ['Além do atendimento e ambiente super confortável.', 'ambiente']}\n",
            "72 {1: ['Além de continuar com um bom self service, com destaque para as sobremesas, também tem boas opções a la carte.', 'self service'], 2: ['Mas o destaque são os drinks preparados pelo Marcolino, principalmente as caipirinhas de cupuaçu e a tradicional.'], 3: ['Também tem bons shows folclóricos nas quintas feira.', 'shows folclóricos']}\n",
            "73 {1: ['Bom para experimentar releituras de pratos da comida regional.'], 2: ['Adorei TUDO que experimentei, especialmente, o pesto de Jambu.'], 3: ['Fora isso, o atendimento é MUITO bom e o ambiente/vista são lindos.', 'atendimento', 'ambiente', 'vista']}\n",
            "74 {1: ['As empanadas deste lugar são deliciosas, e as cervejas também, tem boa opção de vinho!!', 'vinho', 'empanadas', 'cervejas'], 2: ['Gostei, pena que o lugar é pequeno, muitas vezes não tem lugares disponíveis!', 'lugar']}\n",
            "75 {1: ['Muito bom!'], 2: ['A carne de sol é ótima, muito bem servida, as Cervejas do Dedé são muito saborosas, principalmente a Dunkel, o atendimento é top', 'Cervejas', 'atendimento', 'carne de sol']}\n",
            "76 {1: ['Esta sorveteria é muito simpática, bem em frente ao Teatro Amazonas, na praça.', 'sorveteria'], 2: ['Experimentei o sorvete de Creme de Cupuaçu, delicioso!', 'sorvete de Creme de Cupuaçu'], 3: ['Tem outros sabores de frutas locais e também os usuais.'], 4: ['Além disso, o pessoal que atende é muito gentil!', 'pessoal que atende']}\n",
            "77 {1: ['Muito bom, local simples de boa qualidade, sucos deliciosos e abundantes.', 'sucos', 'sucos', 'local'], 2: ['Preço razoável.', 'Preço'], 3: ['Aconselho conhecer!.']}\n",
            "78 {1: ['adorei estar neste lugar o qual possue um otimo cardapio regional local alem do otimo atendimento o local e bastante amplo e bem climatizado com amplo estacionamento e otima localizacao.. recomendo a todos..', 'local', 'local', 'estacionamento', 'localizacao', 'atendimento', 'cardapio regional']}\n",
            "79 {1: ['É uma delicia a carne sol do coqueiro verde, com mais os bolinhos de macaxeira frita.', 'carne sol'], 2: ['Padrão de qualidade, bom atendimento, o preço é razoável.', 'atendimento', 'preço']}\n",
            "80 {1: ['boa localização, bonito, amplo , limpo, pessoal atencioso , comida super agradável, e farta ; as carnes sao da melhor qualidade', 'localização', 'pessoal', 'comida', 'comida', 'carnes']}\n",
            "81 {1: ['Excelente comida, cozinha aberta a visita, estacionamento amplo, lugar bem aconchegante, amplo, bom atendimento, selv service.', 'comida', 'estacionamento', 'lugar', 'lugar', 'atendimento']}\n",
            "82 {1: ['Ótimo atendimento, carnes saborosíssimas, ambiente agradável com brinquedoteca, boa opção para os pais que tem filhos pequenos.', 'atendimento', 'carnes', 'ambiente'], 2: ['Não deixe de pedir o steak de alcatra e a costela com molho barbecue.. são fantásticos!'], 3: ['Vou sempre que posso.']}\n",
            "83 {1: ['Deliciosamente ,variedades no cardápio ,ambiente confortável e com um preçinho saboroso,indico p todos,vale conferir', 'preçinho', 'ambiente']}\n",
            "84 {1: ['Fui no almoço.'], 2: ['Primeiro o garçom foi inconveniente ao insistir no que deveríamos pedir, pedimos de entrada um camarão de 76 reais que não estava bem preparado.', 'garçom'], 3: ['Depois de muita dúvida pois o cardápio é muito extenso e repetitivo, pedimos um camarão Iracema(157 reais) que no cardápio dizia servir até  4 pessoas, talvez serviria se a quarta pessoa aceitasse comer só arroz de leite, pois sobrou uma quantidade enorme, camarão mesmo que é bom achei que só come no máximo 3.', 'cardápio', 'cardápio'], 4: ['De acompanhamento uma porção de macaxeira que nem comemos pois estava dura.'], 5: ['Resultado, 300 reais a conta pra três pessoas, lugar bonito mas a comida, o atendimento e o preço não valeu a pena.', 'lugar', 'preço', 'atendimento', 'comida']}\n",
            "85 {1: ['Fui diversas vezes desde qdo mudei pra Manaus e trouxe as visitas ( turistas) pra ter a experiência de tomar sopas variadas em sistema de buffet, em ambiente rústico e amplo.Todos sempre gostaram da experiência', 'sopas', 'ambiente', 'ambiente']}\n",
            "86 {1: ['Os garçons falam como se fossem ada nossa família!'], 2: ['O ambiente é sofisticado e há bastante opção de acompanhamento, desde saladas, geleias, queijos e o tradicional para um churrasco.', 'ambiente'], 3: ['Achei que faltou o feijão normal, pois só tinha o tropeiro!'], 4: ['Na entrada, há cachaças artesanais para os clientes provarem!'], 5: ['O local é caro, então faça valer a pena e coma muito!']}\n",
            "87 {1: ['Se você procura comer um bom bacalhau, estará no lugar certo.', 'bacalhau'], 2: ['Experimentei dois pratos e ambos estavam divinos.', 'pratos'], 3: ['O ambiente é muito bonito, mas nem tanto acolhedor.', 'ambiente'], 4: ['Os funcionários são educados, porém, numa das vezes que estivemos houve um problema com a conta (erro da casa) e a mesma não se esforçou para resolvê-lo.', 'funcionários'], 5: ['Um casa desse nível não poderia ter tal comportamento.'], 6: ['Todavia, o preço dos pratos são assustadores, muito embora um prato individual serve com fartura duas pessoas, mas ainda assim o preço é puxado.', 'preço', 'preço dos pratos']}\n",
            "88 {1: ['Boa estrutura, ótima comida, esperava ais variedade, serve rodízio e a la carte, atendimento bom, poderia ter maior área climatizada, não identifiquei mobilidade para cadeirantes, idosos, se for em um numero grande de pessoas, é bom fazer uma reserva.', 'estrutura', 'atendimento', 'comida']}\n",
            "89 {1: ['A Cantina Ghiotto é um dos pouquíssimos restaurantes em Manaus que está sempre se reinventando e buscando maneiras de melhorar seu espaço e serviço pra melhor atender seus clientes.'], 2: ['Isso verdadeiramente me impressiona!'], 3: ['Ótima opção pra quem gosta de um rodízio de massa e pizza em um ambiente descontraído repleto de jovens e muita energia positiva.', 'opção'], 4: ['Atendimento sempre excelente !', 'Atendimento']}\n",
            "90 {1: ['Comida típica da região, gostosa, feita com capricho, peixes frescos, tudo muito gostoso!!', 'Comida'], 2: ['Atendimento excelente, garçons muito atenciosos!', 'Atendimento', 'garçons'], 3: ['Foi uma experiência incrível e única!']}\n",
            "91 {1: ['Um restaurante que representa muito bem a potencialidade da comida nortense.'], 2: ['Muito bem preparado e elaborado, apesar do cargo chefe ser uma alimentação bem pesada, ainda assim o indico (pirarucu amazônico).'], 3: ['Infelizmente as bebidas pra quem quer uma experiência completa, não vai de total encontro a expectativa, caipirinhas e caipiroskas mal elaboradas, mas logico os sucos são muito bem feitos e a batida de cacau sensacional.', 'batida de cacau', 'sucos'], 4: ['Tem pratos feitos com muito requinte (camarão com castanha) e pratos feitos como se fosse de casa (sardinha frita com baião).'], 5: ['Indico para quem quiser ter uma experiencia amazônica diferenciada.'], 6: ['Afinal de contas o melhor cozinheiro do Brasil varias vezes consecutivas não é a toa.']}\n",
            "92 {1: ['é um otimo restaurante, os pratos sao muito bons, o ambiente e o atendimento também, porém há um problema com a acústica do restaurante, muito barulhento', 'restaurante', 'pratos', 'ambiente', 'atendimento']}\n",
            "93 {1: ['Ambiente ótimo pra ir com amigos, comida muito boa mesmo.', 'comida', 'Ambiente'], 2: ['A decoração é linda e voce pode caminhar pelo local e conhecer cachaças de varias partes do país e do mundo, e o melhor estão todas a venda, otimo ambiente.', 'decoração', 'ambiente'], 3: ['Super recomendo.']}\n",
            "94 {1: ['Excelente churrascaria.', 'churrascaria'], 2: ['Após alguns dias comendo apenas os pratos da região com peixe, resolvi comer uma boa carne e fiquei muito satisfeito com o restaurante.'], 3: ['O ambiente é bem agradável.', 'ambiente'], 4: ['Para quem prefere menos barulho, sugiro ficar na parte superior.'], 5: ['Pedi a picanha e a carne veio suculenta e no ponto certo.', 'carne'], 6: ['O atendimento também foi ótimo e a comida veio super rápido.', 'atendimento']}\n",
            "95 {1: ['Local bonito e agradável, localizado dentro do shopping Manauara.', 'Local', 'Local'], 2: ['Muitas opções de drinks e bebidas.'], 3: ['O atendimento deixou um pouco a desejar porque tinha garçons que não sabiam quais os chopes disponíveis na casa e chegamos a ficar 15 min esperando uma rodada com um monte de garçom ocioso.', 'atendimento'], 4: ['Mesmo assim recomendo o local, basta ser paciente.']}\n",
            "96 {1: ['Apesar de não terem matrinxã assado, o qual queria jantar, o tambaqui estava saboroso e a farofa branca com ovo estava muito bom.', 'farofa branca com ovo', 'tambaqui']}\n",
            "97 {1: ['O que eu pedi e gostei foram o escondidinho de carne de sol e uma carne na chapa, muito gostosa mesmo.'], 2: ['além da variedade de bebidas e um chopp bem geladinho.', 'chopp']}\n",
            "98 {1: ['Ótima opção para uma sexta feira explorando Manaus .'], 2: ['O local é lindo , a comida é ótima (sem falar na batida de coco!!)', 'local', 'comida'], 3: [', música ao vivo e o atendimento perfeito do garçom Bruno .', 'atendimento', 'música ao vivo'], 4: ['Podendo , voltaremos !']}\n",
            "99 {1: ['É horrivel, o atendimento vai de mal a pior só depende do astral dos funcionários, além disso para mundo de alguma coisa essa  casa passa muito longe!', 'atendimento'], 2: ['é um lugar agradável por estar no Largo, no entanto poderia ser um ótimo lugar se mudasse a administração, seria realmente um lugar interessante de se conhecer!', 'lugar']}\n",
            "100 {1: ['para jantar recomendo, pratos diferenciados, não tradicionais, ou melhor tradicionais modificados, o chefe tem um menu muito gostoso.', 'pratos', 'menu'], 2: ['o lugar é agradável, pequeno, parece com o japao realmente.', 'lugar', 'lugar']}\n",
            "101 {1: ['Grande bufê  que inclui além de pratos quentes, sushis e saladas que servem de acompanhamento para os variados tipos de carne que é servido.', 'bufê']}\n",
            "102 {1: ['Vale à pena chegar chegar cedo para pegar uma boa mesa e curtir as promoções de happy hour do Outback.'], 2: ['O atendimento é muito bom; a comida, saborosa; o chopp está sempre na temperatura certa!', 'atendimento', 'comida'], 3: ['Claro que, com a casa cheia, há um pouco mais de demora, mas nada que prejudique a experiência.'], 4: ['Dica: se puder sentar na varanda, o som ambiente não atrapalha as conversas.']}\n",
            "103 {1: ['Jantamos no Jamie’s de Curitiba a poucos dias.'], 2: ['Embora seja um restaurante recém inaugurado o atendimento é ótimo.', 'atendimento'], 3: ['Serviço prestado com atenção e cuidado ao consumidor.'], 4: ['Fomos atendidos pelo Fernando.'], 5: ['A comida é muito boa.', 'comida'], 6: ['Com cardápio variado.', 'cardápio'], 7: ['Fácil de agradar.'], 8: ['Boa carta de vinhos.', 'carta de vinhos'], 9: ['E o preço não é abusivo.', 'preço'], 10: ['Vale conferir.']}\n",
            "104 {1: ['Um bom atendimento, a comida estava deliciosa, tudo na medida certa, a localização do restaurante é ótima, o saber de comidas regionais pe o que mais surpreende, voltarei outras vezes com certeza !!!!', 'atendimento', 'comida', 'localização do restaurante', 'tudo']}\n",
            "105 {1: ['A comida é extremamente saborosa e os pratos são bem servidos.', 'pratos', 'comida'], 2: ['O ambiente é bastante simples e o serviço deixou a desejar.', 'serviço', 'ambiente'], 3: ['O preço de bebidas, principalmente dos coquetéis, são acima da média e a comida tem preço compatível com a qualidade.'], 4: ['Vale a visita']}\n",
            "106 {1: ['Lanchonete com variedade em lanches e sucos, um bom atendimento e está em uma boa localização da cidade.', 'localização', 'atendimento']}\n",
            "107 {1: ['Excelente atendimento agilade rapidez desdo garçom a gerência chopp gelado ambiente agradável parabéns...Voltaremos quando estivermos em Curitiba.', 'atendimento', 'chopp', 'ambiente']}\n",
            "108 {1: ['O ambiente é bem amplo, iluminado.', 'ambiente', 'ambiente'], 2: ['Nenhum luxo, mas é agradável.'], 3: ['Atendimento muito cordial dos funcionários.', 'Atendimento'], 4: ['Pedi um fetuccini com picanha: o serviço não foi muito rápido, mas o problema é que a comida estava fria.'], 5: ['Caro demais.', 'Caro demais'], 6: ['Recomendo procurar outros restaurantes na área.']}\n",
            "109 {1: ['Pela música fizemos o sacrifício de entrar, não tem couvert artístico e nem 10%, o que é uma deslavada mentira pois já estão embutidos nos preços do cardápio.'], 2: ['O cardápio é outra falácia, pois pedimos uns 4 itens que não estavam disponíveis.', 'cardápio'], 3: ['Boteco bem simples com preço de Bistrô.', 'Boteco']}\n",
            "110 {1: ['Um bom lugar para estar com a família e/ou amigos, incluindo crianças.', 'lugar']}\n",
            "111 {1: ['Restaurante muito aconchegante e com bom atendimento.', 'Restaurante', 'atendimento'], 2: ['A cozinheira veio até à nossa mesa e se colocou à disposição para confirmar o bom atendimento.', 'atendimento'], 3: ['Preço bom e comida muito boa.', 'comida', 'Preço']}\n",
            "112 {1: ['Frequento o restaurante a 3 anos e toda vez que eu vou sou bem tratada.'], 2: ['Os sushis são diferentes, frescos e incríveis.', 'sushis', 'sushis', 'sushis'], 3: ['Os especiais da casa são os coringas e meus favoritos.'], 4: ['Com sobremesa inclusa de rolinho primavera de doce de leite.'], 5: ['SENSACIONAL.'], 6: ['Amooo.']}\n",
            "113 {1: ['Endereco tradicional paulistano.'], 2: ['Sem rococos alheios ao padrao original de uma excelente casa de carnes a churrascaria prima pelas carnes, servico e buffet (saladas, queijos, iguarias / sem frutos do mar).']}\n",
            "114 {1: ['Fui por indicação a esse restaurante e realmente fiquei muito surpresa.'], 2: ['Primeiro que o serviço é excelente e o cardápio, apesar de pequeno, contempla todos os gostos.', 'serviço'], 3: ['Comi gnui e estava maravilhoso.', 'gnui'], 4: ['De sobremesa um doce com aipim, sorvete de côco e doce de leite.'], 5: ['O côco pesou para mim, mas essa é uma intolerância minha.'], 6: ['A sobremesa estava excelente.', 'sobremesa'], 7: ['A minha amiga que comeu também não teve problema algum.'], 8: ['Recomendo e voltarei!']}\n",
            "115 {1: ['Difícil não sair satisfeito do Rascal.'], 2: ['O Buffet tem uma variedade de saladas maravilhosa que se completa com os pratos quentes do dia.']}\n",
            "116 {1: ['Almoço caseiro muito bom, três opções de carne, muita variedade de saladas, três frutas, um bufê de sobremesas incrivel, com bolos e tortas doces e dois sucos naturais, o melhor é o preço, R$18,90 a vontade!!!', 'Almoço caseiro', 'bufê de sobremesas', 'preço', 'variedade de saladas']}\n",
            "117 {1: ['Ambiente rústico que traz o apelo artesanal.', 'Ambiente'], 2: ['O cardápio conta com pizzas de sabores diferenciados, bebidas interessantes e preços compatíveis.', 'bebidas', 'preços'], 3: ['A fabricação é visível aos clientes e o atendimento é bom.', 'atendimento'], 4: ['Bem localizado na Av.', 'localizado'], 5: ['Dom Severino, local nobre da zona leste da cidade.']}\n",
            "118 {1: ['Fui com amigos comemorar um aniversário, por fora o prédio é bem velho e feio.', 'prédio', 'prédio'], 2: ['No ambiente do restaurante temos a vista a beira mar de Niteroi e da ponte, esse acredito ser o ponto alto do restaurante.'], 3: ['As estradas foram boas mas o como prato principal pedi um bacalhau para dois e não achei grande coisa, estava bom mas um pouco ressecado.', 'estradas'], 4: ['De sobremesa pedi um sorvete  que vem com dois tipos de mousses, porção bem pequena.', 'porção'], 5: ['Não pedimos vinho ou alguma bebida cara para elevar o preço.'], 6: ['Em resumo, nada que justifique o preço de R$ 194,40 por pessoa.']}\n",
            "119 {1: ['Recomendo!']}\n",
            "120 {1: ['Estive almoço de Natal do Fogo de Chão Danto Amaro e o atendimento foi excepcional.', 'atendimento'], 2: ['Destaque para o Mateus, Maciel e em especial o Carlos']}\n",
            "121 {1: ['É tipo um boteco sofisticado.', 'boteco'], 2: ['O espaço é apertado , mas o serviço é bom e os aperitivos são de qualidade , muito bons.', 'aperitivos', 'serviço', 'espaço', 'aperitivos'], 3: ['Freqüentado pelos moradores do Leblon.']}\n",
            "122 {1: ['Muito bem localizado em frente à praia de Meirelles, pouco depois da popular feirinha, com excelente atendimento e ambiente muito agradável.', 'atendimento', 'ambiente', 'Muito bem localizado'], 2: ['Comi a famosa carne seca na moranga, que faz jus à sua fama.'], 3: ['Bem servido para duas pessoas, vem acompanhada de arroz e salada verde com vinagrete de rapdura.'], 4: ['Recomendo também a Caipirosca de morango.'], 5: ['Fui num domingo, dia em que a dupla de músicos atendia na hora os pedidos dos clientes e tocavam de sertanejo a rock, passando por mpb e bossa nova.']}\n",
            "123 {1: ['O restaurante Coco Bambu de Fortaleza/CE é excelente, com dezenas de opções de pratos, variando entre peixes, frangos e carnes vermelhas.', 'Coco Bambu'], 2: ['Há também dezenas de opções de bebidas (quentes ou frias) e sobremesas variadas.'], 3: ['O atendimento é extremamente agradável, com garçons muito solícitos e simpáticos.', 'atendimento', 'garçons', 'garçons'], 4: ['Como não poderia deixar de ser, nem tudo é perfeito.'], 5: ['O preço do restaurante é alto, mas a quantidade de comida nos pratos vale muito à pena e serve bem ao menos 2 pessoas.', 'preço', 'quantidade de comida']}\n",
            "124 {1: ['Restaurante com atendimento cordial, preço na média da região e boa variedade de pratos e sobremesas.', 'atendimento', 'preço', 'variedade de pratos', 'sobremesas'], 2: ['As sobremesas merecem destaque pela variedade e sabor.']}\n",
            "125 {1: ['Local muito bom , na Passarela do Caranguejo.', 'Local'], 2: ['Com excelente comida e música ao vivo.', 'comida'], 3: ['Destaque para a decoração que achei incrível .', 'decoração'], 4: ['ótimo atendimento.', 'atendimento'], 5: ['Preço dentro da média .', 'Preço'], 6: ['Vale a pena conhecer.']}\n",
            "126 {1: ['A melhor cerveja artesanal de Belém, fica na Cervejaria Amazon Beer, localizada na Estação das Docas, próximo ao ver-o-peso, um dos ambientes mais indicados para os turistas, além, de poder ver o por-do-sol a beira da baia do guajará.', 'cerveja artesanal'], 2: ['Existe diversos tipos de cervejas, como a com sabor de açaí, taperebá e bacuri.']}\n",
            "127 {1: ['As pizzas da Forneria são ótimas!!', 'pizzas da Forneria'], 2: ['Massa deliciosa, ingredientes de qualidade.', 'Massa', 'ingredientes'], 3: ['O atendimento é muito bom e o preço bem justo.', 'preço', 'atendimento'], 4: ['Pizza simples (margherita) sai por R$ 47, uma mais elaborada por R$ 56!!']}\n",
            "128 {1: ['O restaurante é especializado na cozinha portuguesa.'], 2: ['Atendimento muito bom, o bacalhau esplêndido.', 'bacalhau', 'Atendimento'], 3: ['O único defeito é o espaço que é pequeno.', 'espaço']}\n",
            "129 {1: ['Os pratos quentes do restaurantes são deliciosos.', 'pratos quentes']}\n",
            "130 {1: ['Restaurante a kilo , normalmente são de baixo custo , atenção , não é o caso deste !'], 2: ['O kilo perto dos R $ 75,00 torna o almoço de rotina muito caro , permitindo o cálculo e trazendo o almoço no Mangai pra uma realidade possível , quanto ao sabor ... muito bom !', 'sabor'], 3: ['Bom mesmo.']}\n",
            "131 {1: ['Comida perfeita, atendimento do garçom Wemerson nota 10, música agradável, ambiente agradável', 'Comida', 'atendimento do garçom', 'música', 'ambiente']}\n",
            "132 {1: ['Bebida sempre gelada , pessoas bonitas  e simpáticas , lugar perfeito para fazer amizades e passar a noite toda bebendo e comendo!', 'Bebida', 'pessoas', 'pessoas', 'lugar']}\n",
            "133 {1: ['Atendimento top, Wemerson garçom com um atendimento impecável, chopp gelado e comida de primeira.', 'Atendimento', 'atendimento', 'chopp', 'comida'], 2: ['Muito bom!!!', 'Muito bom']}\n",
            "134 {1: ['A comida do restaurante é maravilhosa, com boa variedade de pratos e vinhos, o ambiente também é fenomenal.', 'comida', 'ambiente', 'variedade de pratos', 'vinhos'], 2: ['Porém o atendimento deixa muito a desejar, a entrada demorou muito mais que o prato principal, acredito que esqueceram de encaminhar o pedido, a coca-cola que pedimos não veio, tivemos que pedir a outro garçom.', 'atendimento'], 3: ['E os preços são um pouco caro, nada exorbitante, mas R$ 16,50 numa entrada simples de apenas 06 torradas de brusqueta e R$ 51,00 num prato de macarrão simples com molho vermelho é um pouco defasado da realidade.', 'preços']}\n",
            "135 {1: ['comida muito boa e de alto nível, lugar super agradável e atendimento de primeira.', 'atendimento', 'lugar', 'comida', 'comida'], 2: ['parabéns aos proprietários .']}\n",
            "136 {1: ['Comidas típicas do Nordeste, decoração rústica é bem aconchegante com atendimento ótimo e estacionamento privativo.', 'atendimento', 'decoração rústica']}\n",
            "137 {1: ['Lugar pequeno e no ápice do sucesso, então é normal que tenha fila.', 'Lugar'], 2: ['Achei a gestão da fila atenciosa e amigável.', 'gestão da fila', 'gestão da fila'], 3: ['O lugar é descontraído e a proposta particular e bem cuidada nos detalhes.', 'lugar'], 4: ['O valor é médio alto e o serviço ágil.', 'valor', 'serviço'], 5: ['Um lugar que está na moda.'], 6: ['Mas nada de best 50......']}\n",
            "138 {1: ['Cheguei no local na noite do dia 25/04/2019.'], 2: ['O restaurante possui uma loja de vinhos, onde pude encontrar opções bastante em conta e outras um pouco mais caras.'], 3: ['Tem vinhos para todos os gostos mas, para ser sincero, achei fraca da disponibilidade dos vinhos do Porto, meu vinho favorito.'], 4: ['Muito poucas (e caras) opções.'], 5: ['Os garçons são muito educados e atenciosos.', 'garçons', 'garçons'], 6: ['O ambiente é interessante.', 'ambiente']}\n",
            "139 {1: ['Ambiente familiar.', 'Ambiente'], 2: ['Os pratos são extraordinários, atendimento cortês e a Carla Pernambuco passa de mesa em mesa cumprimentando os clientes.', 'atendimento', 'pratos'], 3: ['Superou nossa expectativa.']}\n",
            "140 {1: ['Uma opção excelente, os hambúrgueres são muito gostosos, a maionese artesanal é espetacular, as batatas bem crocantes, o atendimento é sempre bom.', 'hambúrgueres', 'maionese artesanal', 'atendimento', 'batatas']}\n",
            "141 {1: ['O melhor fondue que já comi!!!!', 'fondue'], 2: ['Tudo com muita qualidade e atendimento ideal.', 'atendimento', 'Tudo'], 3: ['Única coisa chata é a espera.', 'coisa chata'], 4: ['Cheguei às 20h e entrei somente as 22h.'], 5: ['Mas ainda assim vale muito a pena.']}\n",
            "142 {1: ['A hamburgueria oferece um conceito inovador, seja em seu cardápio ou em sua decoração.']}\n",
            "143 {1: ['Trata-se da tradicional localização do famoso Rio’s .'], 2: ['A proposta é seguir o modelo do antigo Porcão, inclusive sem grandes modificações na estrutura.'], 3: ['Mantiveram tudo igual: buffet de saladas incrivel e as carnes chegando a mesa no estilo rodízio.', 'buffet de saladas'], 4: ['Quanto as carnes tudo dentro do esperado sem grandes novidades.'], 5: ['Ficam devendo as costelas bovinas e as linguiças .'], 6: ['Preços bem salgados por sinal.', 'Preços'], 7: ['Vou demorar para voltar!']}\n",
            "144 {1: ['fomos pra um café da manhã no dia dos pais, estava bem cheio mas havia mesa disponível.'], 2: ['Local linda, com mesas ao ar livre e super arborizado, tem um cantinho pra crianças com alguns brinquedos e lápis pra desenhar.', 'Local'], 3: ['Comida boa mas sem muita variedade, devem melhorar no atendimento pq demora um pouco.', 'Comida', 'Comida'], 4: ['Pedimos um cardápio pronto de café da manhã pra dividirmos, não troxeram pratos suficientes e, ao solicitarmos demoraram pra trazer, tivemos que pedir pra outra pessoa que prontamente nos atendeu.'], 5: ['Vale a visita em um dia ensolarado, local muito aconchegante.', 'local']}\n",
            "145 {1: ['Comida maravilhosa, preco justo....', 'preco', 'Comida']}\n",
            "146 {1: ['Bar do Adão é tradicional dos cariocas!', 'Bar do Adão'], 2: ['Destaque para o pastel de camarão e a cervejinha na calçada!'], 3: ['Maravilhoso!']}\n",
            "147 {1: ['Fomos comemorar meu aniversário no Coco Bambu e tivemos um excelente atendimento - garçom Carlos , além da comida que estava deliciosa e bebidas perfeitas.', 'atendimento', 'comida', 'bebidas']}\n",
            "148 {1: ['Comida boa e com um diferencial no sabor.', 'Comida', 'sabor'], 2: ['Lanches de qualidade e com inovação, bom para um final de tarde entre amigos', 'Lanches', 'Lanches']}\n",
            "149 {1: ['Outback é uma otima opção para comer e beber com qualidade, fica situado no shopping Center Norte com facil acesso, muito bom para almoço em familia, amigos e ate mesmo um almoço de negócio informal, recomendo como pedido a costelinha de porco, simplesmente perfeito.', 'costelinha de porco', 'Outback', 'acesso']}\n",
            "150 {1: ['Sem duvida o menezes Grill é o melhor espetinho de carne que existe no bairro da Cidade Velha é bem servidor e delicioso.', 'espetinho de carne', 'espetinho de carne', 'espetinho de carne']}\n",
            "151 {1: ['Posso ter tido azar, mas não gostei desse restaurante.'], 2: ['A decoração é muito bonita, mas os pratos deixaram a desejar.', 'pratos', 'decoração'], 3: ['Achei muito caro por aquilo que serve.', 'muito caro']}\n",
            "152 {1: ['Primeira vez que fui ao Mamma Jamma e tive uma boa experiência.', 'experiência'], 2: ['Preço é justo: Pedi de entrada um pão com calabresa, com queijo gratinado (muito bom, por sinal) e uma pizza grande para dividir por 2 pessoas + bebidas, e deu um pouco menos de 60 reais para cada.', 'muito bom', 'Preço']}\n",
            "153 {1: ['Atendimento e comida excelente como sempre!', 'comida', 'Atendimento']}\n",
            "154 {1: ['Restaurante dentro do Copacabana Palace....atendimento impecável, comida muito boa  e ambiente bom...', 'atendimento', 'comida', 'ambiente']}\n",
            "155 {1: ['Restaurante nota 10, da recepção no estacionamento, atendimento, menu, visual, conforto e comida deliciosa.', 'Restaurante', 'comida'], 2: ['O preço compatível com a qualidade, menos de R$ 100 por pessoa com entrada, bebidas, pratos e sobremesa.', 'preço'], 3: ['Amplo estacionamento, serviço de primeira, uma das melhores opções de João Pessoa.', 'estacionamento', 'serviço'], 4: ['O lugar que da vontade de voltar e levar os amigos.']}\n",
            "156 {1: ['Estive com grupo de amigos, éramos em 10.'], 2: ['Fomos bem atendidos.'], 3: ['Ó restaurante não é muito grande, mas o serviço é muito bom e os pratos fartos.', 'pratos', 'serviço'], 4: ['Dependendo da fome pode pedir um prato e dividir.'], 5: ['Sobremesa peça o peti gatô deles.'], 6: ['Bem gostoso.']}\n",
            "157 {1: ['Estive no Skinna para comemorar o meu aniversário de casamento e fui realmemte surpreendido pela qualidade e principalmente pelo atendimento.'], 2: ['Pedi de entrada casquinhas de siri e iscas de lagosta crocante, tudo muito fresco.', 'tudo'], 3: ['De prato principal delícias do mar com cherne e lagosta e a qualidade se manteve e para finalizar carpaccio de banana, muito bom.', 'carpaccio de banana'], 4: ['O atendimento foi excelente e cada garçom que nos atendeu nos deram todas as informações e sugestões para que tivéssemos uma noite agradabilíssima.', 'atendimento'], 5: ['Eu recomendo sem medo.']}\n",
            "158 {1: ['O lugar é bonito e divertido,  feito para turistas, já que só funciona às segundas.', 'lugar', 'lugar'], 2: ['Há apresentação de quadrilha e banda tocando diversos ritmos, com foco no forró.'], 3: ['A entrada é 50 reais por pessoa,  sem consumação.'], 4: ['Além disso deve-se deixar separados 10 reais para os flanelinhas.']}\n",
            "159 {1: ['No dia 20 de outubro, após indicações de amigos, fomos conhecer o tão bem recomendado hambúrguer desse estabelecimento.'], 2: ['Chegando lá, encontramos um local muito pequeno e lotado, porém fomos informados que poderíamos comprar no delivery, do outro lado da rua, enquanto aguardávamos a mesa.', 'local', 'local'], 3: ['Na compra no delivery já houve o primeiro fato “truculento”, cobrança facultativa de 10% para a “equipe de cozinha”.'], 4: ['Após pegarmos nosso lanche, a segunda “surpresa”: não havia embalagem para o pudim, sendo entregue em uma lata, semelhante a uma lata de extrato de tomate e sem colher.']}\n",
            "160 {1: ['O lamen é barato (um missô lamen e chashu tonkotsu lamen ficaram R$20 cada).', 'barato'], 2: ['O atendimento foi bom, ao contrário do que as pessoas normalmente dizem.', 'atendimento'], 3: ['Ao invés de expulsar as pessoas apenas prezam pela limpeza do local, inclusive, ao final da refeição, nos foi oferecido mais uma porção de gyoza.'], 4: ['O tempo de espera foi por volta de 1h e 30 min, mas pelo valor vale a pena esperar.']}\n",
            "161 {1: ['Fomos conhecer a Cervejaria Amazon Beer no final da tarde e pedi bolinhos de queijo com carne seca e são maravilhosos.', 'bolinhos de queijo com carne seca'], 2: ['Tem um cardápio regional e há vários pratos que servem bem para duas pessoas.'], 3: ['O preço é para turistas.'], 4: ['tem uma bela vista panorâmica.']}\n",
            "162 {1: ['Comida muito boa, ambiente muito descontraído, ótimo para confraternizar com amigos.', 'ambiente', 'Comida'], 2: ['Atendimento muito rápido.O único defeito é que quase sempre tem que enfrentar  uma fila de espera para entrar.', 'Atendimento']}\n",
            "163 {1: ['Adorei a comida, porém o fato de o local ser muito grande achei um pouco desconfortável e o atendimento demorado.', 'comida', 'atendimento'], 2: ['Apesar disso, como sempre, a comida estava ótima e sempre de ótima qualidade para agradar seus clientes', 'comida', 'comida']}\n",
            "164 {1: ['Eu, namorada fomos comemorar aniversário de uma colega.'], 2: ['Foi bacana, opções de bebidas e comida boas, bom atendimento, ambiente agradável.', 'bebidas', 'comida', 'atendimento', 'ambiente']}\n",
            "165 {1: ['Apesar de manter a mesma qualidade que os demais restaurantes da rede Elias, o da São Clemente fecha às 16:00 e não tem as cervejas artesanais da rede.'], 2: ['Mas a comida... como sempre, maravilhosa!!!', 'comida']}\n",
            "166 {1: ['Rodízio muito bom!', 'Rodízio'], 2: ['O atendimento é rápido e eficiente!', 'atendimento', 'atendimento'], 3: ['Shimeji quentinho e os sushis e sashimis frescos!', 'sashimis', 'sushis', 'Shimeji'], 4: ['Vale a pena!!!']}\n",
            "167 {1: ['Ambiente agradavel,pratos bem servidos e sobremesas variadas.Espaço para crianças brincarem.', 'sobremesas', 'Ambiente', 'pratos'], 2: ['Estacionamento amplo com manobrista pago.', 'Estacionamento']}\n",
            "168 {1: ['atendimento mto bom.', 'atendimento'], 2: ['comida mto bem preparada.', 'comida'], 3: ['mas deve se dizer que por ser feita para atender o grande publico, o ambiente se torna menos confortável, pois o barulho eh mto grande.', 'barulho'], 4: ['No demais, vale a pena conhecer']}\n",
            "169 {1: ['O restaurante possui diversas opções de pratos, todas de qualidade excelente, sendo esse o seu ponto.', 'todas']}\n",
            "170 {1: ['Quase sem palavras para descrever.']}\n",
            "171 {1: ['Ótimo atendimento do garçom Roberval Viana e uma comida excelente tbm!!!', 'atendimento', 'comida']}\n",
            "172 {1: ['Lugar agradável embora quando cheio alguns lugares ficam inviáveis por colocarem as mesas muito próximas, tem-se a impressão de invasão  de privacidade.', 'Lugar'], 2: ['Buffet de frios variados e bons.', 'Buffet de frios', 'Buffet de frios'], 3: ['Pizza massa fina, bem servida de ingredientes .', 'massa'], 4: ['Atendimento eficiente, local com ar condicionado.', 'Atendimento']}\n",
            "173 {1: ['Padaria localizada ao lado do Hotel Ibis Budget da Frei Caneca que faz boa comida por preço justo.', 'preço'], 2: ['Os salgados são muito bons, especialmente os croissants.', 'salgados']}\n",
            "174 {1: ['boa opção no centro da cidade.boa oferta de comida,preco e atendimento,limpeza tambem boa,recomendo.', 'opção', 'comida', 'limpeza', 'preco', 'atendimento', 'opção']}\n",
            "175 {1: ['Eu e m eu filho comemos um Xfile e ficamos uma semana com infecção intestinal.']}\n",
            "176 {1: ['No calçadão da Rua da Quitanda, bem próximo à Praça do Patriarca.'], 2: ['Funciona no almoço com buffet com várias opções de pratos frios, quentes, sobremesas e sucos incluídos.'], 3: ['Tudo com qualidade.', 'Tudo']}\n",
            "177 {1: ['É bar mas com opções de pratos para refeições e não somente petiscos.'], 2: ['Cozinha brasileira.'], 3: ['Pratos para compartilhar.'], 4: ['Bom atendimento.', 'atendimento']}\n",
            "178 {1: ['Assim que você entra já ouve uma música ambiente, já fica flutuando.'], 2: ['Aí tem duas árvores que foram preservarás na construção.'], 3: ['Ambiente muito aconchegante.', 'Ambiente'], 4: ['O buffet é a vontade, preço fixo.'], 5: ['Pode se servir várias vezes.'], 6: ['Tudo sem enlatados e temperos prontos.'], 7: ['Bebida à vontade.'], 8: ['Uma grande variedade de frutas.', 'variedade de frutas'], 9: ['Preço justo.', 'Preço']}\n",
            "179 {1: ['Ingredientes orgânicos para quem se preocupa com a saúde.']}\n",
            "180 {1: ['Comprei para ir no rodízio de fondue com uns casais de amigo e gostei muito da visita.']}\n",
            "181 {1: ['O restaurante Remanso do peixe oferece o que de melhor existe em pescado na amazônia.'], 2: ['Morador ou visitante não pode deixar de conhecer essa maravilha da culinária paraense.'], 3: ['Recomendo.']}\n",
            "182 {1: ['Apesar de achar o couvert artístico um pouco caro demais e a espera para conseguir uma mesa ser um pouco cansativa, acho que o restaurante vale a pena.', 'restaurante', 'caro demais'], 2: ['Não é barato, mas o serviço foi bom, a pizza veio super rápido, o menu é ótimo (várias opções de pizza e você pode optar por dividir a sua pizza em em até 3 sabores diferentes) e o ambiente é agradável.', 'serviço', 'ambiente', 'menu', 'Não é barato'], 3: ['Bem localizado.', 'localizado'], 4: ['Voltaria.']}\n",
            "183 {1: ['Melhor pizza da cidade em termos de massa fina, preço um pouco salgado.', 'pizza', 'massa', 'preço'], 2: ['Tem o melhor petit gateu da ilha.', 'petit gateu']}\n",
            "184 {1: ['Muito bom!!', 'Muito bom'], 2: ['Atendimento excelente do Michael!!', 'Atendimento'], 3: ['Comida deliciosa e ambiente agradável!', 'Comida', 'ambiente'], 4: ['Caipirinha deliciosa!', 'Caipirinha']}\n",
            "185 {1: ['Pratos caros e visualmente feios.', 'Pratos', 'Pratos'], 2: ['Pouca quantidade.'], 3: ['Pedi o salmão e não tinha mais disponível na cozinha.'], 4: ['Experiência pra não voltar mais.']}\n",
            "186 {1: ['Comprar chocolates na cacau show é uma boa saída para quem quer fugir dos chocolates mais tradicionais e quer experimentar novos e deliciosos sabores de chocolates.', 'sabores de chocolates', 'sabores de chocolates']}\n",
            "187 {1: ['Excelente atendimento.', 'atendimento'], 2: ['Ambiente tipicamente carioca.'], 3: ['Comida muito bom, muito bem temperada.', 'Comida', 'Comida'], 4: ['Preço justo.', 'Preço'], 5: ['Excelente custo-benefício.', 'Excelente']}\n",
            "188 {1: ['Ambiente agradável, garçons educados, comida gostosa, mas... as porções dos pratos kids são muito, muito, muito pequenas.', 'porções dos pratos kids', 'comida', 'garçons', 'Ambiente'], 2: ['Vergonhoso cobrarem tão caro por tão pouca massa.'], 3: ['Até meu filho de 3 anos saiu de lá com fome.'], 4: ['Não volto mais, pois teria que pedir um prato de adulto para um menininho se alimentar adequadamente.']}\n",
            "189 {1: ['Atendimento de primeira, ambiente super legal.', 'Atendimento', 'ambiente'], 2: ['Ideal para um jantar entre amigos.'], 3: ['As opções com camarão são as melhores mas os de peixes também são uma delícia.', 'peixes'], 4: ['O preço é razoável até.', 'preço']}\n",
            "190 {1: ['Chope bemtirado, comida questionável, o joelho de porco é bem feito, porém a salada de batatas veio azeda e o chucrute bem antigo.', 'Chope', 'comida', 'joelho de porco', 'salada de batatas', 'chucrute'], 2: ['As salsichas de qualidade duvidosa.', 'salsichas'], 3: ['O preço para o Rio é compatível .', 'preço']}\n",
            "191 {1: ['Ambiente acolhedor, bebidas self-service, rock dos melhores (clássicos e atuais) e atendimento maravilhoso.', 'Ambiente', 'rock', 'atendimento']}\n",
            "192 {1: ['Esse restaurante é muito agradável, um excelente atendimento uma vista pro mar de abrilhantar os olhos e com uma refeição divina, nesse final de ano ele estarão fazendo um pacote muito bom pra quem gosta de celebrar a virada do ano de frente pro mar.', 'restaurante', 'atendimento']}\n",
            "193 {1: ['Local agradável, amplo, cardápio variado e bom atendimento.', 'atendimento', 'cardápio', 'Local', 'Local']}\n",
            "194 {1: ['Além de variados e deliciosos acaís, servem outras opções de lanches que equivalem à refeição e sucos muito gostosos.', 'acaís', 'acaís', 'sucos']}\n",
            "195 {1: ['sushi di boa qualidade e otimo tempura de legumes e camarao, tambem tem sobremesa incluida no valor do rodizio', 'sushi', 'tempura de legumes e camarao']}\n",
            "196 {1: ['A pizzaria é um charme.', 'pizzaria'], 2: ['O ambiente é ótimo para um encontro romântico ou para comer uma pizza com os amigos.', 'ambiente'], 3: ['O atendimento é bom, rápido e eficiente.', 'atendimento', 'atendimento', 'atendimento'], 4: ['Os preços não são baratos entretanto não chegam a ser astronômicos.', 'preços'], 5: ['Recomendo para uma refeição diferente e deliciosa.']}\n",
            "197 {1: ['Dei mais uma chance para a Real.']}\n",
            "198 {1: ['Genteeee!!!!'], 2: ['Vcs precisam ir a este lugar e comer a comida do Bryan, ver os arcos, beber Pisco, conversar com o chef sobre a comida peruana e terminar com o Suspiro a la limeña que é uma das 3 sobremesas mais incriveis que já comi!']}\n",
            "199 {1: ['Ambiente bem cuidado, atendimento excelente.', 'Ambiente', 'atendimento'], 2: ['Pequena variedade, mas atende inclusive  vegetarianos.'], 3: ['Costuma ter bolinhas fritos a assados fora do habitual.'], 4: ['Tudo bem caprichado.', 'Tudo'], 5: ['Preço caprichado também.', 'Preço'], 6: ['Não é para o dia-a-dia.'], 7: ['O kg custa R$ 65,00.'], 8: ['Destaque para o creme brulee, boa pedida para sobremesa.'], 9: ['Va com tempo.'], 10: ['Mesas para muitas pessoas demoram um pouco para liberar']}\n",
            "200 {1: ['No Executivo Grill você tem um ambiente descontraído, com diversas opções de saladas, pratos quentes, carnes, feijoada, a comida é gostosa, o atendimento é razoável e o preço é muito bom.', 'preço', 'atendimento', 'comida', 'ambiente']}\n",
            "201 {1: ['Ambiente super agradável e de ótimo atendimento.', 'atendimento', 'Ambiente']}\n",
            "202 {1: ['Fomos muito bem atendidos!'], 2: ['A carne é ótima e o lugar super agradável!', 'lugar', 'carne'], 3: ['Recomendo!'], 4: ['Um dos melhores restaurantes que vi na cidade.']}\n",
            "203 {1: ['Tradicional.'], 2: ['As melhores burekas (folhados redondos recheados - em formato de donut) .', 'burekas'], 3: ['Para saborear no local e tambem levar pra casa (congeladas).'], 4: ['Ter no congelador sempre que pintar aquela vontade (e vai pintar sempre, rsrrss).'], 5: ['A de ricota e de espinafre são imbativeis.', 'de espinafre', 'de ricota']}\n",
            "204 {1: ['Lanche gostoso, as batatas chips que vêm de acompanhamento e a maionese temperada da casa são boas, atendimento e ambiente agradáveis, preço em conta e ainda tem delivery.', 'Lanche', 'maionese temperada', 'batatas chips', 'ambiente', 'atendimento', 'preço']}\n",
            "205 {1: ['As esfirras são a melhor propaganda do restaurante de comida tipica árabe, sabores variados (adoro a folheada de carne e a de azeitona), mas os outros pratos também são muito bons.', 'outros pratos'], 2: ['Não deixem de experimentar os charutinhos de folha de uva, o tempero é leve e saboroso.', 'tempero', 'tempero'], 3: ['O espaço é simples e o atendimento costuma ser rápido nas mesas.', 'atendimento', 'espaço'], 4: ['No balcão é um pouco mais confuso pela quantidade de pessoas que ficam ao redor esperando atendimento e comendo ali mesmo, mas é tb o lugar mais divertido já que podemos presenciar a interação entre os donos árabes ou descendentes e os funcionários brasileiros...']}\n",
            "206 {1: ['Cumpre o esperado.'], 2: ['Boa variedade de carnes, e variado buffet de saladas e outros acompanhamentos.', 'variedade de carnes', 'buffet de saladas', 'outros acompanhamentos'], 3: ['Bom atendimento.', 'atendimento'], 4: ['Preço razoável.', 'Preço'], 5: ['Recomendo.']}\n",
            "207 {1: ['Que desfrutar de um lanche leve e rápido vale a pena no flash lanches.', 'lanche', 'lanche'], 2: ['Tudo muito cuidado e ambiência limpa.', 'ambiência', 'Tudo']}\n",
            "208 {1: ['Restaurante muito bem localizado perto de varios hotéis , almoçamos depois das 16:00 sendo que a maioria dos restaurantes daquela região já estavam fechados, comida deliciosa feita com produtos saudáveis !', 'localizado', 'comida'], 2: ['Adoramos !']}\n",
            "209 {1: ['Pedimos um rodízio que só começou a ser servido após chamar o garçom e reclamar']}\n",
            "210 {1: ['Um lindo lugar, cardápio muito direcionado à camarão, preços elevados, mais condizentes com bom ambiente que as porções poucp generosas.', 'lugar', 'preços', 'preços', 'porções']}\n",
            "211 {1: ['A casa costuma lotar no fim da tarde e serve um variado menu, de cerca de 30 itens, como pratos individuais e coletivos, para crianças, panelinhas, espetinhos e espetões, saladas, sanduíches, caldos e sobremesas.', 'menu'], 2: ['A porção de costela assada na brasa por seis horas, vai à mesa com mandioca, vinagrete e farofa.'], 3: ['Ou seja, simplesmente DIVINOOO!']}\n",
            "212 {1: ['O restaurante oferece um cardápio com massas, strogonoff, saladas, picadinho servidos em porções generosas, contam com um delicioso café e o ambiente é agradável, aconchegante e leve.', 'café', 'ambiente', 'ambiente', 'ambiente'], 2: ['Infelizmente no dia que fui pedi duas opções de sobremesa que não tinham disponíveis, mas de modo geral a expriência foi muito agradável.', 'expriência']}\n",
            "213 {1: [\"Quero agradecer por escolherem as terras Brasileiras para lançar o Jamie's Italian.\"], 2: ['As refeições por aqui estão cada vez mais padronizadas e não saudáveis, talvez pela cultura ou talvez pela pressão dos restaurantes do tipo fast-food.'], 3: ['Estamos ansiosos para vivenciar um marco nos costumes da nossa sociedade, o despertar do interesse nos alimentos, sua procedência e seu poder nutricional.'], 4: ['PARABÉNS!']}\n",
            "214 {1: ['Batatas fritas muito especiais, burger extremamente saboroso (quem não come mal passado deve evitar).', 'burger', 'Batatas fritas'], 2: ['Guarde espaço para a sobremesa, vale a pena!', 'sobremesa']}\n",
            "215 {1: ['Depois de uma indicacao na recepcao do hotel, tive a pessia ideia de ir conhecer o restaurante, que com luzes piscando na porta (tipo um pequeno enfeite para arvore de natal) ja me indicavam o que me esperava...pedi um salmao grelhado, que diziam servir 2 pessoas... O peixe chegou, com sal alem da conta, com batatas semi cozidas como acompanhamento, um molho que parecia o oleo do fusca do meu avo e regado tambem a salmoura...afff nem vou comentar da salada de entrada, qualquer bar de periferia poderia superar... Sobre o garcom, tive que repetir minhas solicitacoes por mais de 3 x cada... Descepcionante... Em resumo, nao volto nunca mais e se mesmo assim vc se encorajar, lembre-se eu nao recomendo...']}\n",
            "216 {1: ['Um boa opção para quem trabalha na região.', 'opção', 'opção'], 2: ['O Restaurante Verde e Grill oferece carnes de qualidade acompanhadas de um buffet bastante interessante, com pasteis, quiche, várias opções de saladas e legumes.', 'carnes', 'buffet']}\n",
            "217 {1: ['Um lugar super agradável!', 'lugar'], 2: ['Um cardápio variado com opções  de massas, pizzas, pratos ornamentados, tudo muito sofisticado e caprichado.', 'cardápio', 'tudo', 'tudo'], 3: ['As pizzas são super saborosas.', 'pizzas'], 4: ['Espaço infantil para crianças brincarem.'], 5: ['Muito bom para ir com família ou jantar para casais.']}\n",
            "218 {1: ['Comida Excelente, sem palavras!', 'Comida'], 2: ['Cardápio variado e muito bom gosto, o buffet e sem igual, vale a pena expetiencia!!', 'buffet', 'Cardápio', 'Cardápio']}\n",
            "219 {1: ['Comida boa de qualidade, variedade comida típica mineira!', 'Comida', 'Comida'], 2: ['Bom ambiente!', 'ambiente'], 3: ['Bom atendimento!', 'atendimento'], 4: ['Tem muita variedade de sobremesa!'], 5: ['Vale a pena!']}\n",
            "220 {1: ['Bastante variedade ( carnes, sushi, japonesa, chinesa) atendimento regular, uma área ampla, mas o preço um pouco acima da qualidade oferecida!', 'atendimento', 'preço', 'área']}\n",
            "221 {1: ['Restaurante bonito, que pela estilo parace ser caro, porem a moqueca estava mais barata do que na barraca na praia .', 'Restaurante', 'mais barata'], 2: ['Os pratos nao veem em graaaande quantidade , mas a porçao para  duas pessoas cumpre com o objetivo, desde que uma das pessoas nao coma muito, o que e o caso da minha esposa, melhor para mim.']}\n",
            "222 {1: ['Após dois anos,  retornamos , a casquinha de Siri continua maravilhosa , chopp muito bem tirado,  cremoso.', 'casquinha de Siri', 'chopp', 'chopp'], 2: ['O filet aperitivo com molho de mostarda,  deixou saudades aos de outras oportunidades.'], 3: ['Ambiente super aconchegante.', 'Ambiente'], 4: ['Excelente serviço de garçom.', 'serviço de garçom']}\n",
            "223 {1: ['A casa é bem decorada, estava um pouco quente, ar desligado.', 'casa']}\n",
            "224 {1: ['Os PFs são bons e a bons preços.', 'PFs', 'preços'], 2: ['Mas o quilo não vale muito à pena: de segunda a sexta, muda pouca coisa.'], 3: ['Mas vale muito à pena para tomar cerveja de noite.']}\n",
            "225 {1: ['Boa opção de almoço na região , pois contam com sistema de buffet livre no horário de almoço, disponível ótimos pratos e saboroso, o único ponto negativo é que o salao de mesas não é tao grande o que gera um certa espera na chegada.', 'opção de almoço', 'salao de mesas', 'pratos', 'pratos']}\n",
            "226 {1: ['lamens muito bons, bem tradicionais, apesar da grande espera por estar sempre lotado, vale a pena ter paciencia', 'lamens']}\n",
            "227 {1: ['Gosto bastante do açaí do Açaí Aju.', 'açaí'], 2: ['Recomendo o que vem acompanhado de chantilly.'], 3: ['Acho que o nome é Diplomata.'], 4: ['O ponto negativo da casa está nos chamados hambúrgueres gourmet.'], 5: ['Os molhos não são tão caprichados assim é o preço é bem caro.', 'preço'], 6: ['Não voltaria lá para comer os hambúrgueres.']}\n",
            "228 {1: ['Achei o restaurante bem bacana com decoração sofisticada e cardapio muito bom.', 'cardapio', 'decoração', 'restaurante'], 2: ['Ambiente tranquilo com musica boa.', 'Ambiente', 'musica']}\n",
            "229 {1: ['Já fui nas duas lojas deles e o burguer é muito bom e podes escolher o ponto do hamburguer o ambiente também é bem legal.', 'burguer', 'ambiente'], 2: ['Tomei cerveja artesanal']}\n",
            "230 {1: ['Sabia que o Nino era um bom restaurante, mas me surpreendi positivamente.', 'restaurante'], 2: ['Ambiente agradável, atendimento muito bom, com garçons simpáticos, que conhecem bastante dos pratos.', 'Ambiente', 'atendimento', 'garçons'], 3: ['Pedimos a entrada de Burrata com embutidos.'], 4: ['Acompanha um pão delicioso!'], 5: ['Para prato principal, pedi o Tagliolini com funghi porcini puxado na manteiga de trufas e gema mole: Sensacional!!!'], 6: ['Nao quis nem colocar queijo parmesão para nao tirar o sabor do prato.'], 7: ['Experimentei os outros que foram pedidos na mesa, mas preferi o meu!'], 8: ['Carta de vinhos boa, com opcoes justas.', 'Carta de vinhos', 'opcoes justas'], 9: ['Em relacao ao preço do jantar, nao achei nenhum absurdo para Um jantar com entrada, prato principal, sobremesa e vinho.'], 10: ['Recomendo o restaurante e certamente voltarei.']}\n",
            "231 {1: ['Hoje comi um com o hot dog nesse restaurante e foi muito decepcionante.', 'muito decepcionante'], 2: ['O lugar estava vazio, o atendente morrendo atrás do computador.'], 3: ['Parece o pior dia da vida dele, nem bom dia deu.'], 4: ['O lanche foi preparado por ele sem qualquer atenção.'], 5: ['O molho para o nacho veio num copo ho plástico sem qq colher, os nachos eram maiores que o copo não tinha como pegar.'], 6: ['O refrigerante veio em lata, sem copo sem canudo.'], 7: ['Atendente estava nitidamente resfriado, fungando na comida.'], 8: ['O preço cobrado  30 reais (Jan 20) é altíssimo se considerado a qualidade entregue.', 'preço cobrado'], 9: ['Lugar a se evitar.'], 10: ['Quem sabe se os proprietários um dia virem esse análise façam algo, o lugar parece bacana.'], 11: ['Ah outra mega decepção.'], 12: ['O chatchup nitidamente foi colocado nos vidros da heinz.'], 13: ['É nitidamente colocado outra marca, pois o sabor é daqueles bem vagabundos.']}\n",
            "232 {1: ['Conheci o Folques Doces em março um ótimo ambiente com doces magníficos um lugar para saborear ótimos doces', 'doces', 'doces', 'ambiente']}\n",
            "233 {1: ['O  Restaurante San Marino tem um ambiente agradável, o atendimento é muito bom, funcionários educados, a comida é muito saborosa.', 'ambiente', 'atendimento', 'comida', 'funcionários']}\n",
            "234 {1: ['Comida espetacular, atendimento impecável, Petit Gateau perfeito, ambiente super agradável, sem duvida um dos melhores restaurantes que já fui.', 'Comida', 'atendimento', 'Petit Gateau', 'ambiente']}\n",
            "235 {1: ['Um restaurante novo, bem montado, gostoso de se frequentar, parecido com outro de nome Coco Bambu, com preços mais atraentes.', 'preços', 'restaurante', 'restaurante'], 2: ['Os pratos são fartos e bem feitos.', 'pratos', 'pratos'], 3: ['O garçon que nos atendeu foi bastante solícito e explicou cada prato perguntado, com detalhes.', 'garçon'], 4: ['Um dos problemas é que os pratos fartos, são exagerados para duas pessoas.', 'pratos'], 5: ['Pedimos uma pescada acompanhada de arroz e legumes na manteiga, que servia tranquilamente 04 pessoas.'], 6: ['Sugestão: que a casa sirva pratos em menor porção para que as pessoas possam solicitar mais variedades.'], 7: ['No geral, um bom restaurante!', 'restaurante']}\n",
            "236 {1: ['tudo muito saboroso e bem elaborado, os sanduíches poderiam ter um pão maior, pois o pão sempre acaba antes do hambúrguer, mas sempre delicioso.', 'tudo', 'tudo']}\n",
            "237 {1: ['O delivery é bem rápido.', 'delivery'], 2: ['Além das pizzas, vale a pena experimentar os breads e o dips de canela.'], 3: ['Sempre perguntar se tem promoção, pois há a promoção de pizza em dobro.']}\n",
            "238 {1: ['Comida incrível!!', 'Comida'], 2: ['Conheço bem a comida indiana e não poderia recomendar restaurante mais típico.'], 3: ['Garçons Super atenciosos.', 'Garçons'], 4: ['Dono super simpático também']}\n",
            "239 {1: ['Atendimento simplesmente perfeito, todos muito atenciosos e simpáticos.', 'Atendimento'], 2: ['Um senhor chamado Valdir tocando uma boa música no piano e depois na sanfona, indo de mesa em mesa de forma educada.'], 3: ['Os pratos também sem comentários.'], 4: ['Só não dou a nota 5 pela decoração, que tem um aspecto meio velho.'], 5: ['Acho que eles tinham a ideia de fazer uma coisa  clássica, mas exageraram um pouco.']}\n",
            "240 {1: ['Um dos melhores restaurantes de São Luís, especialista em carne de carneiro.'], 2: ['Também umas das melhores pizzas da Ilha.'], 3: ['Muito bom para ir com a família.'], 4: ['Estrutura moderna e nova.', 'Estrutura', 'Estrutura'], 5: ['Bom atendimento.', 'atendimento']}\n",
            "241 {1: ['Melhor hamburgueria de curitiba,tanto é que tem filial ate na terra do sanduiche,estados unidos.é caro!', 'hamburgueria']}\n",
            "242 {1: ['Pizzaria muito boa, uma das melhores q já experimentei, atendimento impecável, comida de excelente qualidade, assim como bebidas... Preço justo', 'Pizzaria', 'Preço', 'atendimento', 'comida']}\n",
            "243 {1: ['Ambiente pequeno, mas bem decorado e familiar.', 'Ambiente', 'Ambiente', 'Ambiente'], 2: ['A pizza é bem gostosa!', 'pizza'], 3: ['Uma pizza família, com 8 pedaços, custa em torno de 45 reais.']}\n",
            "244 {1: ['vale a pena ir recomendo a todos que vierem em são Paulo, limpo e legal para encontro com os amigos para bater um papo, bem localizado excelente', 'localizado', 'excelente']}\n",
            "245 {1: ['Tem 13 anos que não venho aqui em SP, fiz questão de conferir meu local de comida árabe preferido, servem uma iguaria chamada UZI ( massa folhada com recheio de arroz e cordeiro)']}\n",
            "246 {1: ['Simplesmente maravilhosa!', 'Simplesmente maravilhosa'], 2: ['Bem servida, suculenta, tempero delicioso, sem defeitos.', 'tempero', 'suculenta', 'Bem servida'], 3: ['E o melhor, o preço.'], 4: ['Parece inacreditável mas comemos uma peixada ao leite de coco e camarões acompanhada de pirao e arroz que servia bem três pessoas, em janeiro.'], 5: ['Pagamos 40,00 reais.'], 6: ['Sensacional.', 'Sensacional']}\n",
            "247 {1: ['Bons ingredientes, variedade de combinações, é bem feita e tem bom preço.', 'preço', 'ingredientes', 'bem feita'], 2: ['Sempre me salvam quando não quero cozinhar!!!']}\n",
            "248 {1: ['Uma delicia!!!.', 'Uma delicia'], 2: ['Única sugestão seria deixar menor quantidade de sushis na bandeja em que os garçons servem, pois quando chegam à mesa já estão com a alga murcha por estarem a algum tempo rodando pelo restaurante.']}\n",
            "249 {1: ['Boa estrutura , peço justo, boa comida!', 'estrutura', 'peço', 'comida'], 2: ['Praia linda, limpa, muito agradável!', 'Praia'], 3: ['Vale fazer uma caminha pela orla, tem falecias que garantem lindas fotos!']}\n",
            "250 {1: ['Pra quem gosta de comida gostosa sem pagar muito caro.'], 2: ['Os pretzels são sempre frescos e bem preparados e o atendimento é muito bom.', 'pretzels', 'atendimento', 'pretzels']}\n",
            "251 {1: ['Excelente.'], 2: ['Considero a melhor pizza de São Paulo, e dizem que a pizza em São Paulo é a melhor do mundo (concordo).', 'pizza'], 3: ['Essa é indiscutível.']}\n",
            "252 {1: ['O espaço é agradavel, a comida é boa, mas o atendimento deixa a desejar.', 'espaço', 'comida', 'atendimento'], 2: ['Os preços não são tão baixos.', 'preços']}\n",
            "253 {1: ['Cardápio criativo com  diferentes leituras da cozinha brasileira num lugar muito especial - bairro Santa Teresa , a Montmartre brasileira.', 'Cardápio']}\n",
            "254 {1: ['ótima opção para curtir uma cerveja com os amigos ou família, ostras sempre frescas e varias outras opções de frutos do mar.', 'opção', 'ostras', 'opção'], 2: ['Minha moqueca de arraia preferida.', 'moqueca de arraia']}\n",
            "255 {1: ['Uma pizza deliciosa... saladas deliciosas... atendimento excelente... e o valor muito honesto... sempre que vou a Curitiba, minha pizzaria preferida.', 'pizzaria', 'atendimento', 'saladas', 'pizza', 'valor'], 2: ['Não deixe de visitar.']}\n",
            "256 {1: ['Bem simples mas muito bem preparada.'], 2: ['Não é tão apimentada quanto seria no Nepal mas é preparada por imigrantes.'], 3: ['O Lugar fica numa galeria com amplo espaço na praça de alimentação exceto no horario de pico.', 'galeria'], 4: ['Sugiro o prato do dia sempre.']}\n",
            "257 {1: ['simplesmente AMO as comidas deste lugar, atenção especial para o “batuta de manzo”, que é uma espécie de tartar muito não muito “temperado” como de costume de outros restaurantes, que pra mim, é um ponto positivo.', 'comidas']}\n",
            "258 {1: ['Belém carece de bons restaurantes, a preços honestos e onde seja possível conversar.'], 2: ['O Midori é um deles.'], 3: ['A comida é sempre boa e o serviço, excelente', 'serviço', 'comida']}\n",
            "259 {1: ['Restaurante em que você monta o seu próprio prato de salada, escolhendo os ingredientes!'], 2: ['Os sucos são bons, mas um pouco doces demais.', 'sucos', 'sucos'], 3: ['Preço bom!', 'Preço']}\n",
            "260 {1: ['Boa comida mas o serviço e lento e se pagar em dinheiro eles arredondam para mais devolvendo troco menor.', 'comida', 'serviço'], 2: ['Lamentável esta atitude']}\n",
            "261 {1: ['Loja localizada no Shopping Tucuruvi, compartilhando as mesas e cadeiras da praça de alimentação.'], 2: ['Massa razoável, caseira.', 'Massa', 'Massa'], 3: ['O atendimento é problemático, não porque o atendente seja ruim, mas deixam uma única pessoa para preparar a massa, entregar ao cliente e cobrar no caixa.', 'atendimento'], 4: ['Assim não dá mesmo.'], 5: ['Há um fila e consequente demora no atendimento.', 'atendimento'], 6: ['Depois reclamam quando a freguesia vai embora... Não recomendo.']}\n",
            "262 {1: ['Indico o Balada a qualquer hora do dia e da noite!'], 2: ['Tudo sempre muito bem feito e com muita qualidade.'], 3: ['Ambiente agradável tanto na área interna, que é climatizada, quanto na ampla varanda.', 'Ambiente'], 4: ['Considero outro ponto favorável é o fato deles estarem sempre introduzindo algo novo no cardápio!'], 5: ['Porções generosas, mas tem que saber pedir pq os preços são caros em alguns itens na proporção custo x benefício, por isso, veja o cardápio com calma e tire suas dúvidas sempre com os milhares de atendentes sempre a disposição no salão!', 'Porções', 'preços']}\n",
            "263 {1: ['Tive uma experiência terrível com essa pizzaria.', 'pizzaria'], 2: ['Solicitei uma pizza, para pagamento via cartão - o sinal da máquina era quase zero, e por isso, fiquei por 20 minutos aguardando o entregador, decidir o que ia fazer.'], 3: ['Como a pizza já estava fria, e eu cansado, sugeri fazer transferência online.'], 4: ['Assim, o fiz.'], 5: ['No entanto, era sexta-feira, após as 22h.'], 6: ['O sujeito que entregou a pizza me ligou as 22:40 reclamando que o dinheiro não cairia no mesmo dia!'], 7: ['Claro que não!!!!!!!'], 8: ['Somente no próximo dia útil!!!!'], 9: ['Como podem ser tão despreparados e limitados?'], 10: ['Nota zero!'], 11: ['R$ 74 por uma pizza que não vale R$ 40?'], 12: ['Não, nunca mais!!!'], 13: ['Realizem treinamento com seus funcionários!!!']}\n",
            "264 {1: ['Melhor opção no shopping para comidas e bebidas, ambiente muito bacana, bom atendimento e boa comida.', 'ambiente', 'atendimento', 'comida'], 2: ['Boa variedade de bebidas.', 'variedade de bebidas']}\n",
            "265 {1: ['O bar oferece muitas opções de refeições e petiscos.'], 2: ['Os preços são razoáveis e as porções são muito bem servidas.', 'preços', 'porções'], 3: ['Qualquer prato para duas pessoas é suficiente para alimentar três ou até quatro pessoas.'], 4: ['Não deixe de experimentar o torresmo, o pastel de camarão e o arroz de brócolis.']}\n",
            "266 {1: ['O Otto é um restaurante de referência na Tijuca se eu não me engano está fazendo 20 anos porém ele tem o preço acima do normal para a região, o preço não conduz com os pratos, mas tirando isso é excelente.', 'preço', 'Otto'], 2: ['Super recomendo.']}\n",
            "267 {1: ['Frequento o restaurante desde que foi inaugurado e sempre foi impecável na qualidade dos pratos, decoração e atendimento.', 'qualidade dos pratos', 'decoração', 'atendimento'], 2: ['A decoração muito especial, que dá a impressão de estar entrando numa Villa Italiana é sempre impecável com suas maravilhosas hortências sempre impecáveis!', 'decoração', 'decoração'], 3: ['A qualidade dos produtos usados p/a execução dos pratos faz toda a diferença,sem contar o imperdível couvert com os pães de fabricação artezanal.', 'couvert']}\n",
            "268 {1: ['Um ambiente de muito requinte, agradável, super culinária italiana que amo.. fui com um primo sempre vejo pois moro bem ao lado, achei tudo maravilhoso especial, sou apaixonada por restaurantes!', 'ambiente', 'ambiente', 'tudo', 'tudo']}\n",
            "269 {1: ['Toda vez que vou ao Rio, bato o ponto no Bar Luiz.'], 2: ['Comida alemã excelente.', 'Comida alemã']}\n",
            "270 {1: ['Ótimo lugar para comer, ambiente bem agradável, atendimento bom, comida muito boa, preço razoável... Recomendo e ao lado tem uma ótima padaria', 'padaria', 'comida', 'preço', 'atendimento', 'ambiente', 'lugar para comer']}\n",
            "271 {1: ['Excelente Hamburger.', 'Hamburger'], 2: ['O buffet de saladas é bem variado.', 'buffet de saladas'], 3: ['O sundae farofino é imperdível.', 'sundae farofino'], 4: ['É um restaurante de rede, mas a comida é muito boa.', 'comida']}\n",
            "272 {1: ['Bar com excelentes preços no Setor Oeste.', 'preços'], 2: ['Cerveja gelada, petiscos de bom preço.', 'Cerveja', 'petiscos'], 3: ['Local elegante e reservado.', 'Local', 'Local'], 4: ['Bom atendimento e outros.', 'atendimento'], 5: ['Recomendo.']}\n",
            "273 {1: ['Um restaurante muito bom, com boa comida, espaço, atendimento bom, bem localizado vale a pena ir, uma das boas opções de restaurante da região.', 'restaurante', 'comida', 'atendimento', 'localizado']}\n",
            "274 {1: ['O Latife nada mais é do que um fast food de comida árabe.'], 2: ['Ainda sim, vale a pena experimentar os pratos lá servidos.'], 3: ['A kafta, as esfihas e os kibes são muitos gostosos.', 'kibes', 'esfihas', 'kafta'], 4: ['Há um bufê de saladas, sempre fresquinhas.'], 5: ['O preço é bem em conta.', 'preço'], 6: ['Vale a visita.']}\n",
            "275 {1: ['Pizza rapida e em fatia.', 'Pizza'], 2: ['Tem várias filiais na cidade do RJ.'], 3: ['Em ipanema na farme de amoedo tem outra.']}\n",
            "276 {1: ['Restaurante maravilhoso, cardápio variado, com uma comida incrivelmente deliciosa.', 'Restaurante', 'cardápio', 'comida'], 2: ['O preço é um pouco salgado, mas vale a pena pela qualidade que eles oferecem.', 'preço'], 3: ['Você não vai se arrepender.'], 4: ['Tem uma localização ótima.', 'localização']}\n",
            "277 {1: ['É um kilão de qualidade, local climatizado, bem limpo, uma excelente variedades de pratos quevão do churrasco a caldeiradas e maniçoba (comida típica paraense) variedade de sobremesas, é muito frequentado pela classe média da cidade, então as vezes fica difícil ter boas mesas.', 'local', 'variedades de pratos'], 2: ['eu recomendo']}\n",
            "278 {1: ['Excelente comida italiana com um atendimento excelente... Os proprietários preparam e servem as refeições com muita simpatia e cordialidade.', 'comida italiana', 'atendimento'], 2: ['Vale a pena conferir']}\n",
            "279 {1: ['Pratos e sobremesas tipicamente italianas feitas pelo chef Renato Ialenti, que mistura sabores, ingredientes e sofisticação às receitas sem perder a autenticidade da cozinha contadina']}\n",
            "280 {1: ['Local super agradável, funcionários atenciosos com atendimento de primeira qualidade.', 'Local', 'funcionários', 'atendimento'], 2: ['Cardápio variado com destaque para as carnes.', 'Cardápio'], 3: ['Vale muito ir conhecer, porém vá com bolso preparado.']}\n",
            "281 {1: ['Uma']}\n",
            "282 {1: ['A comida é deliciosa.', 'comida'], 2: ['tem sashimi de polvo que não tinha visto em Rio Branco!'], 3: ['O local só é pequeno.', 'local']}\n",
            "283 {1: ['Comida simples e barata, para quem esta de passagem pelo centro de João Pessoa, eu recomendo.', 'Comida', 'Comida'], 2: ['O local é organizado e limpo, tudo simples.', 'local', 'local', 'tudo']}\n",
            "284 {1: ['Preço bom, com comida de altíssima qualidade, com espaço agradável e bem localizado.', 'Preço', 'comida', 'espaço', 'localizado'], 2: ['Atendimento de qualidade!!!', 'Atendimento'], 3: ['Recomento.']}\n",
            "285 {1: ['Comida excelente e bastante variada.', 'Comida', 'Comida'], 2: ['Atendimento da recpcionista da porta ruim.', 'Atendimento da recpcionista'], 3: ['Funcionários despreparados.', 'Funcionários'], 4: ['Uma das vezes em que fui ao restaurante, chegamos após uma caminhada na praia com roupa de ginastica e fomos barrados para entrar e ainda estávamos com bebe de 3 meses no colo. Concluindo: o restaurante é ótimo mas perde por despreparo de seus recepcionistas.', 'restaurante'], 5: ['Detalhe que estava um calor de 42 graus neste dia e o restaurante se localiza proximo a praia.'], 6: ['Então fui ao restaurante em frente que deixou minha familia entrar sem frescura.'], 7: ['Favor trocar as recepcionnistas para não perderem mais clientes.']}\n",
            "286 {1: ['Os bombons já foram melhores, mais bem recheados.', 'bombons']}\n",
            "287 {1: ['Como tudo do grupo Fasano não fiquei decepcionado em nenhum momento.'], 2: ['Atendimento ótimo, comida maravilhosa e o preço não é astronômico.', 'Atendimento', 'comida', 'preço']}\n",
            "288 {1: ['Excelente restaurante para saborear um lamen muito parecido com o do Japão.', 'restaurante'], 2: ['Lamen com diversas opções de caldos e ingredientes, atendimento simpático e fácil acesso, próximo a Avenida Paulista.', 'atendimento', 'acesso']}\n",
            "289 {1: ['Gosto muito do burguer king pelo aspecto menos fast food...gosto de churrasco e a bebida à vontade...excelente pedida...', 'pedida', 'churrasco']}\n",
            "290 {1: ['Comemos o bolinho de feijoada que estava maravilhoso.', 'bolinho de feijoada'], 2: ['Caipirinha de tangerina muito bem feita.', 'Caipirinha de tangerina'], 3: ['Camarão na Moranga gostoso, mais poderia vir mais quente e com menos coentro.', 'Camarão na Moranga']}\n",
            "291 {1: ['A comida é boa e o cardápio varia todos os dias da semana.', 'comida'], 2: ['Mas, se você tem problemas de pressão alta não vá!'], 3: ['O cozinheiro parece apreciar muito o sal, que ele utiliza generosamente nos pratos e molhos de salada.'], 4: ['Evite os pratos com molhos e moquecas, são sempre os mais salgados, lamentavelmente.'], 5: ['O lugar poderia ser mas confortável, as mesas  comunitárias são pequenas e apertadas.', 'mesas  comunitárias', 'mesas  comunitárias'], 6: ['Não entendo porque o proprietário não expandiu na mesma galeria para trazer mais conforto para os clientes.'], 7: ['As moças que atendem são eficientes e quase sempre simpáticas.', 'moças que atendem', 'moças que atendem']}\n",
            "292 {1: ['Um ambiente lindo com vista incrível da cidade.', 'ambiente', 'vista'], 2: ['A comida é muito boa, com ingredientes de qualidade e combinações bem contemporâneas.', 'comida', 'combinações'], 3: ['O drink beijo de jambu é equilibrado e muito gostoso.', 'drink beijo de jambu', 'drink beijo de jambu'], 4: ['Só foi um pouco chato achar um Uber para subir até lá.'], 5: ['Os pratos não são baratos mas é muito compreensível pela qualidade.', 'pratos'], 6: ['Atendimento muito bom tb!', 'Atendimento']}\n",
            "293 {1: ['Bom, durante um jantar de negócios fomos convidados ao local que realmente se diferencia dos demais da cidade.'], 2: ['Bastante sofisticado, com um ambiente de requinte.', 'ambiente'], 3: ['Mas, nessa tentativa de ser tão requintado, escapam alguns detalhes que prejudicam o local.'], 4: ['Ou ao menos prejudicaram a primeira impressão.'], 5: ['A entrada, com pastas, frios e pães, ficou servida por cerca de uma hora até que os pratos principais ficassem prontos.'], 6: [\"Por mais que possa ser uma 'tática' para que os negócios pudessem ser tratados durante esse meio tempo, isso não contribui.\"], 7: ['O prato principal estava muito bom, com filé, salmão e os cortes de porcos da região.', 'prato principal'], 8: ['O atendimento também estava bom, com muitos garçons.', 'atendimento'], 9: ['E a música ambiente bastante agradável.', 'música ambiente']}\n",
            "294 {1: ['Comida excelente!', 'Comida'], 2: ['Ambiente super gostoso!', 'Ambiente'], 3: ['Self service, mas tudo fresquinho e gostoso,só chegue mais cedo pois a casa e lotada!']}\n",
            "295 {1: ['Lugar TOP, comida boa, atendimento muito bom!', 'Lugar', 'comida', 'atendimento']}\n",
            "296 {1: ['Como o meu aniversário é o do meu pai são muito próximos, decidimos fazer uma única celebração, visto que não somos mais tão jovens assim.'], 2: ['Escolhemos o CT por ser perto de casa e eu ainda não tinha provado a cozinha do Claude.']}\n",
            "297 {1: ['Pedimos o tartar, que veio ok, acompanhado de batatas mal cozidas.'], 2: ['A cerveja veio quente.'], 3: ['Pedimos hambúrguer, não tinha... Não condiz com o nível em que o restaurante pretende se enquadrar.'], 4: ['Muito fraco.'], 5: ['Não recomendo']}\n",
            "298 {1: ['O restaurante é super bonito e bem descontraído, o atendimento é bem atencioso, as refeições e os lanches são super caprichados.', 'restaurante', 'restaurante', 'atendimento', 'lanches', 'refeições']}\n",
            "299 {1: ['O restaurante é muito simples, mas a carne de sol oferecida é espetacular.', 'restaurante', 'carne de sol'], 2: ['Os acompanhamentos são maravilhosos.', 'acompanhamentos'], 3: ['Vale a pena conferir ..,']}\n",
            "300 {1: ['É um dos melhores lugares no Rio de Janeiro, fica sempre a dúvida, é bar ou restaurante.', 'lugares'], 2: ['Indico pedir a carne assada com gnocchi a quatro queijos, vale a pena, muito bom.', 'carne assada com gnocchi a quatro queijos']}\n",
            "301 {1: ['O melhor lugar em Aracaju para se comer frutos do mar, com certeza !'], 2: ['Todos os pratos são muito bem elaborados e saborosos com um toque de requinte !', 'pratos', 'pratos']}\n",
            "302 {1: ['Fui com a minha familia nesse excelente restaurante.', 'restaurante'], 2: ['Ótimo ambiente e atendimento.', 'ambiente', 'atendimento'], 3: ['Pedimos 3 carnes, o gran chorizo, o bife pampeano e o ojo del bife ancho!'], 4: ['Como acompanhamento pedimos o arroz biro biro.'], 5: ['O grande sucesso foi o gran chorizo!', 'gran chorizo'], 6: ['Excelente!'], 7: ['Foi tudo muito gostoso!', 'tudo'], 8: ['Com certeza retornaremos!']}\n",
            "303 {1: ['Gostei muito do lugar, principalmente pelas sombras das árvores que amenizam o clima quente de porto velho.', 'lugar'], 2: ['Cerveja bem gelada', 'Cerveja']}\n",
            "304 {1: ['Bons sanduíches mas nada diferentes do trivial, nas ultimas visitas achei a maionese da casa muito oleosa e sem tempero.', 'sanduíches', 'maionese da casa', 'maionese da casa', 'sanduíches']}\n",
            "305 {1: ['Restaurante muito bom.', 'Restaurante'], 2: ['Ambiente aberto e bem arborizado, sendo muito agradável.', 'Ambiente', 'Ambiente', 'Ambiente'], 3: ['Comida de qualidade muito boa, drinks bacanas.', 'drinks', 'Comida'], 4: ['Preço elevado, mas vale a pena visitar e desfrutar da vista.', 'Preço']}\n",
            "306 {1: ['adoro os petiscos do bar do Alves,  mais os garçons são ruins,  o pedido demora muito.', 'petiscos', 'garçons'], 2: ['a comida é  saborosa,  o pastel tem uma massa muito boa,  tudo tem boa qualidade.', 'comida', 'massa'], 3: ['é  fácil para estacionar e o restaurante é  bem ventilado.', 'estacionar', 'restaurante'], 4: ['o banheiro é  limpo e as cadeiras são confortáveis.', 'banheiro', 'cadeiras']}\n",
            "307 {1: ['Apesar de gostoso, bom ambiente e funcionários educados, não vale o preço que cobra!', 'ambiente', 'funcionários'], 2: ['Um prato sai por volta de 140 reais e não vem bem servido!']}\n",
            "308 {1: ['Lugar lotado , fila de espera, mas anda rápido.', 'Lugar'], 2: ['Bom atendimento, cardápio gigantesco.', 'atendimento', 'cardápio'], 3: ['Comi um prato de peixe, era gostoso, nada excepcional.', 'prato de peixe'], 4: ['Eu particularmente prefiro locais menores e mais personalizados,']}\n",
            "309 {1: ['É um restaurante que mantêm o padrão da rede.'], 2: ['Temos a vantagem de evitar surpresas e a mesma desvantagem.. Não encontraremos um sabor especial']}\n",
            "310 {1: ['A comida é simples e boa, o preço é bom.', 'preço', 'comida', 'comida'], 2: ['O ambiente é bem simples, nada sofisticado e o atendimento foi razoável.', 'atendimento', 'ambiente'], 3: ['Vale o valor pago!', 'valor pago']}\n",
            "311 {1: ['Fomos a esta casa depois de muitas vezes ir e voltar ao Uniko, na Rua da Quitanda, Centro do Rio, sendo esta La Terrazza um anexo distante da primeira.']}\n",
            "312 {1: ['Cardápio bem variado, com opções de comida japonesa tanto tradicional como algumas opções gourmet, além de chapas.', 'Cardápio'], 2: ['Atendimento ágil.', 'Atendimento'], 3: ['Preços médios para alto.', 'Preços'], 4: ['Oferecem desenhos para crianças.'], 5: ['Fácil estacionamento.', 'estacionamento']}\n",
            "313 {1: ['Viemos num jantar no domingo, o ótimo atendimento já começa ao chegar no restaurante, com os rapazes cuidando do carro.', 'atendimento'], 2: ['Sentamos e nos foi explicado como funciona a casa.'], 3: ['Proposta interessante, carnes de primeiríssima qualidade e acompanhamentos de muita qualidade.', 'carnes', 'acompanhamentos'], 4: ['A coisa mais surpreendente foi o salmão ao molho de maracujá e o arroz piemonteses, tudo surpreendentemente gostoso.'], 5: ['Os atendimentos dos rapazes é ótimo!', 'atendimento', 'atendimentos dos rapazes'], 6: ['Vale muito a visita.']}\n",
            "314 {1: ['Melhor pizza do Extremo Sul.', 'pizza'], 2: ['Bem recheada e com ingredientes de qualidade.'], 3: ['Massa aberta na hora.'], 4: ['Não tem forno à lenha, o que não interfere em muito na qualidade.'], 5: ['Sempre peço a tradicional, nunca comi as de cone.'], 6: ['Ambiente bem legal de se comer no local.', 'Ambiente']}\n",
            "315 {1: ['Ótimo.']}\n",
            "316 {1: ['Típico restaurante indiano, fomos com um casal de amigos, adoramos o ambiente que é bem familiar e agradável.', 'ambiente', 'ambiente', 'ambiente'], 2: ['A comida deliciosa com boas opções.', 'comida'], 3: ['Atendimento rápido e prático.', 'Atendimento', 'Atendimento'], 4: ['Iniciamos com a entrada Chutneys, que são 3 molhos da casa (hortelã, tamarindo e papaia) acompanhado com o pão indiano masala papad.'], 5: ['Depois pedimos porção de arroz com açafrão Kesari Pullao, porção de frango Murg Masala e porção de carneiro Gosht Masala.'], 6: ['Bebemos uma cerveja bem gelada.'], 7: ['Todos os pratos pedimos levemente apimentados e eles trouxeram pimenta a parte.']}\n",
            "317 {1: ['Estilo natural e vegetariano.']}\n",
            "318 {1: ['O restaurante Peixe Vivo, apesar do nome não tem peixe vivo, porém todos os produtos, ficam em expositor refrigerado, de vidro, onde você pode escolher o que quer comer.']}\n",
            "319 {1: ['Ótimas carnes, um buffet impecável e um atendimento excelente.', 'carnes', 'buffet', 'atendimento']}\n",
            "320 {1: ['Diferente do esperado para um domingo, enormes filas, chegamos e sentamos na varanda.', 'filas'], 2: ['Os pratos tem os valores médios de R$50,00.'], 3: ['Os pedidos vieram rápido, estavam gostosos e nos pontos solicitados.', 'pedidos'], 4: ['Como críticas ficam a proximidade das mesas(menos de 20cm), impossibilitando qualquer tipo de privacidade, e os ridiculos R$7,50(por pessoa) do couvert, para 1(um) pedaço de pão e uma bolinha de manteiga.']}\n",
            "321 {1: ['O Bawarchi é um restaurante indiano legítimo, sendo até seus atendentes naturais do país.', 'Bawarchi'], 2: ['A comida é simples, com poucas opções durante a semana, mas muito saborosa.', 'comida', 'comida'], 3: ['E o preço é muito baixo, cerca de 20 reais o quilo.', 'preço']}\n",
            "322 {1: ['Ambiente agradável, atendimento excelente, preço compatível.', 'Ambiente', 'atendimento', 'preço']}\n",
            "323 {1: ['Ambiente maravilhoso, música agradável, comida impecável e um garçom maravilhoso: Roberto, vc foi demais!!!', 'Ambiente', 'música', 'comida', 'garçom']}\n",
            "324 {1: ['Boa opcao, almoco e jantar.', 'opcao'], 2: ['Vou mais no almoco e aprecio a variedade principalmente das massas.'], 3: ['Spaghetti com peperonccino, apimentado na medida certa, muito gostoso.', 'Spaghetti com peperonccino']}\n",
            "325 {1: ['Localizado na ilha da gigoia, na barra da tijuca, tem acesso apenas por barco.'], 2: ['A ilha fica escondida atrás de avenidas e prédios.'], 3: ['É preciso indicação.'], 4: ['O restaurante tem uma ornamentação com mobiliário antigo, mas confortável, numa área que parece ser o quintal da casa sob uma antiga e frondosa castanheira, cujo fruto é conhecido no nordeste como coração de negro.'], 5: ['A decoração é de bom gosto e pitoresca.', 'decoração', 'decoração'], 6: ['O atendimento foi simpático.', 'atendimento'], 7: ['A comida muito boa.', 'comida'], 8: ['Almoçamos um grelhado de peixe, lula e polvo, que estava saboroso.', 'grelhado de peixe'], 9: ['Ingredientes frescos.', 'Ingredientes'], 10: ['Não é barato, mas valeu a visita.', 'barato']}\n",
            "326 {1: ['Comi um peixe podre no dia dos pais, parecia, pela minha expressão facial de repúdio ao sabor, que tinham injetado-me botox.'], 2: ['O mais cômico foi ouvir de uma funcionária que não estava estragado (ela não provou, claro).'], 3: ['Decerto ela deveria estar correta e minhas dezenas de milhares de células gustativas, com alta apuração para detecção de coisas podres, todas erradas.'], 4: ['Praticamente tive que implorar para que cancelassem o valor do meu prato na minha comanda, mas se não cancelassem não faria tanta diferença, porque faria bom proveito usando como isca pra caçar urubu.'], 5: ['Sem falar na coca que demorou mais de 20 minutos para chegar na mesa,']}\n",
            "327 {1: ['Ambiente gostoso  , decoração e espaço belissimo , limpeza muito boa , atendimento nota 10 porem a  pizza deixa muito a desejar com relação a massa e sabor .', 'Ambiente', 'espaço', 'decoração', 'limpeza', 'atendimento']}\n",
            "328 {1: ['O restaurante frango leste é um simples, já antigo e com a cerveja gelada, tem uma comida de qualidade, destaque para o frango desossado e a paçoca.', 'restaurante frango leste', 'comida', 'cerveja']}\n",
            "329 {1: ['Lugar de fácil acesso perto do aeroporto, tem uma variedade muito grande de sushis e bebidas, pena que não tem sashimi de atum nem polvo, mas vale muita a pena é uma ótima opção em refeição e o custo beneficio é ótimo pois lá tem sempre promoção.', 'Lugar', 'custo beneficio'], 2: ['Tudo feito na hora e tudo muito gostoso!', 'tudo']}\n",
            "330 {1: ['Ótima experiência gastronômica; destaque para a feijoada, o ceviche de caju e o arroz de chouriço.', 'experiência gastronômica'], 2: ['Ótimo atendimento e boa localização.', 'atendimento', 'localização'], 3: ['Pesam contra o preço alto, as poucas opções de suco e a decoração muito despojada.', 'preço', 'decoração'], 4: ['Mesmo assim, no geral, uma ótima opção.', 'opção']}\n",
            "331 {1: ['A barraca estava lotada, e o atendimento demorado... mas o caranguejo estava excelente assim como a bolinha de peixe e as caipirinhas!!', 'atendimento', 'caranguejo']}\n",
            "332 {1: ['O Vamo é um achado!', 'Vamo'], 2: ['Uma união de boa comida, bom preço e bom atendimento.', 'comida', 'preço', 'atendimento'], 3: ['Já fui algumas vezes, em diversas ocasiões, com grupos grandes, pequenos e mesmo em um jantar a dois.'], 4: ['O Atendimento é sempre bom.', 'Atendimento']}\n",
            "333 {1: ['Saborosa e calorosa porque a Yeran e o Agop vão em todas as mesas ver se estamos gostando muito!', 'Saborosa', 'calorosa'], 2: ['Além de tudo ser ótimo tem um molho de hortelã imperdível que fica acima do servidor, não percam!', 'molho de hortelã']}\n",
            "334 {1: ['Tomar nota que este hotel serve uma grande refeição de tamanho para começar por encomenda uma refeição e partilhar entre duas pessoas.']}\n",
            "335 {1: ['Lugar descontraído para levar os amigos,bater papo, petiscar e tomar um chopinho.', 'Lugar'], 2: ['Os preços são bons e fomos muito bem atendidas.', 'preços', 'atendidas']}\n",
            "336 {1: ['Lugar agradável, seguro, com estacionamento privativo, música ao vivo, um mar de bolinhas pra criançada, e os melhores food trucks e lá tb tem os melhores churros que já comi!!', 'Lugar', 'Lugar', 'estacionamento', 'churros']}\n",
            "337 {1: ['Frequento desde que abriu.']}\n",
            "338 {1: ['No começo  quando eu comecei a comprar as pizzas na Carginalli era usado material de qualidade era muito bom.', 'material de qualidade'], 2: ['Só que passou a vir a pizza além  de queimada com pouco recheio e a qualidade do material péssima.', 'qualidade do material']}\n",
            "339 {1: ['É um dos mais antigos restaurantes italianos da cidade, a comida é muito boa, tem um rotoloni maravilhoso!', 'comida', 'rotoloni'], 2: ['Não gostamos de ir durante o fim de semana devido a acústica, geralmete é lotado e fica muito barulhento.', 'barulhento'], 3: ['Não é um restaurante que turista frequente, mas vale a pena!']}\n",
            "340 {1: ['Excelente custo beneficio.', 'custo beneficio'], 2: ['É um restaurante coma a vontade com clima familiar, super limpo, comida boa e variada e otimo atendimento.', 'comida', 'comida', 'atendimento', 'limpo'], 3: ['recomendo!']}\n",
            "341 {1: ['Lugar especialmente agradável, atendimento excepcional e a comida deliciosa.', 'atendimento', 'comida', 'Lugar'], 2: ['Ótima apresentação dos pratos.', 'apresentação dos pratos']}\n",
            "342 {1: ['Carnes Angus muito saborosas e todo tipo de acompanhamentos a um preço razoável.', 'preço', 'Carnes Angus'], 2: ['Aberto direto até 22 hs.'], 3: ['Recomendo.']}\n",
            "343 {1: [\"O serviço do Bob's é quase sempre confuso e demorado.\", 'serviço', 'serviço'], 2: ['Por isso, se quiser realmente comer lá, vá quando estiver começando a ficar com fome.']}\n",
            "344 {1: ['Restaurante japonês excelente.', 'Restaurante japonês'], 2: ['Diversidade nos tipos de peixes e pratos quentes.'], 3: ['Preço justo e sobremesa já incluída no valor.', 'Preço']}\n",
            "345 {1: ['Um fast food de comida japonesa que cumpre o que promete.'], 2: ['Preço justo, serviço funcional e alimentos bem preparados e apresentados!', 'Preço', 'serviço', 'alimentos', 'alimentos']}\n",
            "346 {1: ['Fui no bife de chorizo e não me arrependi!'], 2: ['Carne saborosíssima com belos acompanhamentos também.', 'Carne'], 3: ['Garçom atencioso e preço justo pelo que oferece.', 'Garçom', 'preço'], 4: ['Recomendo.']}\n",
            "347 {1: ['Local aparentemente simples e pequeno mas super agradável e acolhedor.', 'Local', 'Local', 'Local', 'Local'], 2: ['Cardápio bem enxuto, mas com itens que resolvem e agradam.', 'Cardápio'], 3: ['Preço justo e atendimento excelente.', 'Preço', 'atendimento']}\n",
            "348 {1: ['Localizado no Shopping Vila Olímpia, este restaurante é especializado em carnes, melhor dizendo, em burguers.'], 2: ['E seus hambúrgueres são realmente caprichados, com nível de gordura menor que a maioria e com um pão especial, mais crocante, que vai muito bem com a carne e complementos.', 'hambúrgueres'], 3: ['Há vários tipos de carnes e de tamanhos, vale experimentar.'], 4: ['Outros pratos, oferecem massas, e um Wierner Schnietzel com maionese da casa,  muito bom.'], 5: ['Aliás, tudo é feito em casa, maionese, linguiças, pão.'], 6: ['A carta de vinhos é enxuta, mas adequada, e com preços bem razoáveis.', 'preços', 'carta de vinhos', 'carta de vinhos'], 7: ['A conferir.']}\n",
            "349 {1: ['O movimento na porta chamou atenção!']}\n"
          ],
          "name": "stdout"
        }
      ]
    },
    {
      "cell_type": "markdown",
      "metadata": {
        "id": "FBgjqzspwBAD"
      },
      "source": [
        "## Implementação das regras "
      ]
    },
    {
      "cell_type": "markdown",
      "metadata": {
        "id": "rPX7MEFkdUul"
      },
      "source": [
        "Carregando o core de português"
      ]
    },
    {
      "cell_type": "code",
      "metadata": {
        "id": "eS1aNLcS3BCl"
      },
      "source": [
        "npl = pt_core_news_lg.load()"
      ],
      "execution_count": null,
      "outputs": []
    },
    {
      "cell_type": "markdown",
      "metadata": {
        "id": "-vkakLBLwH65"
      },
      "source": [
        "A primeira regra escolhida, foi a regra 7 **amod(NN,OP)** da tabela 3"
      ]
    },
    {
      "cell_type": "code",
      "metadata": {
        "colab": {
          "base_uri": "https://localhost:8080/"
        },
        "id": "85wogUbcwFHo",
        "outputId": "a925541f-8289-4b7f-d22d-c05f40912e6c"
      },
      "source": [
        "def rule_7(doc):\n",
        "    aspects = []\n",
        "    for i in doc:\n",
        "        if i.dep_ == 'amod':\n",
        "            if i.head.pos_ == 'NOUN':\n",
        "                aspects.append(str(i.head))\n",
        "    return aspects\n",
        "\n",
        "\n",
        "sentence = 'Lugar especialmente agradável, atendimento excepcional e a comida deliciosa.'\n",
        "doc = nlp(sentence)\n",
        "rule_7(doc)"
      ],
      "execution_count": null,
      "outputs": [
        {
          "output_type": "execute_result",
          "data": {
            "text/plain": [
              "['Lugar', 'atendimento', 'comida']"
            ]
          },
          "metadata": {
            "tags": []
          },
          "execution_count": 32
        }
      ]
    },
    {
      "cell_type": "code",
      "metadata": {
        "colab": {
          "base_uri": "https://localhost:8080/",
          "height": 508
        },
        "id": "DIpOSC3U7v7_",
        "outputId": "1ed8b124-fdb8-4463-eedc-05ce6a74d6e7"
      },
      "source": [
        "displacy.render(doc, style='dep', jupyter=True)"
      ],
      "execution_count": null,
      "outputs": [
        {
          "output_type": "display_data",
          "data": {
            "text/html": [
              "<span class=\"tex2jax_ignore\"><svg xmlns=\"http://www.w3.org/2000/svg\" xmlns:xlink=\"http://www.w3.org/1999/xlink\" xml:lang=\"pt\" id=\"54d08861558a4018b96d9c6787b7132a-0\" class=\"displacy\" width=\"1625\" height=\"487.0\" direction=\"ltr\" style=\"max-width: none; height: 487.0px; color: #000000; background: #ffffff; font-family: Arial; direction: ltr\">\n",
              "<text class=\"displacy-token\" fill=\"currentColor\" text-anchor=\"middle\" y=\"397.0\">\n",
              "    <tspan class=\"displacy-word\" fill=\"currentColor\" x=\"50\">Lugar</tspan>\n",
              "    <tspan class=\"displacy-tag\" dy=\"2em\" fill=\"currentColor\" x=\"50\">NOUN</tspan>\n",
              "</text>\n",
              "\n",
              "<text class=\"displacy-token\" fill=\"currentColor\" text-anchor=\"middle\" y=\"397.0\">\n",
              "    <tspan class=\"displacy-word\" fill=\"currentColor\" x=\"225\">especialmente</tspan>\n",
              "    <tspan class=\"displacy-tag\" dy=\"2em\" fill=\"currentColor\" x=\"225\">ADV</tspan>\n",
              "</text>\n",
              "\n",
              "<text class=\"displacy-token\" fill=\"currentColor\" text-anchor=\"middle\" y=\"397.0\">\n",
              "    <tspan class=\"displacy-word\" fill=\"currentColor\" x=\"400\">agradável,</tspan>\n",
              "    <tspan class=\"displacy-tag\" dy=\"2em\" fill=\"currentColor\" x=\"400\">ADJ</tspan>\n",
              "</text>\n",
              "\n",
              "<text class=\"displacy-token\" fill=\"currentColor\" text-anchor=\"middle\" y=\"397.0\">\n",
              "    <tspan class=\"displacy-word\" fill=\"currentColor\" x=\"575\">atendimento</tspan>\n",
              "    <tspan class=\"displacy-tag\" dy=\"2em\" fill=\"currentColor\" x=\"575\">NOUN</tspan>\n",
              "</text>\n",
              "\n",
              "<text class=\"displacy-token\" fill=\"currentColor\" text-anchor=\"middle\" y=\"397.0\">\n",
              "    <tspan class=\"displacy-word\" fill=\"currentColor\" x=\"750\">excepcional</tspan>\n",
              "    <tspan class=\"displacy-tag\" dy=\"2em\" fill=\"currentColor\" x=\"750\">ADJ</tspan>\n",
              "</text>\n",
              "\n",
              "<text class=\"displacy-token\" fill=\"currentColor\" text-anchor=\"middle\" y=\"397.0\">\n",
              "    <tspan class=\"displacy-word\" fill=\"currentColor\" x=\"925\">e</tspan>\n",
              "    <tspan class=\"displacy-tag\" dy=\"2em\" fill=\"currentColor\" x=\"925\">CCONJ</tspan>\n",
              "</text>\n",
              "\n",
              "<text class=\"displacy-token\" fill=\"currentColor\" text-anchor=\"middle\" y=\"397.0\">\n",
              "    <tspan class=\"displacy-word\" fill=\"currentColor\" x=\"1100\">a</tspan>\n",
              "    <tspan class=\"displacy-tag\" dy=\"2em\" fill=\"currentColor\" x=\"1100\">DET</tspan>\n",
              "</text>\n",
              "\n",
              "<text class=\"displacy-token\" fill=\"currentColor\" text-anchor=\"middle\" y=\"397.0\">\n",
              "    <tspan class=\"displacy-word\" fill=\"currentColor\" x=\"1275\">comida</tspan>\n",
              "    <tspan class=\"displacy-tag\" dy=\"2em\" fill=\"currentColor\" x=\"1275\">NOUN</tspan>\n",
              "</text>\n",
              "\n",
              "<text class=\"displacy-token\" fill=\"currentColor\" text-anchor=\"middle\" y=\"397.0\">\n",
              "    <tspan class=\"displacy-word\" fill=\"currentColor\" x=\"1450\">deliciosa.</tspan>\n",
              "    <tspan class=\"displacy-tag\" dy=\"2em\" fill=\"currentColor\" x=\"1450\">ADJ</tspan>\n",
              "</text>\n",
              "\n",
              "<g class=\"displacy-arrow\">\n",
              "    <path class=\"displacy-arc\" id=\"arrow-54d08861558a4018b96d9c6787b7132a-0-0\" stroke-width=\"2px\" d=\"M245,352.0 C245,264.5 385.0,264.5 385.0,352.0\" fill=\"none\" stroke=\"currentColor\"/>\n",
              "    <text dy=\"1.25em\" style=\"font-size: 0.8em; letter-spacing: 1px\">\n",
              "        <textPath xlink:href=\"#arrow-54d08861558a4018b96d9c6787b7132a-0-0\" class=\"displacy-label\" startOffset=\"50%\" side=\"left\" fill=\"currentColor\" text-anchor=\"middle\">advmod</textPath>\n",
              "    </text>\n",
              "    <path class=\"displacy-arrowhead\" d=\"M245,354.0 L237,342.0 253,342.0\" fill=\"currentColor\"/>\n",
              "</g>\n",
              "\n",
              "<g class=\"displacy-arrow\">\n",
              "    <path class=\"displacy-arc\" id=\"arrow-54d08861558a4018b96d9c6787b7132a-0-1\" stroke-width=\"2px\" d=\"M70,352.0 C70,177.0 390.0,177.0 390.0,352.0\" fill=\"none\" stroke=\"currentColor\"/>\n",
              "    <text dy=\"1.25em\" style=\"font-size: 0.8em; letter-spacing: 1px\">\n",
              "        <textPath xlink:href=\"#arrow-54d08861558a4018b96d9c6787b7132a-0-1\" class=\"displacy-label\" startOffset=\"50%\" side=\"left\" fill=\"currentColor\" text-anchor=\"middle\">amod</textPath>\n",
              "    </text>\n",
              "    <path class=\"displacy-arrowhead\" d=\"M390.0,354.0 L398.0,342.0 382.0,342.0\" fill=\"currentColor\"/>\n",
              "</g>\n",
              "\n",
              "<g class=\"displacy-arrow\">\n",
              "    <path class=\"displacy-arc\" id=\"arrow-54d08861558a4018b96d9c6787b7132a-0-2\" stroke-width=\"2px\" d=\"M70,352.0 C70,89.5 570.0,89.5 570.0,352.0\" fill=\"none\" stroke=\"currentColor\"/>\n",
              "    <text dy=\"1.25em\" style=\"font-size: 0.8em; letter-spacing: 1px\">\n",
              "        <textPath xlink:href=\"#arrow-54d08861558a4018b96d9c6787b7132a-0-2\" class=\"displacy-label\" startOffset=\"50%\" side=\"left\" fill=\"currentColor\" text-anchor=\"middle\">conj</textPath>\n",
              "    </text>\n",
              "    <path class=\"displacy-arrowhead\" d=\"M570.0,354.0 L578.0,342.0 562.0,342.0\" fill=\"currentColor\"/>\n",
              "</g>\n",
              "\n",
              "<g class=\"displacy-arrow\">\n",
              "    <path class=\"displacy-arc\" id=\"arrow-54d08861558a4018b96d9c6787b7132a-0-3\" stroke-width=\"2px\" d=\"M595,352.0 C595,264.5 735.0,264.5 735.0,352.0\" fill=\"none\" stroke=\"currentColor\"/>\n",
              "    <text dy=\"1.25em\" style=\"font-size: 0.8em; letter-spacing: 1px\">\n",
              "        <textPath xlink:href=\"#arrow-54d08861558a4018b96d9c6787b7132a-0-3\" class=\"displacy-label\" startOffset=\"50%\" side=\"left\" fill=\"currentColor\" text-anchor=\"middle\">amod</textPath>\n",
              "    </text>\n",
              "    <path class=\"displacy-arrowhead\" d=\"M735.0,354.0 L743.0,342.0 727.0,342.0\" fill=\"currentColor\"/>\n",
              "</g>\n",
              "\n",
              "<g class=\"displacy-arrow\">\n",
              "    <path class=\"displacy-arc\" id=\"arrow-54d08861558a4018b96d9c6787b7132a-0-4\" stroke-width=\"2px\" d=\"M945,352.0 C945,177.0 1265.0,177.0 1265.0,352.0\" fill=\"none\" stroke=\"currentColor\"/>\n",
              "    <text dy=\"1.25em\" style=\"font-size: 0.8em; letter-spacing: 1px\">\n",
              "        <textPath xlink:href=\"#arrow-54d08861558a4018b96d9c6787b7132a-0-4\" class=\"displacy-label\" startOffset=\"50%\" side=\"left\" fill=\"currentColor\" text-anchor=\"middle\">cc</textPath>\n",
              "    </text>\n",
              "    <path class=\"displacy-arrowhead\" d=\"M945,354.0 L937,342.0 953,342.0\" fill=\"currentColor\"/>\n",
              "</g>\n",
              "\n",
              "<g class=\"displacy-arrow\">\n",
              "    <path class=\"displacy-arc\" id=\"arrow-54d08861558a4018b96d9c6787b7132a-0-5\" stroke-width=\"2px\" d=\"M1120,352.0 C1120,264.5 1260.0,264.5 1260.0,352.0\" fill=\"none\" stroke=\"currentColor\"/>\n",
              "    <text dy=\"1.25em\" style=\"font-size: 0.8em; letter-spacing: 1px\">\n",
              "        <textPath xlink:href=\"#arrow-54d08861558a4018b96d9c6787b7132a-0-5\" class=\"displacy-label\" startOffset=\"50%\" side=\"left\" fill=\"currentColor\" text-anchor=\"middle\">det</textPath>\n",
              "    </text>\n",
              "    <path class=\"displacy-arrowhead\" d=\"M1120,354.0 L1112,342.0 1128,342.0\" fill=\"currentColor\"/>\n",
              "</g>\n",
              "\n",
              "<g class=\"displacy-arrow\">\n",
              "    <path class=\"displacy-arc\" id=\"arrow-54d08861558a4018b96d9c6787b7132a-0-6\" stroke-width=\"2px\" d=\"M70,352.0 C70,2.0 1275.0,2.0 1275.0,352.0\" fill=\"none\" stroke=\"currentColor\"/>\n",
              "    <text dy=\"1.25em\" style=\"font-size: 0.8em; letter-spacing: 1px\">\n",
              "        <textPath xlink:href=\"#arrow-54d08861558a4018b96d9c6787b7132a-0-6\" class=\"displacy-label\" startOffset=\"50%\" side=\"left\" fill=\"currentColor\" text-anchor=\"middle\">conj</textPath>\n",
              "    </text>\n",
              "    <path class=\"displacy-arrowhead\" d=\"M1275.0,354.0 L1283.0,342.0 1267.0,342.0\" fill=\"currentColor\"/>\n",
              "</g>\n",
              "\n",
              "<g class=\"displacy-arrow\">\n",
              "    <path class=\"displacy-arc\" id=\"arrow-54d08861558a4018b96d9c6787b7132a-0-7\" stroke-width=\"2px\" d=\"M1295,352.0 C1295,264.5 1435.0,264.5 1435.0,352.0\" fill=\"none\" stroke=\"currentColor\"/>\n",
              "    <text dy=\"1.25em\" style=\"font-size: 0.8em; letter-spacing: 1px\">\n",
              "        <textPath xlink:href=\"#arrow-54d08861558a4018b96d9c6787b7132a-0-7\" class=\"displacy-label\" startOffset=\"50%\" side=\"left\" fill=\"currentColor\" text-anchor=\"middle\">amod</textPath>\n",
              "    </text>\n",
              "    <path class=\"displacy-arrowhead\" d=\"M1435.0,354.0 L1443.0,342.0 1427.0,342.0\" fill=\"currentColor\"/>\n",
              "</g>\n",
              "</svg></span>"
            ],
            "text/plain": [
              "<IPython.core.display.HTML object>"
            ]
          },
          "metadata": {
            "tags": []
          }
        }
      ]
    },
    {
      "cell_type": "markdown",
      "metadata": {
        "id": "u1YU8u4TcuU0"
      },
      "source": [
        "A próxima regra escolhida foi a 23 da tabela 4"
      ]
    },
    {
      "cell_type": "code",
      "metadata": {
        "colab": {
          "base_uri": "https://localhost:8080/"
        },
        "id": "Z0iToWwzDosW",
        "outputId": "b37b95ca-2f44-4fde-fbec-4b381c594188"
      },
      "source": [
        "def rule_23(doc):\n",
        "    aspects = []\n",
        "    for index in range(len(doc)-1):\n",
        "        if doc[index].pos_ == 'NOUN' and doc[index+1].pos_ == 'ADJ':\n",
        "            aspects.append(str(doc[index]))\n",
        "    return aspects\n",
        "\n",
        "sentence = 'Comida simples e barata, para quem esta de passagem pelo centro de João Pessoa, eu recomendo.'\n",
        "doc = nlp(sentence)\n",
        "rule_23(doc)"
      ],
      "execution_count": null,
      "outputs": [
        {
          "output_type": "execute_result",
          "data": {
            "text/plain": [
              "['Comida']"
            ]
          },
          "metadata": {
            "tags": []
          },
          "execution_count": 34
        }
      ]
    },
    {
      "cell_type": "code",
      "metadata": {
        "colab": {
          "base_uri": "https://localhost:8080/",
          "height": 528
        },
        "id": "wQPfaAuxFr6T",
        "outputId": "15329309-7428-4c80-8564-5f3ec5fc27ad"
      },
      "source": [
        "displacy.render(doc, style='dep', jupyter=True)"
      ],
      "execution_count": null,
      "outputs": [
        {
          "output_type": "display_data",
          "data": {
            "text/html": [
              "<span class=\"tex2jax_ignore\"><svg xmlns=\"http://www.w3.org/2000/svg\" xmlns:xlink=\"http://www.w3.org/1999/xlink\" xml:lang=\"pt\" id=\"d588d41b2a5242568cc594d972142e7b-0\" class=\"displacy\" width=\"2850\" height=\"487.0\" direction=\"ltr\" style=\"max-width: none; height: 487.0px; color: #000000; background: #ffffff; font-family: Arial; direction: ltr\">\n",
              "<text class=\"displacy-token\" fill=\"currentColor\" text-anchor=\"middle\" y=\"397.0\">\n",
              "    <tspan class=\"displacy-word\" fill=\"currentColor\" x=\"50\">Comida</tspan>\n",
              "    <tspan class=\"displacy-tag\" dy=\"2em\" fill=\"currentColor\" x=\"50\">NOUN</tspan>\n",
              "</text>\n",
              "\n",
              "<text class=\"displacy-token\" fill=\"currentColor\" text-anchor=\"middle\" y=\"397.0\">\n",
              "    <tspan class=\"displacy-word\" fill=\"currentColor\" x=\"225\">simples</tspan>\n",
              "    <tspan class=\"displacy-tag\" dy=\"2em\" fill=\"currentColor\" x=\"225\">ADJ</tspan>\n",
              "</text>\n",
              "\n",
              "<text class=\"displacy-token\" fill=\"currentColor\" text-anchor=\"middle\" y=\"397.0\">\n",
              "    <tspan class=\"displacy-word\" fill=\"currentColor\" x=\"400\">e</tspan>\n",
              "    <tspan class=\"displacy-tag\" dy=\"2em\" fill=\"currentColor\" x=\"400\">CCONJ</tspan>\n",
              "</text>\n",
              "\n",
              "<text class=\"displacy-token\" fill=\"currentColor\" text-anchor=\"middle\" y=\"397.0\">\n",
              "    <tspan class=\"displacy-word\" fill=\"currentColor\" x=\"575\">barata,</tspan>\n",
              "    <tspan class=\"displacy-tag\" dy=\"2em\" fill=\"currentColor\" x=\"575\">ADJ</tspan>\n",
              "</text>\n",
              "\n",
              "<text class=\"displacy-token\" fill=\"currentColor\" text-anchor=\"middle\" y=\"397.0\">\n",
              "    <tspan class=\"displacy-word\" fill=\"currentColor\" x=\"750\">para</tspan>\n",
              "    <tspan class=\"displacy-tag\" dy=\"2em\" fill=\"currentColor\" x=\"750\">SCONJ</tspan>\n",
              "</text>\n",
              "\n",
              "<text class=\"displacy-token\" fill=\"currentColor\" text-anchor=\"middle\" y=\"397.0\">\n",
              "    <tspan class=\"displacy-word\" fill=\"currentColor\" x=\"925\">quem</tspan>\n",
              "    <tspan class=\"displacy-tag\" dy=\"2em\" fill=\"currentColor\" x=\"925\">PRON</tspan>\n",
              "</text>\n",
              "\n",
              "<text class=\"displacy-token\" fill=\"currentColor\" text-anchor=\"middle\" y=\"397.0\">\n",
              "    <tspan class=\"displacy-word\" fill=\"currentColor\" x=\"1100\">esta</tspan>\n",
              "    <tspan class=\"displacy-tag\" dy=\"2em\" fill=\"currentColor\" x=\"1100\">PRON</tspan>\n",
              "</text>\n",
              "\n",
              "<text class=\"displacy-token\" fill=\"currentColor\" text-anchor=\"middle\" y=\"397.0\">\n",
              "    <tspan class=\"displacy-word\" fill=\"currentColor\" x=\"1275\">de</tspan>\n",
              "    <tspan class=\"displacy-tag\" dy=\"2em\" fill=\"currentColor\" x=\"1275\">ADP</tspan>\n",
              "</text>\n",
              "\n",
              "<text class=\"displacy-token\" fill=\"currentColor\" text-anchor=\"middle\" y=\"397.0\">\n",
              "    <tspan class=\"displacy-word\" fill=\"currentColor\" x=\"1450\">passagem</tspan>\n",
              "    <tspan class=\"displacy-tag\" dy=\"2em\" fill=\"currentColor\" x=\"1450\">NOUN</tspan>\n",
              "</text>\n",
              "\n",
              "<text class=\"displacy-token\" fill=\"currentColor\" text-anchor=\"middle\" y=\"397.0\">\n",
              "    <tspan class=\"displacy-word\" fill=\"currentColor\" x=\"1625\">pelo</tspan>\n",
              "    <tspan class=\"displacy-tag\" dy=\"2em\" fill=\"currentColor\" x=\"1625\">ADP</tspan>\n",
              "</text>\n",
              "\n",
              "<text class=\"displacy-token\" fill=\"currentColor\" text-anchor=\"middle\" y=\"397.0\">\n",
              "    <tspan class=\"displacy-word\" fill=\"currentColor\" x=\"1800\">centro</tspan>\n",
              "    <tspan class=\"displacy-tag\" dy=\"2em\" fill=\"currentColor\" x=\"1800\">NOUN</tspan>\n",
              "</text>\n",
              "\n",
              "<text class=\"displacy-token\" fill=\"currentColor\" text-anchor=\"middle\" y=\"397.0\">\n",
              "    <tspan class=\"displacy-word\" fill=\"currentColor\" x=\"1975\">de</tspan>\n",
              "    <tspan class=\"displacy-tag\" dy=\"2em\" fill=\"currentColor\" x=\"1975\">ADP</tspan>\n",
              "</text>\n",
              "\n",
              "<text class=\"displacy-token\" fill=\"currentColor\" text-anchor=\"middle\" y=\"397.0\">\n",
              "    <tspan class=\"displacy-word\" fill=\"currentColor\" x=\"2150\">João</tspan>\n",
              "    <tspan class=\"displacy-tag\" dy=\"2em\" fill=\"currentColor\" x=\"2150\">PROPN</tspan>\n",
              "</text>\n",
              "\n",
              "<text class=\"displacy-token\" fill=\"currentColor\" text-anchor=\"middle\" y=\"397.0\">\n",
              "    <tspan class=\"displacy-word\" fill=\"currentColor\" x=\"2325\">Pessoa,</tspan>\n",
              "    <tspan class=\"displacy-tag\" dy=\"2em\" fill=\"currentColor\" x=\"2325\">PROPN</tspan>\n",
              "</text>\n",
              "\n",
              "<text class=\"displacy-token\" fill=\"currentColor\" text-anchor=\"middle\" y=\"397.0\">\n",
              "    <tspan class=\"displacy-word\" fill=\"currentColor\" x=\"2500\">eu</tspan>\n",
              "    <tspan class=\"displacy-tag\" dy=\"2em\" fill=\"currentColor\" x=\"2500\">PRON</tspan>\n",
              "</text>\n",
              "\n",
              "<text class=\"displacy-token\" fill=\"currentColor\" text-anchor=\"middle\" y=\"397.0\">\n",
              "    <tspan class=\"displacy-word\" fill=\"currentColor\" x=\"2675\">recomendo.</tspan>\n",
              "    <tspan class=\"displacy-tag\" dy=\"2em\" fill=\"currentColor\" x=\"2675\">VERB</tspan>\n",
              "</text>\n",
              "\n",
              "<g class=\"displacy-arrow\">\n",
              "    <path class=\"displacy-arc\" id=\"arrow-d588d41b2a5242568cc594d972142e7b-0-0\" stroke-width=\"2px\" d=\"M70,352.0 C70,264.5 210.0,264.5 210.0,352.0\" fill=\"none\" stroke=\"currentColor\"/>\n",
              "    <text dy=\"1.25em\" style=\"font-size: 0.8em; letter-spacing: 1px\">\n",
              "        <textPath xlink:href=\"#arrow-d588d41b2a5242568cc594d972142e7b-0-0\" class=\"displacy-label\" startOffset=\"50%\" side=\"left\" fill=\"currentColor\" text-anchor=\"middle\">amod</textPath>\n",
              "    </text>\n",
              "    <path class=\"displacy-arrowhead\" d=\"M210.0,354.0 L218.0,342.0 202.0,342.0\" fill=\"currentColor\"/>\n",
              "</g>\n",
              "\n",
              "<g class=\"displacy-arrow\">\n",
              "    <path class=\"displacy-arc\" id=\"arrow-d588d41b2a5242568cc594d972142e7b-0-1\" stroke-width=\"2px\" d=\"M420,352.0 C420,264.5 560.0,264.5 560.0,352.0\" fill=\"none\" stroke=\"currentColor\"/>\n",
              "    <text dy=\"1.25em\" style=\"font-size: 0.8em; letter-spacing: 1px\">\n",
              "        <textPath xlink:href=\"#arrow-d588d41b2a5242568cc594d972142e7b-0-1\" class=\"displacy-label\" startOffset=\"50%\" side=\"left\" fill=\"currentColor\" text-anchor=\"middle\">cc</textPath>\n",
              "    </text>\n",
              "    <path class=\"displacy-arrowhead\" d=\"M420,354.0 L412,342.0 428,342.0\" fill=\"currentColor\"/>\n",
              "</g>\n",
              "\n",
              "<g class=\"displacy-arrow\">\n",
              "    <path class=\"displacy-arc\" id=\"arrow-d588d41b2a5242568cc594d972142e7b-0-2\" stroke-width=\"2px\" d=\"M245,352.0 C245,177.0 565.0,177.0 565.0,352.0\" fill=\"none\" stroke=\"currentColor\"/>\n",
              "    <text dy=\"1.25em\" style=\"font-size: 0.8em; letter-spacing: 1px\">\n",
              "        <textPath xlink:href=\"#arrow-d588d41b2a5242568cc594d972142e7b-0-2\" class=\"displacy-label\" startOffset=\"50%\" side=\"left\" fill=\"currentColor\" text-anchor=\"middle\">conj</textPath>\n",
              "    </text>\n",
              "    <path class=\"displacy-arrowhead\" d=\"M565.0,354.0 L573.0,342.0 557.0,342.0\" fill=\"currentColor\"/>\n",
              "</g>\n",
              "\n",
              "<g class=\"displacy-arrow\">\n",
              "    <path class=\"displacy-arc\" id=\"arrow-d588d41b2a5242568cc594d972142e7b-0-3\" stroke-width=\"2px\" d=\"M770,352.0 C770,264.5 910.0,264.5 910.0,352.0\" fill=\"none\" stroke=\"currentColor\"/>\n",
              "    <text dy=\"1.25em\" style=\"font-size: 0.8em; letter-spacing: 1px\">\n",
              "        <textPath xlink:href=\"#arrow-d588d41b2a5242568cc594d972142e7b-0-3\" class=\"displacy-label\" startOffset=\"50%\" side=\"left\" fill=\"currentColor\" text-anchor=\"middle\">case</textPath>\n",
              "    </text>\n",
              "    <path class=\"displacy-arrowhead\" d=\"M770,354.0 L762,342.0 778,342.0\" fill=\"currentColor\"/>\n",
              "</g>\n",
              "\n",
              "<g class=\"displacy-arrow\">\n",
              "    <path class=\"displacy-arc\" id=\"arrow-d588d41b2a5242568cc594d972142e7b-0-4\" stroke-width=\"2px\" d=\"M945,352.0 C945,89.5 2670.0,89.5 2670.0,352.0\" fill=\"none\" stroke=\"currentColor\"/>\n",
              "    <text dy=\"1.25em\" style=\"font-size: 0.8em; letter-spacing: 1px\">\n",
              "        <textPath xlink:href=\"#arrow-d588d41b2a5242568cc594d972142e7b-0-4\" class=\"displacy-label\" startOffset=\"50%\" side=\"left\" fill=\"currentColor\" text-anchor=\"middle\">obj</textPath>\n",
              "    </text>\n",
              "    <path class=\"displacy-arrowhead\" d=\"M945,354.0 L937,342.0 953,342.0\" fill=\"currentColor\"/>\n",
              "</g>\n",
              "\n",
              "<g class=\"displacy-arrow\">\n",
              "    <path class=\"displacy-arc\" id=\"arrow-d588d41b2a5242568cc594d972142e7b-0-5\" stroke-width=\"2px\" d=\"M945,352.0 C945,264.5 1085.0,264.5 1085.0,352.0\" fill=\"none\" stroke=\"currentColor\"/>\n",
              "    <text dy=\"1.25em\" style=\"font-size: 0.8em; letter-spacing: 1px\">\n",
              "        <textPath xlink:href=\"#arrow-d588d41b2a5242568cc594d972142e7b-0-5\" class=\"displacy-label\" startOffset=\"50%\" side=\"left\" fill=\"currentColor\" text-anchor=\"middle\">nsubj</textPath>\n",
              "    </text>\n",
              "    <path class=\"displacy-arrowhead\" d=\"M1085.0,354.0 L1093.0,342.0 1077.0,342.0\" fill=\"currentColor\"/>\n",
              "</g>\n",
              "\n",
              "<g class=\"displacy-arrow\">\n",
              "    <path class=\"displacy-arc\" id=\"arrow-d588d41b2a5242568cc594d972142e7b-0-6\" stroke-width=\"2px\" d=\"M1295,352.0 C1295,264.5 1435.0,264.5 1435.0,352.0\" fill=\"none\" stroke=\"currentColor\"/>\n",
              "    <text dy=\"1.25em\" style=\"font-size: 0.8em; letter-spacing: 1px\">\n",
              "        <textPath xlink:href=\"#arrow-d588d41b2a5242568cc594d972142e7b-0-6\" class=\"displacy-label\" startOffset=\"50%\" side=\"left\" fill=\"currentColor\" text-anchor=\"middle\">case</textPath>\n",
              "    </text>\n",
              "    <path class=\"displacy-arrowhead\" d=\"M1295,354.0 L1287,342.0 1303,342.0\" fill=\"currentColor\"/>\n",
              "</g>\n",
              "\n",
              "<g class=\"displacy-arrow\">\n",
              "    <path class=\"displacy-arc\" id=\"arrow-d588d41b2a5242568cc594d972142e7b-0-7\" stroke-width=\"2px\" d=\"M1120,352.0 C1120,177.0 1440.0,177.0 1440.0,352.0\" fill=\"none\" stroke=\"currentColor\"/>\n",
              "    <text dy=\"1.25em\" style=\"font-size: 0.8em; letter-spacing: 1px\">\n",
              "        <textPath xlink:href=\"#arrow-d588d41b2a5242568cc594d972142e7b-0-7\" class=\"displacy-label\" startOffset=\"50%\" side=\"left\" fill=\"currentColor\" text-anchor=\"middle\">nmod</textPath>\n",
              "    </text>\n",
              "    <path class=\"displacy-arrowhead\" d=\"M1440.0,354.0 L1448.0,342.0 1432.0,342.0\" fill=\"currentColor\"/>\n",
              "</g>\n",
              "\n",
              "<g class=\"displacy-arrow\">\n",
              "    <path class=\"displacy-arc\" id=\"arrow-d588d41b2a5242568cc594d972142e7b-0-8\" stroke-width=\"2px\" d=\"M1645,352.0 C1645,264.5 1785.0,264.5 1785.0,352.0\" fill=\"none\" stroke=\"currentColor\"/>\n",
              "    <text dy=\"1.25em\" style=\"font-size: 0.8em; letter-spacing: 1px\">\n",
              "        <textPath xlink:href=\"#arrow-d588d41b2a5242568cc594d972142e7b-0-8\" class=\"displacy-label\" startOffset=\"50%\" side=\"left\" fill=\"currentColor\" text-anchor=\"middle\">case</textPath>\n",
              "    </text>\n",
              "    <path class=\"displacy-arrowhead\" d=\"M1645,354.0 L1637,342.0 1653,342.0\" fill=\"currentColor\"/>\n",
              "</g>\n",
              "\n",
              "<g class=\"displacy-arrow\">\n",
              "    <path class=\"displacy-arc\" id=\"arrow-d588d41b2a5242568cc594d972142e7b-0-9\" stroke-width=\"2px\" d=\"M1470,352.0 C1470,177.0 1790.0,177.0 1790.0,352.0\" fill=\"none\" stroke=\"currentColor\"/>\n",
              "    <text dy=\"1.25em\" style=\"font-size: 0.8em; letter-spacing: 1px\">\n",
              "        <textPath xlink:href=\"#arrow-d588d41b2a5242568cc594d972142e7b-0-9\" class=\"displacy-label\" startOffset=\"50%\" side=\"left\" fill=\"currentColor\" text-anchor=\"middle\">nmod</textPath>\n",
              "    </text>\n",
              "    <path class=\"displacy-arrowhead\" d=\"M1790.0,354.0 L1798.0,342.0 1782.0,342.0\" fill=\"currentColor\"/>\n",
              "</g>\n",
              "\n",
              "<g class=\"displacy-arrow\">\n",
              "    <path class=\"displacy-arc\" id=\"arrow-d588d41b2a5242568cc594d972142e7b-0-10\" stroke-width=\"2px\" d=\"M1995,352.0 C1995,264.5 2135.0,264.5 2135.0,352.0\" fill=\"none\" stroke=\"currentColor\"/>\n",
              "    <text dy=\"1.25em\" style=\"font-size: 0.8em; letter-spacing: 1px\">\n",
              "        <textPath xlink:href=\"#arrow-d588d41b2a5242568cc594d972142e7b-0-10\" class=\"displacy-label\" startOffset=\"50%\" side=\"left\" fill=\"currentColor\" text-anchor=\"middle\">case</textPath>\n",
              "    </text>\n",
              "    <path class=\"displacy-arrowhead\" d=\"M1995,354.0 L1987,342.0 2003,342.0\" fill=\"currentColor\"/>\n",
              "</g>\n",
              "\n",
              "<g class=\"displacy-arrow\">\n",
              "    <path class=\"displacy-arc\" id=\"arrow-d588d41b2a5242568cc594d972142e7b-0-11\" stroke-width=\"2px\" d=\"M1820,352.0 C1820,177.0 2140.0,177.0 2140.0,352.0\" fill=\"none\" stroke=\"currentColor\"/>\n",
              "    <text dy=\"1.25em\" style=\"font-size: 0.8em; letter-spacing: 1px\">\n",
              "        <textPath xlink:href=\"#arrow-d588d41b2a5242568cc594d972142e7b-0-11\" class=\"displacy-label\" startOffset=\"50%\" side=\"left\" fill=\"currentColor\" text-anchor=\"middle\">nmod</textPath>\n",
              "    </text>\n",
              "    <path class=\"displacy-arrowhead\" d=\"M2140.0,354.0 L2148.0,342.0 2132.0,342.0\" fill=\"currentColor\"/>\n",
              "</g>\n",
              "\n",
              "<g class=\"displacy-arrow\">\n",
              "    <path class=\"displacy-arc\" id=\"arrow-d588d41b2a5242568cc594d972142e7b-0-12\" stroke-width=\"2px\" d=\"M2170,352.0 C2170,264.5 2310.0,264.5 2310.0,352.0\" fill=\"none\" stroke=\"currentColor\"/>\n",
              "    <text dy=\"1.25em\" style=\"font-size: 0.8em; letter-spacing: 1px\">\n",
              "        <textPath xlink:href=\"#arrow-d588d41b2a5242568cc594d972142e7b-0-12\" class=\"displacy-label\" startOffset=\"50%\" side=\"left\" fill=\"currentColor\" text-anchor=\"middle\">flat:name</textPath>\n",
              "    </text>\n",
              "    <path class=\"displacy-arrowhead\" d=\"M2310.0,354.0 L2318.0,342.0 2302.0,342.0\" fill=\"currentColor\"/>\n",
              "</g>\n",
              "\n",
              "<g class=\"displacy-arrow\">\n",
              "    <path class=\"displacy-arc\" id=\"arrow-d588d41b2a5242568cc594d972142e7b-0-13\" stroke-width=\"2px\" d=\"M2520,352.0 C2520,264.5 2660.0,264.5 2660.0,352.0\" fill=\"none\" stroke=\"currentColor\"/>\n",
              "    <text dy=\"1.25em\" style=\"font-size: 0.8em; letter-spacing: 1px\">\n",
              "        <textPath xlink:href=\"#arrow-d588d41b2a5242568cc594d972142e7b-0-13\" class=\"displacy-label\" startOffset=\"50%\" side=\"left\" fill=\"currentColor\" text-anchor=\"middle\">nsubj</textPath>\n",
              "    </text>\n",
              "    <path class=\"displacy-arrowhead\" d=\"M2520,354.0 L2512,342.0 2528,342.0\" fill=\"currentColor\"/>\n",
              "</g>\n",
              "\n",
              "<g class=\"displacy-arrow\">\n",
              "    <path class=\"displacy-arc\" id=\"arrow-d588d41b2a5242568cc594d972142e7b-0-14\" stroke-width=\"2px\" d=\"M70,352.0 C70,2.0 2675.0,2.0 2675.0,352.0\" fill=\"none\" stroke=\"currentColor\"/>\n",
              "    <text dy=\"1.25em\" style=\"font-size: 0.8em; letter-spacing: 1px\">\n",
              "        <textPath xlink:href=\"#arrow-d588d41b2a5242568cc594d972142e7b-0-14\" class=\"displacy-label\" startOffset=\"50%\" side=\"left\" fill=\"currentColor\" text-anchor=\"middle\">advcl</textPath>\n",
              "    </text>\n",
              "    <path class=\"displacy-arrowhead\" d=\"M2675.0,354.0 L2683.0,342.0 2667.0,342.0\" fill=\"currentColor\"/>\n",
              "</g>\n",
              "</svg></span>"
            ],
            "text/plain": [
              "<IPython.core.display.HTML object>"
            ]
          },
          "metadata": {
            "tags": []
          }
        }
      ]
    },
    {
      "cell_type": "markdown",
      "metadata": {
        "id": "8NZ1qj2fc1VO"
      },
      "source": [
        "Seguido pela regra 60 tabela 5"
      ]
    },
    {
      "cell_type": "code",
      "metadata": {
        "colab": {
          "base_uri": "https://localhost:8080/"
        },
        "id": "gWaAYzR8Gl9d",
        "outputId": "b3c42f61-73b2-4293-9837-e02315806460"
      },
      "source": [
        "def rule_60(doc):\n",
        "    aspects = []\n",
        "    for index in range(len(doc)-3):\n",
        "        if (doc[index].pos_ == 'DET') and (doc[index+1].pos_ == 'NOUN') and (doc[index+2].pos_ != 'NOUN' )and (doc[index+3].pos_ == 'ADJ'):\n",
        "            aspects.append(str(doc[index+1]))\n",
        "    return aspects\n",
        "\n",
        "nlp = en_core_web_lg.load()\n",
        "# their customer service is very poor.\n",
        "sentence = 'this camera is closest to perfect'\n",
        "doc = nlp(sentence)\n",
        "rule_60(doc)"
      ],
      "execution_count": null,
      "outputs": [
        {
          "output_type": "execute_result",
          "data": {
            "text/plain": [
              "['camera']"
            ]
          },
          "metadata": {
            "tags": []
          },
          "execution_count": 13
        }
      ]
    },
    {
      "cell_type": "code",
      "metadata": {
        "colab": {
          "base_uri": "https://localhost:8080/",
          "height": 333
        },
        "id": "yZXfkBadHjQA",
        "outputId": "317c4c03-a608-4b3f-ecc9-ea676fbfb36c"
      },
      "source": [
        "displacy.render(doc, style='dep', jupyter=True)"
      ],
      "execution_count": null,
      "outputs": [
        {
          "output_type": "display_data",
          "data": {
            "text/html": [
              "<span class=\"tex2jax_ignore\"><svg xmlns=\"http://www.w3.org/2000/svg\" xmlns:xlink=\"http://www.w3.org/1999/xlink\" xml:lang=\"en\" id=\"a890827569dc4dd6a00871afded4331b-0\" class=\"displacy\" width=\"1100\" height=\"312.0\" direction=\"ltr\" style=\"max-width: none; height: 312.0px; color: #000000; background: #ffffff; font-family: Arial; direction: ltr\">\n",
              "<text class=\"displacy-token\" fill=\"currentColor\" text-anchor=\"middle\" y=\"222.0\">\n",
              "    <tspan class=\"displacy-word\" fill=\"currentColor\" x=\"50\">this</tspan>\n",
              "    <tspan class=\"displacy-tag\" dy=\"2em\" fill=\"currentColor\" x=\"50\">DET</tspan>\n",
              "</text>\n",
              "\n",
              "<text class=\"displacy-token\" fill=\"currentColor\" text-anchor=\"middle\" y=\"222.0\">\n",
              "    <tspan class=\"displacy-word\" fill=\"currentColor\" x=\"225\">camera</tspan>\n",
              "    <tspan class=\"displacy-tag\" dy=\"2em\" fill=\"currentColor\" x=\"225\">NOUN</tspan>\n",
              "</text>\n",
              "\n",
              "<text class=\"displacy-token\" fill=\"currentColor\" text-anchor=\"middle\" y=\"222.0\">\n",
              "    <tspan class=\"displacy-word\" fill=\"currentColor\" x=\"400\">is</tspan>\n",
              "    <tspan class=\"displacy-tag\" dy=\"2em\" fill=\"currentColor\" x=\"400\">AUX</tspan>\n",
              "</text>\n",
              "\n",
              "<text class=\"displacy-token\" fill=\"currentColor\" text-anchor=\"middle\" y=\"222.0\">\n",
              "    <tspan class=\"displacy-word\" fill=\"currentColor\" x=\"575\">closest</tspan>\n",
              "    <tspan class=\"displacy-tag\" dy=\"2em\" fill=\"currentColor\" x=\"575\">ADJ</tspan>\n",
              "</text>\n",
              "\n",
              "<text class=\"displacy-token\" fill=\"currentColor\" text-anchor=\"middle\" y=\"222.0\">\n",
              "    <tspan class=\"displacy-word\" fill=\"currentColor\" x=\"750\">to</tspan>\n",
              "    <tspan class=\"displacy-tag\" dy=\"2em\" fill=\"currentColor\" x=\"750\">PART</tspan>\n",
              "</text>\n",
              "\n",
              "<text class=\"displacy-token\" fill=\"currentColor\" text-anchor=\"middle\" y=\"222.0\">\n",
              "    <tspan class=\"displacy-word\" fill=\"currentColor\" x=\"925\">perfect</tspan>\n",
              "    <tspan class=\"displacy-tag\" dy=\"2em\" fill=\"currentColor\" x=\"925\">VERB</tspan>\n",
              "</text>\n",
              "\n",
              "<g class=\"displacy-arrow\">\n",
              "    <path class=\"displacy-arc\" id=\"arrow-a890827569dc4dd6a00871afded4331b-0-0\" stroke-width=\"2px\" d=\"M70,177.0 C70,89.5 220.0,89.5 220.0,177.0\" fill=\"none\" stroke=\"currentColor\"/>\n",
              "    <text dy=\"1.25em\" style=\"font-size: 0.8em; letter-spacing: 1px\">\n",
              "        <textPath xlink:href=\"#arrow-a890827569dc4dd6a00871afded4331b-0-0\" class=\"displacy-label\" startOffset=\"50%\" side=\"left\" fill=\"currentColor\" text-anchor=\"middle\">det</textPath>\n",
              "    </text>\n",
              "    <path class=\"displacy-arrowhead\" d=\"M70,179.0 L62,167.0 78,167.0\" fill=\"currentColor\"/>\n",
              "</g>\n",
              "\n",
              "<g class=\"displacy-arrow\">\n",
              "    <path class=\"displacy-arc\" id=\"arrow-a890827569dc4dd6a00871afded4331b-0-1\" stroke-width=\"2px\" d=\"M245,177.0 C245,89.5 395.0,89.5 395.0,177.0\" fill=\"none\" stroke=\"currentColor\"/>\n",
              "    <text dy=\"1.25em\" style=\"font-size: 0.8em; letter-spacing: 1px\">\n",
              "        <textPath xlink:href=\"#arrow-a890827569dc4dd6a00871afded4331b-0-1\" class=\"displacy-label\" startOffset=\"50%\" side=\"left\" fill=\"currentColor\" text-anchor=\"middle\">nsubj</textPath>\n",
              "    </text>\n",
              "    <path class=\"displacy-arrowhead\" d=\"M245,179.0 L237,167.0 253,167.0\" fill=\"currentColor\"/>\n",
              "</g>\n",
              "\n",
              "<g class=\"displacy-arrow\">\n",
              "    <path class=\"displacy-arc\" id=\"arrow-a890827569dc4dd6a00871afded4331b-0-2\" stroke-width=\"2px\" d=\"M420,177.0 C420,89.5 570.0,89.5 570.0,177.0\" fill=\"none\" stroke=\"currentColor\"/>\n",
              "    <text dy=\"1.25em\" style=\"font-size: 0.8em; letter-spacing: 1px\">\n",
              "        <textPath xlink:href=\"#arrow-a890827569dc4dd6a00871afded4331b-0-2\" class=\"displacy-label\" startOffset=\"50%\" side=\"left\" fill=\"currentColor\" text-anchor=\"middle\">acomp</textPath>\n",
              "    </text>\n",
              "    <path class=\"displacy-arrowhead\" d=\"M570.0,179.0 L578.0,167.0 562.0,167.0\" fill=\"currentColor\"/>\n",
              "</g>\n",
              "\n",
              "<g class=\"displacy-arrow\">\n",
              "    <path class=\"displacy-arc\" id=\"arrow-a890827569dc4dd6a00871afded4331b-0-3\" stroke-width=\"2px\" d=\"M770,177.0 C770,89.5 920.0,89.5 920.0,177.0\" fill=\"none\" stroke=\"currentColor\"/>\n",
              "    <text dy=\"1.25em\" style=\"font-size: 0.8em; letter-spacing: 1px\">\n",
              "        <textPath xlink:href=\"#arrow-a890827569dc4dd6a00871afded4331b-0-3\" class=\"displacy-label\" startOffset=\"50%\" side=\"left\" fill=\"currentColor\" text-anchor=\"middle\">aux</textPath>\n",
              "    </text>\n",
              "    <path class=\"displacy-arrowhead\" d=\"M770,179.0 L762,167.0 778,167.0\" fill=\"currentColor\"/>\n",
              "</g>\n",
              "\n",
              "<g class=\"displacy-arrow\">\n",
              "    <path class=\"displacy-arc\" id=\"arrow-a890827569dc4dd6a00871afded4331b-0-4\" stroke-width=\"2px\" d=\"M420,177.0 C420,2.0 925.0,2.0 925.0,177.0\" fill=\"none\" stroke=\"currentColor\"/>\n",
              "    <text dy=\"1.25em\" style=\"font-size: 0.8em; letter-spacing: 1px\">\n",
              "        <textPath xlink:href=\"#arrow-a890827569dc4dd6a00871afded4331b-0-4\" class=\"displacy-label\" startOffset=\"50%\" side=\"left\" fill=\"currentColor\" text-anchor=\"middle\">xcomp</textPath>\n",
              "    </text>\n",
              "    <path class=\"displacy-arrowhead\" d=\"M925.0,179.0 L933.0,167.0 917.0,167.0\" fill=\"currentColor\"/>\n",
              "</g>\n",
              "</svg></span>"
            ],
            "text/plain": [
              "<IPython.core.display.HTML object>"
            ]
          },
          "metadata": {
            "tags": []
          }
        }
      ]
    },
    {
      "cell_type": "code",
      "metadata": {
        "id": "luHVvOZpLhB_"
      },
      "source": [
        "def extract_sentences_and_aspects():\n",
        "    aspects = []\n",
        "    sentences = []\n",
        "    for row in new_dataset.values():\n",
        "        for sentence_dict in row.values():\n",
        "            if len(sentence_dict) > 1:\n",
        "                sentences.append(sentence_dict[0])\n",
        "                aspects.append(sorted(sentence_dict[1:]))\n",
        "            else:\n",
        "                sentences.append(sentence_dict[0])\n",
        "                aspects.append([])\n",
        "    return sentences, aspects\n",
        "\n",
        "sentences, real_aspects = extract_sentences_and_aspects()"
      ],
      "execution_count": null,
      "outputs": []
    },
    {
      "cell_type": "code",
      "metadata": {
        "id": "u-INymdBRUvQ"
      },
      "source": [
        "def apply_rule(sentences, rule):\n",
        "    predicted_aspects = []\n",
        "    for sentence in sentences:\n",
        "        predicted_aspects.append(sorted(rule(nlp(sentence))))\n",
        "    return predicted_aspects"
      ],
      "execution_count": null,
      "outputs": []
    },
    {
      "cell_type": "code",
      "metadata": {
        "id": "D_Jy5igMSQDH"
      },
      "source": [
        "nlp = pt_core_news_lg.load()\n",
        "rule_7_aspects = apply_rule(sentences, rule_7)\n",
        "rule_23_aspects = apply_rule(sentences, rule_23)\n",
        "rule_60_aspects = apply_rule(sentences, rule_60)"
      ],
      "execution_count": null,
      "outputs": []
    },
    {
      "cell_type": "code",
      "metadata": {
        "id": "ptDeL8jAUC2v"
      },
      "source": [
        "def confusion_matrix_generator(predicted_aspects, real_aspects):\n",
        "    TN=FP=FN=TP=0\n",
        "    for predicted, real in zip(predicted_aspects, real_aspects):\n",
        "      if predicted == real:\n",
        "        TP += len(predicted)\n",
        "      elif predicted > real:\n",
        "        FP += len([false_positive for false_positive in predicted if false_positive not in real])\n",
        "      elif predicted < real:\n",
        "        FN += len([false_negative for false_negative in real if false_negative not in predicted])\n",
        "    return [[TN, FP],[FN, TP]]"
      ],
      "execution_count": null,
      "outputs": []
    },
    {
      "cell_type": "code",
      "metadata": {
        "id": "LIZFGdKvT0Si"
      },
      "source": [
        "rule_7_confusion_matrix = confusion_matrix_generator(rule_7_aspects, real_aspects)\n",
        "rule_23_confusion_matrix = confusion_matrix_generator(rule_23_aspects, real_aspects)\n",
        "rule_60_confusion_matrix = confusion_matrix_generator(rule_60_aspects, real_aspects)"
      ],
      "execution_count": null,
      "outputs": []
    },
    {
      "cell_type": "code",
      "metadata": {
        "id": "hyye4YeNYMNs"
      },
      "source": [
        "def precision(confusion_matrix):\n",
        "    \"\"\"\n",
        "    It calculates the precision metric\n",
        "    :param list confusion_matrix: confusion matrix, needs to be at following pattern\n",
        "    [[True Negative, False Positive],\n",
        "    [False Negativem, True positive]]\n",
        "    \"\"\"\n",
        "    return confusion_matrix[1][1] / (confusion_matrix[1][1] + confusion_matrix[0][1])"
      ],
      "execution_count": null,
      "outputs": []
    },
    {
      "cell_type": "code",
      "metadata": {
        "id": "QV0La1scYRrX"
      },
      "source": [
        "def recall(confusion_matrix):\n",
        "    \"\"\"\n",
        "    It calculates the recall metric\n",
        "    :param list confusion_matrix: confusion matrix, needs to be at following pattern\n",
        "    [[True Negative, False Positive],\n",
        "     [False Negativem, True positive]]\n",
        "    \"\"\"\n",
        "    return confusion_matrix[1][1] / (confusion_matrix[1][1] + confusion_matrix[1][0])"
      ],
      "execution_count": null,
      "outputs": []
    },
    {
      "cell_type": "code",
      "metadata": {
        "id": "dFWMxTYhYUUX"
      },
      "source": [
        "def f1_score(confusion_matrix):\n",
        "    \"\"\"\n",
        "    It calculates the F1-Score metric\n",
        "    :param list confusion_matrix: confusion matrix, needs to be at following pattern\n",
        "    [[True Negative, False Positive],\n",
        "     [False Negativem, True positive]]\n",
        "    \"\"\"\n",
        "    preci = precision(confusion_matrix)\n",
        "    rec = recall(confusion_matrix)\n",
        "    return 2*((preci * rec)/(preci + rec))"
      ],
      "execution_count": null,
      "outputs": []
    },
    {
      "cell_type": "markdown",
      "metadata": {
        "id": "60kJA3ScYdGK"
      },
      "source": [
        "# Metrics for Rule 7"
      ]
    },
    {
      "cell_type": "code",
      "metadata": {
        "colab": {
          "base_uri": "https://localhost:8080/"
        },
        "id": "Zw7SaUwrYds2",
        "outputId": "0c111060-7e70-4564-d803-1c53cd1b50a7"
      },
      "source": [
        "print('Precision: ', precision(rule_7_confusion_matrix))\n",
        "print('Recall: ', recall(rule_7_confusion_matrix))\n",
        "print('F1-Score: ', f1_score(rule_7_confusion_matrix))"
      ],
      "execution_count": null,
      "outputs": [
        {
          "output_type": "stream",
          "text": [
            "Precision:  0.2970873786407767\n",
            "Recall:  0.27079646017699116\n",
            "F1-Score:  0.2833333333333334\n"
          ],
          "name": "stdout"
        }
      ]
    },
    {
      "cell_type": "markdown",
      "metadata": {
        "id": "mQz2j7YjYd6b"
      },
      "source": [
        "# Metrics for Rule 23"
      ]
    },
    {
      "cell_type": "code",
      "metadata": {
        "colab": {
          "base_uri": "https://localhost:8080/"
        },
        "id": "AiE8EQf1YeFK",
        "outputId": "81ce928c-b38c-497f-fc3c-972cab6f9311"
      },
      "source": [
        "print('Precision: ', precision(rule_23_confusion_matrix))\n",
        "print('Recall: ', recall(rule_23_confusion_matrix))\n",
        "print('F1-Score: ', f1_score(rule_23_confusion_matrix))"
      ],
      "execution_count": null,
      "outputs": [
        {
          "output_type": "stream",
          "text": [
            "Precision:  0.22813688212927757\n",
            "Recall:  0.08862629246676514\n",
            "F1-Score:  0.12765957446808512\n"
          ],
          "name": "stdout"
        }
      ]
    },
    {
      "cell_type": "markdown",
      "metadata": {
        "id": "dnZvIHoIYeRW"
      },
      "source": [
        "# Metrics for Rule 60"
      ]
    },
    {
      "cell_type": "code",
      "metadata": {
        "colab": {
          "base_uri": "https://localhost:8080/"
        },
        "id": "d8RKmZKtYeZk",
        "outputId": "6888189b-e90e-4ee3-dd2b-db104f83e20b"
      },
      "source": [
        "print('Precision: ', precision(rule_60_confusion_matrix))\n",
        "print('Recall: ', recall(rule_60_confusion_matrix))\n",
        "print('F1-Score: ', f1_score(rule_60_confusion_matrix))"
      ],
      "execution_count": null,
      "outputs": [
        {
          "output_type": "stream",
          "text": [
            "Precision:  0.5081967213114754\n",
            "Recall:  0.03471444568868981\n",
            "F1-Score:  0.06498951781970651\n"
          ],
          "name": "stdout"
        }
      ]
    },
    {
      "cell_type": "code",
      "metadata": {
        "id": "icg1KckDaLU_"
      },
      "source": [
        ""
      ],
      "execution_count": null,
      "outputs": []
    }
  ]
}